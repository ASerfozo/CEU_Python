{
 "cells": [
  {
   "cell_type": "markdown",
   "metadata": {},
   "source": [
    "# Fanni Kiss & Attila Serfőző - Python Term Project"
   ]
  },
  {
   "cell_type": "code",
   "execution_count": 1,
   "metadata": {},
   "outputs": [],
   "source": [
    "import pandas as pd\n",
    "import requests\n",
    "import json"
   ]
  },
  {
   "cell_type": "markdown",
   "metadata": {},
   "source": [
    "### Importing the enriched data set from our GitHub repo\n",
    "\n",
    "- HDRO data: Human Development Report Office Statistical Data API\n",
    "- CPI data: Transparency International - Corruption Perception Index (CPI)"
   ]
  },
  {
   "cell_type": "code",
   "execution_count": 64,
   "metadata": {},
   "outputs": [
    {
     "name": "stdout",
     "output_type": "stream",
     "text": [
      "ISO3\n",
      "Employment_ratio-2016\n",
      "Employment_ratio-2019\n",
      "GDP_per_capita-2016\n",
      "GDP_per_capita-2019\n",
      "HDI_index-2016\n",
      "HDI_index-2019\n",
      "Women_in_parliament_(%)-2016\n",
      "Women_in_parliament_(%)-2019\n"
     ]
    }
   ],
   "source": [
    "HDRO_data = pd.read_csv('https://raw.githubusercontent.com/ASerfozo/CEU_Python/main/data/HDRO_data.csv')\n",
    "HDRO_data.head()\n",
    "for col in HDRO_data.columns:\n",
    "    print(col)"
   ]
  },
  {
   "cell_type": "code",
   "execution_count": 65,
   "metadata": {
    "scrolled": true
   },
   "outputs": [
    {
     "name": "stdout",
     "output_type": "stream",
     "text": [
      "Country\n",
      "ISO3\n",
      "Region\n",
      "CPI score 2020\n",
      "Rank 2020\n",
      "Sources 2020\n",
      "Standard error 2020\n",
      "CPI score 2019\n",
      "Rank 2019\n",
      "Sources 2019\n",
      "Standard error 2019\n",
      "CPI score 2018\n",
      "Rank 2018\n",
      "Sources 2018\n",
      "Standard error 2018\n",
      "CPI score 2017\n",
      "Rank 2017\n",
      "Sources 2017\n",
      "Standard error 2017\n",
      "CPI score 2016\n",
      "Rank 2016\n",
      "Sources 2016\n",
      "Standard error 2016\n",
      "CPI score 2015\n",
      "Sources 2015\n",
      "Standard error 2015\n",
      "CPI score 2014\n",
      "Sources 2014\n",
      "Standard error 2014\n",
      "CPI Score 2013\n",
      "Sources 2013\n",
      "Standard error 2013\n",
      "CPI Score 2012\n",
      "Sources 2012\n",
      "Standard error 2012\n"
     ]
    }
   ],
   "source": [
    "CDI_data = pd.read_csv('https://raw.githubusercontent.com/ASerfozo/CEU_Python/main/data/CPI_2020.csv')\n",
    "CDI_data.head()\n",
    "for col in CDI_data.columns:\n",
    "    print(col)"
   ]
  },
  {
   "cell_type": "markdown",
   "metadata": {},
   "source": [
    "Keep only the 2020, 2019 and 2016 CPI data"
   ]
  },
  {
   "cell_type": "code",
   "execution_count": 66,
   "metadata": {},
   "outputs": [],
   "source": [
    "\n",
    "CDI_data = CDI_data[['Country','ISO3','Region','CPI score 2020','Rank 2020','CPI score 2019','Rank 2019','CPI score 2016','Rank 2016']]"
   ]
  },
  {
   "cell_type": "markdown",
   "metadata": {},
   "source": [
    "### Merging HDI and CPI dataframes"
   ]
  },
  {
   "cell_type": "code",
   "execution_count": 67,
   "metadata": {},
   "outputs": [
    {
     "name": "stdout",
     "output_type": "stream",
     "text": [
      "Country\n",
      "ISO3\n",
      "Region\n",
      "CPI score 2020\n",
      "Rank 2020\n",
      "CPI score 2019\n",
      "Rank 2019\n",
      "CPI score 2016\n",
      "Rank 2016\n",
      "Employment_ratio-2016\n",
      "Employment_ratio-2019\n",
      "GDP_per_capita-2016\n",
      "GDP_per_capita-2019\n",
      "HDI_index-2016\n",
      "HDI_index-2019\n",
      "Women_in_parliament_(%)-2016\n",
      "Women_in_parliament_(%)-2019\n"
     ]
    }
   ],
   "source": [
    "df1 = pd.merge(CDI_data, HDRO_data, how = 'inner')\n",
    "for col in df1.columns:\n",
    "    print(col)"
   ]
  },
  {
   "cell_type": "markdown",
   "metadata": {},
   "source": [
    "### EDA"
   ]
  },
  {
   "cell_type": "code",
   "execution_count": null,
   "metadata": {},
   "outputs": [],
   "source": [
    "# Scatterplot about countries"
   ]
  },
  {
   "cell_type": "code",
   "execution_count": null,
   "metadata": {},
   "outputs": [],
   "source": [
    "# Map about countries"
   ]
  },
  {
   "cell_type": "markdown",
   "metadata": {},
   "source": [
    "## Task 1\n",
    "In task 1, we would like to explore the relationship between corruption and the Human Development Index. Firstly, we check the correlation between HDI and the CPI score 2020."
   ]
  },
  {
   "cell_type": "code",
   "execution_count": 68,
   "metadata": {},
   "outputs": [
    {
     "data": {
      "text/plain": [
       "0.7567983382062069"
      ]
     },
     "execution_count": 68,
     "metadata": {},
     "output_type": "execute_result"
    }
   ],
   "source": [
    "df1['CPI score 2019'].corr(df1['HDI_index-2019'])"
   ]
  },
  {
   "cell_type": "markdown",
   "metadata": {},
   "source": [
    "The correlation between HDI and corruption score in 2020 is 0.76, which indicates that the two attributes of a given country are moving together."
   ]
  },
  {
   "cell_type": "code",
   "execution_count": 69,
   "metadata": {},
   "outputs": [],
   "source": [
    "import matplotlib.pyplot as plt"
   ]
  },
  {
   "cell_type": "code",
   "execution_count": 70,
   "metadata": {},
   "outputs": [],
   "source": [
    "%matplotlib inline"
   ]
  },
  {
   "cell_type": "code",
   "execution_count": 71,
   "metadata": {},
   "outputs": [
    {
     "data": {
      "text/plain": [
       "<Figure size 432x288 with 0 Axes>"
      ]
     },
     "execution_count": 71,
     "metadata": {},
     "output_type": "execute_result"
    },
    {
     "data": {
      "text/plain": [
       "<Figure size 432x288 with 0 Axes>"
      ]
     },
     "metadata": {},
     "output_type": "display_data"
    }
   ],
   "source": [
    "plt.figure()"
   ]
  },
  {
   "cell_type": "code",
   "execution_count": 72,
   "metadata": {},
   "outputs": [],
   "source": [
    "import seaborn as sns\n",
    "sns.set(style=\"ticks\")"
   ]
  },
  {
   "cell_type": "code",
   "execution_count": 73,
   "metadata": {},
   "outputs": [
    {
     "data": {
      "text/plain": [
       "<seaborn.axisgrid.FacetGrid at 0x1a5b0942a30>"
      ]
     },
     "execution_count": 73,
     "metadata": {},
     "output_type": "execute_result"
    },
    {
     "data": {
      "image/png": "[encoded data removed]",
      "text/plain": [
       "<Figure size 360x360 with 1 Axes>"
      ]
     },
     "metadata": {},
     "output_type": "display_data"
    }
   ],
   "source": [
    "sns.lmplot(x=\"CPI score 2019\", y=\"HDI_index-2019\", data=df1, lowess = True, palette=\"muted\")"
   ]
  },
  {
   "cell_type": "markdown",
   "metadata": {},
   "source": [
    "If CPI score is increasing (curruption is decreasing), HDI is increasing too. Over a given point (somewhere around CPI=40), the higher corruption score results less higher HDI on average."
   ]
  },
  {
   "cell_type": "code",
   "execution_count": 74,
   "metadata": {},
   "outputs": [],
   "source": [
    "import numpy as np\n",
    "from sklearn.linear_model import LinearRegression\n",
    "from sklearn.model_selection import train_test_split\n",
    "from sklearn import metrics"
   ]
  },
  {
   "cell_type": "markdown",
   "metadata": {},
   "source": [
    "For further analysis, we check if we have missing values in CPI score or HDI. We do have missing values in HDI so we drop those observations."
   ]
  },
  {
   "cell_type": "code",
   "execution_count": 75,
   "metadata": {},
   "outputs": [
    {
     "data": {
      "text/plain": [
       "Country                         False\n",
       "ISO3                            False\n",
       "Region                          False\n",
       "CPI score 2020                  False\n",
       "Rank 2020                       False\n",
       "CPI score 2019                  False\n",
       "Rank 2019                       False\n",
       "CPI score 2016                   True\n",
       "Rank 2016                        True\n",
       "Employment_ratio-2016            True\n",
       "Employment_ratio-2019            True\n",
       "GDP_per_capita-2016              True\n",
       "GDP_per_capita-2019              True\n",
       "HDI_index-2016                   True\n",
       "HDI_index-2019                   True\n",
       "Women_in_parliament_(%)-2016     True\n",
       "Women_in_parliament_(%)-2019     True\n",
       "dtype: bool"
      ]
     },
     "execution_count": 75,
     "metadata": {},
     "output_type": "execute_result"
    }
   ],
   "source": [
    "df1.isnull().any()"
   ]
  },
  {
   "cell_type": "code",
   "execution_count": 76,
   "metadata": {},
   "outputs": [],
   "source": [
    "df1 = df1.dropna(subset=['HDI_index-2019','CPI score 2019'])"
   ]
  },
  {
   "cell_type": "markdown",
   "metadata": {},
   "source": [
    "We set CPI score 2020 as explanatory variable and HDI as dependent variable."
   ]
  },
  {
   "cell_type": "code",
   "execution_count": 77,
   "metadata": {},
   "outputs": [],
   "source": [
    "X = df1[[\"CPI score 2019\"]].values\n",
    "y = df1[\"HDI_index-2019\"].values"
   ]
  },
  {
   "cell_type": "markdown",
   "metadata": {},
   "source": [
    "Let's see the average value of HDI on the plot below."
   ]
  },
  {
   "cell_type": "code",
   "execution_count": 78,
   "metadata": {},
   "outputs": [
    {
     "name": "stderr",
     "output_type": "stream",
     "text": [
      "D:\\Programok\\Anaconda3\\lib\\site-packages\\seaborn\\distributions.py:2551: FutureWarning: `distplot` is a deprecated function and will be removed in a future version. Please adapt your code to use either `displot` (a figure-level function with similar flexibility) or `histplot` (an axes-level function for histograms).\n",
      "  warnings.warn(msg, FutureWarning)\n"
     ]
    },
    {
     "data": {
      "text/plain": [
       "<AxesSubplot:xlabel='HDI_index-2019', ylabel='Density'>"
      ]
     },
     "execution_count": 78,
     "metadata": {},
     "output_type": "execute_result"
    },
    {
     "data": {
      "image/png": "[encoded data removed]",
      "text/plain": [
       "<Figure size 720x360 with 1 Axes>"
      ]
     },
     "metadata": {},
     "output_type": "display_data"
    }
   ],
   "source": [
    "plt.figure(figsize=(10,5))\n",
    "plt.tight_layout()\n",
    "sns.distplot(df1['HDI_index-2019'])\n"
   ]
  },
  {
   "cell_type": "markdown",
   "metadata": {},
   "source": [
    "Next, we split 80% of the data to training set while 20% of the data to test set using below code."
   ]
  },
  {
   "cell_type": "code",
   "execution_count": 79,
   "metadata": {},
   "outputs": [],
   "source": [
    "X_train, X_test, y_train, y_test = train_test_split(X, y, test_size=0.2, random_state=0)"
   ]
  },
  {
   "cell_type": "markdown",
   "metadata": {},
   "source": [
    "Now lets train our model."
   ]
  },
  {
   "cell_type": "code",
   "execution_count": 80,
   "metadata": {},
   "outputs": [
    {
     "data": {
      "text/plain": [
       "LinearRegression()"
      ]
     },
     "execution_count": 80,
     "metadata": {},
     "output_type": "execute_result"
    }
   ],
   "source": [
    "regressor = LinearRegression()  \n",
    "regressor.fit(X_train, y_train)"
   ]
  },
  {
   "cell_type": "code",
   "execution_count": 81,
   "metadata": {},
   "outputs": [
    {
     "data": {
      "text/plain": [
       "(array([0.00635913]),\n",
       " array([[87],\n",
       "        [87],\n",
       "        [86],\n",
       "        [85],\n",
       "        [85],\n",
       "        [85],\n",
       "        [84],\n",
       "        [82],\n",
       "        [80],\n",
       "        [80],\n",
       "        [77],\n",
       "        [77],\n",
       "        [77],\n",
       "        [76],\n",
       "        [75],\n",
       "        [77],\n",
       "        [78],\n",
       "        [74],\n",
       "        [73],\n",
       "        [74],\n",
       "        [71],\n",
       "        [71],\n",
       "        [69],\n",
       "        [68],\n",
       "        [69],\n",
       "        [67],\n",
       "        [66],\n",
       "        [62],\n",
       "        [64],\n",
       "        [62],\n",
       "        [62],\n",
       "        [62],\n",
       "        [59],\n",
       "        [60],\n",
       "        [60],\n",
       "        [61],\n",
       "        [60],\n",
       "        [60],\n",
       "        [59],\n",
       "        [58],\n",
       "        [56],\n",
       "        [56],\n",
       "        [58],\n",
       "        [58],\n",
       "        [55],\n",
       "        [56],\n",
       "        [55],\n",
       "        [56],\n",
       "        [53],\n",
       "        [52],\n",
       "        [53],\n",
       "        [54],\n",
       "        [52],\n",
       "        [53],\n",
       "        [53],\n",
       "        [52],\n",
       "        [53],\n",
       "        [48],\n",
       "        [50],\n",
       "        [48],\n",
       "        [42],\n",
       "        [47],\n",
       "        [48],\n",
       "        [46],\n",
       "        [45],\n",
       "        [45],\n",
       "        [45],\n",
       "        [44],\n",
       "        [44],\n",
       "        [44],\n",
       "        [43],\n",
       "        [43],\n",
       "        [43],\n",
       "        [41],\n",
       "        [29],\n",
       "        [46],\n",
       "        [42],\n",
       "        [42],\n",
       "        [40],\n",
       "        [41],\n",
       "        [45],\n",
       "        [40],\n",
       "        [41],\n",
       "        [40],\n",
       "        [40],\n",
       "        [39],\n",
       "        [41],\n",
       "        [41],\n",
       "        [38],\n",
       "        [40],\n",
       "        [37],\n",
       "        [38],\n",
       "        [44],\n",
       "        [39],\n",
       "        [35],\n",
       "        [38],\n",
       "        [36],\n",
       "        [37],\n",
       "        [37],\n",
       "        [34],\n",
       "        [40],\n",
       "        [37],\n",
       "        [35],\n",
       "        [34],\n",
       "        [36],\n",
       "        [35],\n",
       "        [35],\n",
       "        [37],\n",
       "        [36],\n",
       "        [35],\n",
       "        [36],\n",
       "        [35],\n",
       "        [34],\n",
       "        [32],\n",
       "        [34],\n",
       "        [35],\n",
       "        [33],\n",
       "        [34],\n",
       "        [30],\n",
       "        [34],\n",
       "        [32],\n",
       "        [31],\n",
       "        [32],\n",
       "        [29],\n",
       "        [30],\n",
       "        [28],\n",
       "        [31],\n",
       "        [29],\n",
       "        [31],\n",
       "        [30],\n",
       "        [28],\n",
       "        [29],\n",
       "        [29],\n",
       "        [28],\n",
       "        [28],\n",
       "        [28],\n",
       "        [28],\n",
       "        [29],\n",
       "        [29],\n",
       "        [30],\n",
       "        [28],\n",
       "        [28],\n",
       "        [26],\n",
       "        [26],\n",
       "        [25],\n",
       "        [25],\n",
       "        [26],\n",
       "        [26],\n",
       "        [28],\n",
       "        [26],\n",
       "        [26],\n",
       "        [25],\n",
       "        [24],\n",
       "        [25],\n",
       "        [26],\n",
       "        [24],\n",
       "        [22],\n",
       "        [25],\n",
       "        [20],\n",
       "        [20],\n",
       "        [23],\n",
       "        [20],\n",
       "        [19],\n",
       "        [19],\n",
       "        [19],\n",
       "        [18],\n",
       "        [16],\n",
       "        [18],\n",
       "        [18],\n",
       "        [18],\n",
       "        [16],\n",
       "        [16],\n",
       "        [16],\n",
       "        [15],\n",
       "        [13],\n",
       "        [12]], dtype=int64))"
      ]
     },
     "execution_count": 81,
     "metadata": {},
     "output_type": "execute_result"
    }
   ],
   "source": [
    "regressor.coef_, X"
   ]
  },
  {
   "cell_type": "markdown",
   "metadata": {},
   "source": [
    "Based on the regression above, we can see that the coefficient is 0.00635913, which means that if the corruption score is increased by 1, the HDI is increased by 0.00635913 on average."
   ]
  },
  {
   "cell_type": "markdown",
   "metadata": {},
   "source": [
    "Let's make a prediction based on CPI score 2020 to see, how good predictor corruption is for HDI."
   ]
  },
  {
   "cell_type": "code",
   "execution_count": 82,
   "metadata": {},
   "outputs": [],
   "source": [
    "y_pred = regressor.predict(X_test)"
   ]
  },
  {
   "cell_type": "code",
   "execution_count": 83,
   "metadata": {},
   "outputs": [
    {
     "data": {
      "text/html": [
       "<div>\n",
       "<style scoped>\n",
       "    .dataframe tbody tr th:only-of-type {\n",
       "        vertical-align: middle;\n",
       "    }\n",
       "\n",
       "    .dataframe tbody tr th {\n",
       "        vertical-align: top;\n",
       "    }\n",
       "\n",
       "    .dataframe thead th {\n",
       "        text-align: right;\n",
       "    }\n",
       "</style>\n",
       "<table border=\"1\" class=\"dataframe\">\n",
       "  <thead>\n",
       "    <tr style=\"text-align: right;\">\n",
       "      <th></th>\n",
       "      <th>Actual</th>\n",
       "      <th>Predicted</th>\n",
       "    </tr>\n",
       "  </thead>\n",
       "  <tbody>\n",
       "    <tr>\n",
       "      <th>0</th>\n",
       "      <td>0.854</td>\n",
       "      <td>0.779118</td>\n",
       "    </tr>\n",
       "    <tr>\n",
       "      <th>1</th>\n",
       "      <td>0.539</td>\n",
       "      <td>0.607421</td>\n",
       "    </tr>\n",
       "    <tr>\n",
       "      <th>2</th>\n",
       "      <td>0.625</td>\n",
       "      <td>0.734604</td>\n",
       "    </tr>\n",
       "    <tr>\n",
       "      <th>3</th>\n",
       "      <td>0.646</td>\n",
       "      <td>0.772759</td>\n",
       "    </tr>\n",
       "    <tr>\n",
       "      <th>4</th>\n",
       "      <td>0.557</td>\n",
       "      <td>0.645576</td>\n",
       "    </tr>\n",
       "    <tr>\n",
       "      <th>5</th>\n",
       "      <td>0.496</td>\n",
       "      <td>0.677372</td>\n",
       "    </tr>\n",
       "    <tr>\n",
       "      <th>6</th>\n",
       "      <td>0.944</td>\n",
       "      <td>0.963533</td>\n",
       "    </tr>\n",
       "    <tr>\n",
       "      <th>7</th>\n",
       "      <td>0.594</td>\n",
       "      <td>0.569267</td>\n",
       "    </tr>\n",
       "    <tr>\n",
       "      <th>8</th>\n",
       "      <td>0.824</td>\n",
       "      <td>0.620140</td>\n",
       "    </tr>\n",
       "    <tr>\n",
       "      <th>9</th>\n",
       "      <td>0.796</td>\n",
       "      <td>0.696449</td>\n",
       "    </tr>\n",
       "    <tr>\n",
       "      <th>10</th>\n",
       "      <td>0.524</td>\n",
       "      <td>0.632858</td>\n",
       "    </tr>\n",
       "    <tr>\n",
       "      <th>11</th>\n",
       "      <td>0.720</td>\n",
       "      <td>0.601062</td>\n",
       "    </tr>\n",
       "    <tr>\n",
       "      <th>12</th>\n",
       "      <td>0.938</td>\n",
       "      <td>0.982610</td>\n",
       "    </tr>\n",
       "    <tr>\n",
       "      <th>13</th>\n",
       "      <td>0.485</td>\n",
       "      <td>0.677372</td>\n",
       "    </tr>\n",
       "    <tr>\n",
       "      <th>14</th>\n",
       "      <td>0.511</td>\n",
       "      <td>0.543830</td>\n",
       "    </tr>\n",
       "    <tr>\n",
       "      <th>15</th>\n",
       "      <td>0.806</td>\n",
       "      <td>0.690090</td>\n",
       "    </tr>\n",
       "    <tr>\n",
       "      <th>16</th>\n",
       "      <td>0.919</td>\n",
       "      <td>0.823632</td>\n",
       "    </tr>\n",
       "    <tr>\n",
       "      <th>17</th>\n",
       "      <td>0.919</td>\n",
       "      <td>0.906300</td>\n",
       "    </tr>\n",
       "    <tr>\n",
       "      <th>18</th>\n",
       "      <td>0.851</td>\n",
       "      <td>0.740963</td>\n",
       "    </tr>\n",
       "    <tr>\n",
       "      <th>19</th>\n",
       "      <td>0.895</td>\n",
       "      <td>0.785477</td>\n",
       "    </tr>\n",
       "    <tr>\n",
       "      <th>20</th>\n",
       "      <td>0.512</td>\n",
       "      <td>0.728245</td>\n",
       "    </tr>\n",
       "    <tr>\n",
       "      <th>21</th>\n",
       "      <td>0.838</td>\n",
       "      <td>0.823632</td>\n",
       "    </tr>\n",
       "    <tr>\n",
       "      <th>22</th>\n",
       "      <td>0.955</td>\n",
       "      <td>0.982610</td>\n",
       "    </tr>\n",
       "    <tr>\n",
       "      <th>23</th>\n",
       "      <td>0.697</td>\n",
       "      <td>0.632858</td>\n",
       "    </tr>\n",
       "    <tr>\n",
       "      <th>24</th>\n",
       "      <td>0.776</td>\n",
       "      <td>0.709167</td>\n",
       "    </tr>\n",
       "    <tr>\n",
       "      <th>25</th>\n",
       "      <td>0.815</td>\n",
       "      <td>0.671013</td>\n",
       "    </tr>\n",
       "    <tr>\n",
       "      <th>26</th>\n",
       "      <td>0.601</td>\n",
       "      <td>0.620140</td>\n",
       "    </tr>\n",
       "    <tr>\n",
       "      <th>27</th>\n",
       "      <td>0.668</td>\n",
       "      <td>0.601062</td>\n",
       "    </tr>\n",
       "    <tr>\n",
       "      <th>28</th>\n",
       "      <td>0.774</td>\n",
       "      <td>0.664654</td>\n",
       "    </tr>\n",
       "    <tr>\n",
       "      <th>29</th>\n",
       "      <td>0.715</td>\n",
       "      <td>0.562907</td>\n",
       "    </tr>\n",
       "    <tr>\n",
       "      <th>30</th>\n",
       "      <td>0.796</td>\n",
       "      <td>0.861787</td>\n",
       "    </tr>\n",
       "    <tr>\n",
       "      <th>31</th>\n",
       "      <td>0.810</td>\n",
       "      <td>0.779118</td>\n",
       "    </tr>\n",
       "    <tr>\n",
       "      <th>32</th>\n",
       "      <td>0.728</td>\n",
       "      <td>0.620140</td>\n",
       "    </tr>\n",
       "    <tr>\n",
       "      <th>33</th>\n",
       "      <td>0.812</td>\n",
       "      <td>0.798195</td>\n",
       "    </tr>\n",
       "    <tr>\n",
       "      <th>34</th>\n",
       "      <td>0.947</td>\n",
       "      <td>0.950814</td>\n",
       "    </tr>\n",
       "    <tr>\n",
       "      <th>35</th>\n",
       "      <td>0.759</td>\n",
       "      <td>0.791836</td>\n",
       "    </tr>\n",
       "  </tbody>\n",
       "</table>\n",
       "</div>"
      ],
      "text/plain": [
       "    Actual  Predicted\n",
       "0    0.854   0.779118\n",
       "1    0.539   0.607421\n",
       "2    0.625   0.734604\n",
       "3    0.646   0.772759\n",
       "4    0.557   0.645576\n",
       "5    0.496   0.677372\n",
       "6    0.944   0.963533\n",
       "7    0.594   0.569267\n",
       "8    0.824   0.620140\n",
       "9    0.796   0.696449\n",
       "10   0.524   0.632858\n",
       "11   0.720   0.601062\n",
       "12   0.938   0.982610\n",
       "13   0.485   0.677372\n",
       "14   0.511   0.543830\n",
       "15   0.806   0.690090\n",
       "16   0.919   0.823632\n",
       "17   0.919   0.906300\n",
       "18   0.851   0.740963\n",
       "19   0.895   0.785477\n",
       "20   0.512   0.728245\n",
       "21   0.838   0.823632\n",
       "22   0.955   0.982610\n",
       "23   0.697   0.632858\n",
       "24   0.776   0.709167\n",
       "25   0.815   0.671013\n",
       "26   0.601   0.620140\n",
       "27   0.668   0.601062\n",
       "28   0.774   0.664654\n",
       "29   0.715   0.562907\n",
       "30   0.796   0.861787\n",
       "31   0.810   0.779118\n",
       "32   0.728   0.620140\n",
       "33   0.812   0.798195\n",
       "34   0.947   0.950814\n",
       "35   0.759   0.791836"
      ]
     },
     "execution_count": 83,
     "metadata": {},
     "output_type": "execute_result"
    }
   ],
   "source": [
    "df_pred = pd.DataFrame({'Actual': y_test, 'Predicted': y_pred})\n",
    "\n",
    "df_pred1 = df_pred.head(25)\n",
    "\n",
    "df_pred"
   ]
  },
  {
   "cell_type": "markdown",
   "metadata": {},
   "source": [
    "Based on the metrics below, corruption can be a meaningful predictor of HDI. "
   ]
  },
  {
   "cell_type": "code",
   "execution_count": 84,
   "metadata": {},
   "outputs": [
    {
     "name": "stdout",
     "output_type": "stream",
     "text": [
      "Mean Absolute Error: 0.08539228748237408\n",
      "Mean Squared Error: 0.010544943682237006\n",
      "Root Mean Squared Error: 0.10268857620123577\n"
     ]
    }
   ],
   "source": [
    "print('Mean Absolute Error:', metrics.mean_absolute_error(y_test, y_pred))  \n",
    "print('Mean Squared Error:', metrics.mean_squared_error(y_test, y_pred))  \n",
    "print('Root Mean Squared Error:', np.sqrt(metrics.mean_squared_error(y_test, y_pred)))"
   ]
  },
  {
   "cell_type": "markdown",
   "metadata": {},
   "source": [
    "## Task 2"
   ]
  },
  {
   "cell_type": "code",
   "execution_count": 100,
   "metadata": {},
   "outputs": [
    {
     "data": {
      "text/html": [
       "<div>\n",
       "<style scoped>\n",
       "    .dataframe tbody tr th:only-of-type {\n",
       "        vertical-align: middle;\n",
       "    }\n",
       "\n",
       "    .dataframe tbody tr th {\n",
       "        vertical-align: top;\n",
       "    }\n",
       "\n",
       "    .dataframe thead th {\n",
       "        text-align: right;\n",
       "    }\n",
       "</style>\n",
       "<table border=\"1\" class=\"dataframe\">\n",
       "  <thead>\n",
       "    <tr style=\"text-align: right;\">\n",
       "      <th></th>\n",
       "      <th>Country</th>\n",
       "      <th>ISO3</th>\n",
       "      <th>Region</th>\n",
       "      <th>CPI score 2020</th>\n",
       "      <th>Rank 2020</th>\n",
       "      <th>CPI score 2019</th>\n",
       "      <th>Rank 2019</th>\n",
       "      <th>CPI score 2016</th>\n",
       "      <th>Rank 2016</th>\n",
       "      <th>Employment_ratio-2016</th>\n",
       "      <th>Employment_ratio-2019</th>\n",
       "      <th>GDP_per_capita-2016</th>\n",
       "      <th>GDP_per_capita-2019</th>\n",
       "      <th>HDI_index-2016</th>\n",
       "      <th>HDI_index-2019</th>\n",
       "      <th>Women_in_parliament_(%)-2016</th>\n",
       "      <th>Women_in_parliament_(%)-2019</th>\n",
       "      <th>CPI_Rank_difference</th>\n",
       "    </tr>\n",
       "  </thead>\n",
       "  <tbody>\n",
       "    <tr>\n",
       "      <th>101</th>\n",
       "      <td>Gambia</td>\n",
       "      <td>GMB</td>\n",
       "      <td>SSA</td>\n",
       "      <td>37</td>\n",
       "      <td>102</td>\n",
       "      <td>37</td>\n",
       "      <td>96</td>\n",
       "      <td>26.0</td>\n",
       "      <td>145.0</td>\n",
       "      <td>53.679</td>\n",
       "      <td>54.021</td>\n",
       "      <td>2036.872</td>\n",
       "      <td>2206.913</td>\n",
       "      <td>0.475</td>\n",
       "      <td>0.496</td>\n",
       "      <td>9.434</td>\n",
       "      <td>10.345</td>\n",
       "      <td>49.0</td>\n",
       "    </tr>\n",
       "    <tr>\n",
       "      <th>60</th>\n",
       "      <td>Armenia</td>\n",
       "      <td>ARM</td>\n",
       "      <td>ECA</td>\n",
       "      <td>49</td>\n",
       "      <td>60</td>\n",
       "      <td>42</td>\n",
       "      <td>77</td>\n",
       "      <td>33.0</td>\n",
       "      <td>113.0</td>\n",
       "      <td>46.097</td>\n",
       "      <td>46.173</td>\n",
       "      <td>11303.072</td>\n",
       "      <td>13653.750</td>\n",
       "      <td>0.766</td>\n",
       "      <td>0.776</td>\n",
       "      <td>10.687</td>\n",
       "      <td>23.485</td>\n",
       "      <td>36.0</td>\n",
       "    </tr>\n",
       "    <tr>\n",
       "      <th>80</th>\n",
       "      <td>Argentina</td>\n",
       "      <td>ARG</td>\n",
       "      <td>AME</td>\n",
       "      <td>42</td>\n",
       "      <td>78</td>\n",
       "      <td>45</td>\n",
       "      <td>66</td>\n",
       "      <td>36.0</td>\n",
       "      <td>95.0</td>\n",
       "      <td>55.500</td>\n",
       "      <td>55.301</td>\n",
       "      <td>23189.731</td>\n",
       "      <td>22033.945</td>\n",
       "      <td>0.839</td>\n",
       "      <td>0.845</td>\n",
       "      <td>37.082</td>\n",
       "      <td>39.877</td>\n",
       "      <td>29.0</td>\n",
       "    </tr>\n",
       "    <tr>\n",
       "      <th>91</th>\n",
       "      <td>Ecuador</td>\n",
       "      <td>ECU</td>\n",
       "      <td>AME</td>\n",
       "      <td>39</td>\n",
       "      <td>92</td>\n",
       "      <td>38</td>\n",
       "      <td>93</td>\n",
       "      <td>31.0</td>\n",
       "      <td>120.0</td>\n",
       "      <td>65.264</td>\n",
       "      <td>65.338</td>\n",
       "      <td>11551.617</td>\n",
       "      <td>11375.331</td>\n",
       "      <td>0.758</td>\n",
       "      <td>0.759</td>\n",
       "      <td>41.606</td>\n",
       "      <td>37.956</td>\n",
       "      <td>27.0</td>\n",
       "    </tr>\n",
       "    <tr>\n",
       "      <th>83</th>\n",
       "      <td>Guyana</td>\n",
       "      <td>GUY</td>\n",
       "      <td>AME</td>\n",
       "      <td>41</td>\n",
       "      <td>83</td>\n",
       "      <td>40</td>\n",
       "      <td>85</td>\n",
       "      <td>34.0</td>\n",
       "      <td>108.0</td>\n",
       "      <td>49.419</td>\n",
       "      <td>49.524</td>\n",
       "      <td>8848.151</td>\n",
       "      <td>9702.579</td>\n",
       "      <td>0.676</td>\n",
       "      <td>0.682</td>\n",
       "      <td>30.435</td>\n",
       "      <td>31.884</td>\n",
       "      <td>23.0</td>\n",
       "    </tr>\n",
       "    <tr>\n",
       "      <th>...</th>\n",
       "      <td>...</td>\n",
       "      <td>...</td>\n",
       "      <td>...</td>\n",
       "      <td>...</td>\n",
       "      <td>...</td>\n",
       "      <td>...</td>\n",
       "      <td>...</td>\n",
       "      <td>...</td>\n",
       "      <td>...</td>\n",
       "      <td>...</td>\n",
       "      <td>...</td>\n",
       "      <td>...</td>\n",
       "      <td>...</td>\n",
       "      <td>...</td>\n",
       "      <td>...</td>\n",
       "      <td>...</td>\n",
       "      <td>...</td>\n",
       "      <td>...</td>\n",
       "    </tr>\n",
       "    <tr>\n",
       "      <th>134</th>\n",
       "      <td>Liberia</td>\n",
       "      <td>LBR</td>\n",
       "      <td>SSA</td>\n",
       "      <td>28</td>\n",
       "      <td>137</td>\n",
       "      <td>28</td>\n",
       "      <td>137</td>\n",
       "      <td>37.0</td>\n",
       "      <td>90.0</td>\n",
       "      <td>74.393</td>\n",
       "      <td>74.167</td>\n",
       "      <td>1516.356</td>\n",
       "      <td>1427.819</td>\n",
       "      <td>0.478</td>\n",
       "      <td>0.480</td>\n",
       "      <td>10.680</td>\n",
       "      <td>11.650</td>\n",
       "      <td>-47.0</td>\n",
       "    </tr>\n",
       "    <tr>\n",
       "      <th>26</th>\n",
       "      <td>Seychelles</td>\n",
       "      <td>SYC</td>\n",
       "      <td>SSA</td>\n",
       "      <td>66</td>\n",
       "      <td>27</td>\n",
       "      <td>66</td>\n",
       "      <td>27</td>\n",
       "      <td>NaN</td>\n",
       "      <td>NaN</td>\n",
       "      <td>NaN</td>\n",
       "      <td>NaN</td>\n",
       "      <td>26421.941</td>\n",
       "      <td>29055.749</td>\n",
       "      <td>0.787</td>\n",
       "      <td>0.796</td>\n",
       "      <td>21.212</td>\n",
       "      <td>21.212</td>\n",
       "      <td>NaN</td>\n",
       "    </tr>\n",
       "    <tr>\n",
       "      <th>75</th>\n",
       "      <td>Vanuatu</td>\n",
       "      <td>VUT</td>\n",
       "      <td>AP</td>\n",
       "      <td>43</td>\n",
       "      <td>75</td>\n",
       "      <td>46</td>\n",
       "      <td>64</td>\n",
       "      <td>NaN</td>\n",
       "      <td>NaN</td>\n",
       "      <td>66.791</td>\n",
       "      <td>66.811</td>\n",
       "      <td>3066.322</td>\n",
       "      <td>3143.628</td>\n",
       "      <td>0.598</td>\n",
       "      <td>0.609</td>\n",
       "      <td>0.100</td>\n",
       "      <td>0.100</td>\n",
       "      <td>NaN</td>\n",
       "    </tr>\n",
       "    <tr>\n",
       "      <th>119</th>\n",
       "      <td>Eswatini</td>\n",
       "      <td>SWZ</td>\n",
       "      <td>SSA</td>\n",
       "      <td>33</td>\n",
       "      <td>117</td>\n",
       "      <td>34</td>\n",
       "      <td>113</td>\n",
       "      <td>NaN</td>\n",
       "      <td>NaN</td>\n",
       "      <td>39.917</td>\n",
       "      <td>40.910</td>\n",
       "      <td>8405.799</td>\n",
       "      <td>8688.101</td>\n",
       "      <td>0.588</td>\n",
       "      <td>0.611</td>\n",
       "      <td>14.737</td>\n",
       "      <td>12.121</td>\n",
       "      <td>NaN</td>\n",
       "    </tr>\n",
       "    <tr>\n",
       "      <th>172</th>\n",
       "      <td>Equatorial Guinea</td>\n",
       "      <td>GNQ</td>\n",
       "      <td>SSA</td>\n",
       "      <td>16</td>\n",
       "      <td>174</td>\n",
       "      <td>16</td>\n",
       "      <td>173</td>\n",
       "      <td>NaN</td>\n",
       "      <td>NaN</td>\n",
       "      <td>57.953</td>\n",
       "      <td>57.981</td>\n",
       "      <td>24827.073</td>\n",
       "      <td>18558.004</td>\n",
       "      <td>0.588</td>\n",
       "      <td>0.592</td>\n",
       "      <td>19.653</td>\n",
       "      <td>19.186</td>\n",
       "      <td>NaN</td>\n",
       "    </tr>\n",
       "  </tbody>\n",
       "</table>\n",
       "<p>176 rows × 18 columns</p>\n",
       "</div>"
      ],
      "text/plain": [
       "               Country ISO3 Region  CPI score 2020  Rank 2020  CPI score 2019  \\\n",
       "101             Gambia  GMB    SSA              37        102              37   \n",
       "60             Armenia  ARM    ECA              49         60              42   \n",
       "80           Argentina  ARG    AME              42         78              45   \n",
       "91             Ecuador  ECU    AME              39         92              38   \n",
       "83              Guyana  GUY    AME              41         83              40   \n",
       "..                 ...  ...    ...             ...        ...             ...   \n",
       "134            Liberia  LBR    SSA              28        137              28   \n",
       "26          Seychelles  SYC    SSA              66         27              66   \n",
       "75             Vanuatu  VUT     AP              43         75              46   \n",
       "119           Eswatini  SWZ    SSA              33        117              34   \n",
       "172  Equatorial Guinea  GNQ    SSA              16        174              16   \n",
       "\n",
       "     Rank 2019  CPI score 2016  Rank 2016  Employment_ratio-2016  \\\n",
       "101         96            26.0      145.0                 53.679   \n",
       "60          77            33.0      113.0                 46.097   \n",
       "80          66            36.0       95.0                 55.500   \n",
       "91          93            31.0      120.0                 65.264   \n",
       "83          85            34.0      108.0                 49.419   \n",
       "..         ...             ...        ...                    ...   \n",
       "134        137            37.0       90.0                 74.393   \n",
       "26          27             NaN        NaN                    NaN   \n",
       "75          64             NaN        NaN                 66.791   \n",
       "119        113             NaN        NaN                 39.917   \n",
       "172        173             NaN        NaN                 57.953   \n",
       "\n",
       "     Employment_ratio-2019  GDP_per_capita-2016  GDP_per_capita-2019  \\\n",
       "101                 54.021             2036.872             2206.913   \n",
       "60                  46.173            11303.072            13653.750   \n",
       "80                  55.301            23189.731            22033.945   \n",
       "91                  65.338            11551.617            11375.331   \n",
       "83                  49.524             8848.151             9702.579   \n",
       "..                     ...                  ...                  ...   \n",
       "134                 74.167             1516.356             1427.819   \n",
       "26                     NaN            26421.941            29055.749   \n",
       "75                  66.811             3066.322             3143.628   \n",
       "119                 40.910             8405.799             8688.101   \n",
       "172                 57.981            24827.073            18558.004   \n",
       "\n",
       "     HDI_index-2016  HDI_index-2019  Women_in_parliament_(%)-2016  \\\n",
       "101           0.475           0.496                         9.434   \n",
       "60            0.766           0.776                        10.687   \n",
       "80            0.839           0.845                        37.082   \n",
       "91            0.758           0.759                        41.606   \n",
       "83            0.676           0.682                        30.435   \n",
       "..              ...             ...                           ...   \n",
       "134           0.478           0.480                        10.680   \n",
       "26            0.787           0.796                        21.212   \n",
       "75            0.598           0.609                         0.100   \n",
       "119           0.588           0.611                        14.737   \n",
       "172           0.588           0.592                        19.653   \n",
       "\n",
       "     Women_in_parliament_(%)-2019  CPI_Rank_difference  \n",
       "101                        10.345                 49.0  \n",
       "60                         23.485                 36.0  \n",
       "80                         39.877                 29.0  \n",
       "91                         37.956                 27.0  \n",
       "83                         31.884                 23.0  \n",
       "..                            ...                  ...  \n",
       "134                        11.650                -47.0  \n",
       "26                         21.212                  NaN  \n",
       "75                          0.100                  NaN  \n",
       "119                        12.121                  NaN  \n",
       "172                        19.186                  NaN  \n",
       "\n",
       "[176 rows x 18 columns]"
      ]
     },
     "execution_count": 100,
     "metadata": {},
     "output_type": "execute_result"
    }
   ],
   "source": [
    "df1['CPI_Rank_difference'] = df1[\"Rank 2016\"]-df1[\"Rank 2019\"]\n",
    "df1.sort_values(by=['CPI_Rank_difference'], ascending = False)"
   ]
  },
  {
   "cell_type": "code",
   "execution_count": null,
   "metadata": {},
   "outputs": [],
   "source": [
    "# Top 5 countries or top 10\n",
    "# and their ranking movements on a horizontal bar chart\n",
    "\n",
    "\n"
   ]
  },
  {
   "cell_type": "code",
   "execution_count": null,
   "metadata": {},
   "outputs": [],
   "source": []
  },
  {
   "cell_type": "code",
   "execution_count": null,
   "metadata": {},
   "outputs": [],
   "source": []
  }
 ],
 "metadata": {
  "kernelspec": {
   "display_name": "Python 3",
   "language": "python",
   "name": "python3"
  },
  "language_info": {
   "codemirror_mode": {
    "name": "ipython",
    "version": 3
   },
   "file_extension": ".py",
   "mimetype": "text/x-python",
   "name": "python",
   "nbconvert_exporter": "python",
   "pygments_lexer": "ipython3",
   "version": "3.8.5"
  }
 },
 "nbformat": 4,
 "nbformat_minor": 4
}
