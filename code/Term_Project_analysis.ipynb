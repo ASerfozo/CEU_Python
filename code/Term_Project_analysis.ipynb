{
 "cells": [
  {
   "cell_type": "markdown",
   "metadata": {},
   "source": [
    "# Fanni Kiss & Attila Serfőző - Python Term Project"
   ]
  },
  {
   "cell_type": "code",
   "execution_count": 2,
   "metadata": {},
   "outputs": [],
   "source": [
    "import pandas as pd\n",
    "import requests\n",
    "import json"
   ]
  },
  {
   "cell_type": "markdown",
   "metadata": {},
   "source": [
    "### Importing the enriched data set from our GitHub repo\n",
    "\n",
    "- HDRO data: Human Development Report Office Statistical Data API\n",
    "- CPI data: Transparency International - Corruption Perception Index (CPI)"
   ]
  },
  {
   "cell_type": "code",
   "execution_count": 7,
   "metadata": {},
   "outputs": [
    {
     "name": "stdout",
     "output_type": "stream",
     "text": [
      "ISO3\n",
      "Employment_ratio-2016\n",
      "Employment_ratio-2019\n",
      "GDP_per_capita-2016\n",
      "GDP_per_capita-2019\n",
      "HDI_index-2016\n",
      "HDI_index-2019\n",
      "Women_in_parliament_(%)-2016\n",
      "Women_in_parliament_(%)-2019\n"
     ]
    }
   ],
   "source": [
    "HDRO_data = pd.read_csv('https://raw.githubusercontent.com/ASerfozo/CEU_Python/main/data/HDRO_data.csv')\n",
    "HDRO_data.head()\n",
    "for col in HDRO_data.columns:\n",
    "    print(col)"
   ]
  },
  {
   "cell_type": "code",
   "execution_count": 12,
   "metadata": {
    "scrolled": true
   },
   "outputs": [
    {
     "name": "stdout",
     "output_type": "stream",
     "text": [
      "Country\n",
      "ISO3\n",
      "Region\n",
      "CPI score 2020\n",
      "Rank 2020\n",
      "Sources 2020\n",
      "Standard error 2020\n",
      "CPI score 2019\n",
      "Rank 2019\n",
      "Sources 2019\n",
      "Standard error 2019\n",
      "CPI score 2018\n",
      "Rank 2018\n",
      "Sources 2018\n",
      "Standard error 2018\n",
      "CPI score 2017\n",
      "Rank 2017\n",
      "Sources 2017\n",
      "Standard error 2017\n",
      "CPI score 2016\n",
      "Rank 2016\n",
      "Sources 2016\n",
      "Standard error 2016\n",
      "CPI score 2015\n",
      "Sources 2015\n",
      "Standard error 2015\n",
      "CPI score 2014\n",
      "Sources 2014\n",
      "Standard error 2014\n",
      "CPI Score 2013\n",
      "Sources 2013\n",
      "Standard error 2013\n",
      "CPI Score 2012\n",
      "Sources 2012\n",
      "Standard error 2012\n"
     ]
    }
   ],
   "source": [
    "CDI_data = pd.read_csv('https://raw.githubusercontent.com/ASerfozo/CEU_Python/main/data/CPI_2020.csv')\n",
    "CDI_data.head()\n",
    "for col in CDI_data.columns:\n",
    "    print(col)"
   ]
  },
  {
   "cell_type": "markdown",
   "metadata": {},
   "source": [
    "Keep only the 2020, 2019 and 2016 CPI data"
   ]
  },
  {
   "cell_type": "code",
   "execution_count": 13,
   "metadata": {},
   "outputs": [],
   "source": [
    "\n",
    "CDI_data = CDI_data[['Country','ISO3','Region','CPI score 2020','Rank 2020','CPI score 2019','Rank 2019','CPI score 2016','Rank 2016']]"
   ]
  },
  {
   "cell_type": "markdown",
   "metadata": {},
   "source": [
    "### Merging HDI and CPI dataframes"
   ]
  },
  {
   "cell_type": "code",
   "execution_count": 34,
   "metadata": {},
   "outputs": [
    {
     "name": "stdout",
     "output_type": "stream",
     "text": [
      "Country\n",
      "ISO3\n",
      "Region\n",
      "CPI score 2020\n",
      "Rank 2020\n",
      "CPI score 2019\n",
      "Rank 2019\n",
      "CPI score 2016\n",
      "Rank 2016\n",
      "Employment_ratio-2016\n",
      "Employment_ratio-2019\n",
      "GDP_per_capita-2016\n",
      "GDP_per_capita-2019\n",
      "HDI_index-2016\n",
      "HDI_index-2019\n",
      "Women_in_parliament_(%)-2016\n",
      "Women_in_parliament_(%)-2019\n"
     ]
    }
   ],
   "source": [
    "df1 = pd.merge(CDI_data, HDRO_data, how = 'inner')\n",
    "for col in df1.columns:\n",
    "    print(col)"
   ]
  },
  {
   "cell_type": "markdown",
   "metadata": {},
   "source": [
    "## Task 1\n",
    "In task 1, we would like to explore the relationship between corruption and the Human Development Index. Firstly, we check the correlation between HDI and the CPI score 2020."
   ]
  },
  {
   "cell_type": "code",
   "execution_count": 35,
   "metadata": {},
   "outputs": [
    {
     "data": {
      "text/plain": [
       "0.7608191614272479"
      ]
     },
     "execution_count": 35,
     "metadata": {},
     "output_type": "execute_result"
    }
   ],
   "source": [
    "df1['CPI score 2020'].corr(df1['HDI_index-2019'])"
   ]
  },
  {
   "cell_type": "markdown",
   "metadata": {},
   "source": [
    "The correlation between HDI and corruption score in 2020 is 0.76, which indicates that the two attributes of a given country are moving together."
   ]
  },
  {
   "cell_type": "code",
   "execution_count": 17,
   "metadata": {},
   "outputs": [],
   "source": [
    "import matplotlib.pyplot as plt"
   ]
  },
  {
   "cell_type": "code",
   "execution_count": 18,
   "metadata": {},
   "outputs": [],
   "source": [
    "%matplotlib inline"
   ]
  },
  {
   "cell_type": "code",
   "execution_count": 19,
   "metadata": {},
   "outputs": [
    {
     "data": {
      "text/plain": [
       "<Figure size 432x288 with 0 Axes>"
      ]
     },
     "execution_count": 19,
     "metadata": {},
     "output_type": "execute_result"
    },
    {
     "data": {
      "text/plain": [
       "<Figure size 432x288 with 0 Axes>"
      ]
     },
     "metadata": {},
     "output_type": "display_data"
    }
   ],
   "source": [
    "plt.figure()"
   ]
  },
  {
   "cell_type": "code",
   "execution_count": 20,
   "metadata": {},
   "outputs": [],
   "source": [
    "import seaborn as sns\n",
    "sns.set(style=\"ticks\")"
   ]
  },
  {
   "cell_type": "code",
   "execution_count": 36,
   "metadata": {},
   "outputs": [
    {
     "data": {
      "text/plain": [
       "<seaborn.axisgrid.FacetGrid at 0x2ab0e539d90>"
      ]
     },
     "execution_count": 36,
     "metadata": {},
     "output_type": "execute_result"
    },
    {
     "data": {
      "image/png": "[encoded data removed]",
      "text/plain": [
       "<Figure size 360x360 with 1 Axes>"
      ]
     },
     "metadata": {},
     "output_type": "display_data"
    }
   ],
   "source": [
    "sns.lmplot(x=\"CPI score 2020\", y=\"HDI_index-2019\", data=df1, lowess = True, palette=\"muted\")"
   ]
  },
  {
   "cell_type": "markdown",
   "metadata": {},
   "source": [
    "If CPI score is increasing (curruption is decreasing), HDI is increasing too. Over a given point (somewhere around CPI=40), the higher corruption score results less higher HDI on average."
   ]
  },
  {
   "cell_type": "code",
   "execution_count": 22,
   "metadata": {},
   "outputs": [],
   "source": [
    "import numpy as np\n",
    "from sklearn.linear_model import LinearRegression\n",
    "from sklearn.model_selection import train_test_split\n",
    "from sklearn import metrics"
   ]
  },
  {
   "cell_type": "markdown",
   "metadata": {},
   "source": [
    "For further analysis, we check if we have missing values in CPI score or HDI. We do have missing values in HDI so we drop those observations."
   ]
  },
  {
   "cell_type": "code",
   "execution_count": 42,
   "metadata": {},
   "outputs": [
    {
     "data": {
      "text/plain": [
       "Country                         False\n",
       "ISO3                            False\n",
       "Region                          False\n",
       "CPI score 2020                  False\n",
       "Rank 2020                       False\n",
       "CPI score 2019                  False\n",
       "Rank 2019                       False\n",
       "CPI score 2016                   True\n",
       "Rank 2016                        True\n",
       "Employment_ratio-2016            True\n",
       "Employment_ratio-2019            True\n",
       "GDP_per_capita-2016              True\n",
       "GDP_per_capita-2019              True\n",
       "HDI_index-2016                  False\n",
       "HDI_index-2019                  False\n",
       "Women_in_parliament_(%)-2016     True\n",
       "Women_in_parliament_(%)-2019     True\n",
       "dtype: bool"
      ]
     },
     "execution_count": 42,
     "metadata": {},
     "output_type": "execute_result"
    }
   ],
   "source": [
    "df1.isnull().any()"
   ]
  },
  {
   "cell_type": "code",
   "execution_count": 41,
   "metadata": {},
   "outputs": [],
   "source": [
    "df1 = df1.dropna(subset=['HDI_index-2019','CPI score 2020'])"
   ]
  },
  {
   "cell_type": "markdown",
   "metadata": {},
   "source": [
    "We set CPI score 2020 as explanatory variable and HDI as dependent variable."
   ]
  },
  {
   "cell_type": "code",
   "execution_count": 43,
   "metadata": {},
   "outputs": [],
   "source": [
    "X = df1[[\"CPI score 2020\"]].values\n",
    "y = df1[\"HDI_index-2019\"].values"
   ]
  },
  {
   "cell_type": "markdown",
   "metadata": {},
   "source": [
    "Let's see the average value of HDI on the plot below."
   ]
  },
  {
   "cell_type": "code",
   "execution_count": 44,
   "metadata": {},
   "outputs": [
    {
     "name": "stderr",
     "output_type": "stream",
     "text": [
      "D:\\Programok\\Anaconda3\\lib\\site-packages\\seaborn\\distributions.py:2551: FutureWarning: `distplot` is a deprecated function and will be removed in a future version. Please adapt your code to use either `displot` (a figure-level function with similar flexibility) or `histplot` (an axes-level function for histograms).\n",
      "  warnings.warn(msg, FutureWarning)\n"
     ]
    },
    {
     "data": {
      "text/plain": [
       "<AxesSubplot:xlabel='HDI_index-2019', ylabel='Density'>"
      ]
     },
     "execution_count": 44,
     "metadata": {},
     "output_type": "execute_result"
    },
    {
     "data": {
      "image/png": "[encoded data removed]",
      "text/plain": [
       "<Figure size 720x360 with 1 Axes>"
      ]
     },
     "metadata": {},
     "output_type": "display_data"
    }
   ],
   "source": [
    "plt.figure(figsize=(10,5))\n",
    "plt.tight_layout()\n",
    "sns.distplot(df1['HDI_index-2019'])\n"
   ]
  },
  {
   "cell_type": "markdown",
   "metadata": {},
   "source": [
    "Next, we split 80% of the data to training set while 20% of the data to test set using below code."
   ]
  },
  {
   "cell_type": "code",
   "execution_count": 45,
   "metadata": {},
   "outputs": [],
   "source": [
    "X_train, X_test, y_train, y_test = train_test_split(X, y, test_size=0.2, random_state=0)"
   ]
  },
  {
   "cell_type": "markdown",
   "metadata": {},
   "source": [
    "Now lets train our model."
   ]
  },
  {
   "cell_type": "code",
   "execution_count": 46,
   "metadata": {},
   "outputs": [
    {
     "data": {
      "text/plain": [
       "LinearRegression()"
      ]
     },
     "execution_count": 46,
     "metadata": {},
     "output_type": "execute_result"
    }
   ],
   "source": [
    "regressor = LinearRegression()  \n",
    "regressor.fit(X_train, y_train)"
   ]
  },
  {
   "cell_type": "code",
   "execution_count": 103,
   "metadata": {},
   "outputs": [
    {
     "data": {
      "text/plain": [
       "(array([0.00606271]), array([[88],\n",
       "        [88],\n",
       "        [88],\n",
       "        [88],\n",
       "        [88],\n",
       "        [88],\n",
       "        [85],\n",
       "        [85],\n",
       "        [85],\n",
       "        [85],\n",
       "        [85],\n",
       "        [85],\n",
       "        [85],\n",
       "        [85],\n",
       "        [85],\n",
       "        [85],\n",
       "        [85],\n",
       "        [85],\n",
       "        [84],\n",
       "        [84],\n",
       "        [84],\n",
       "        [82],\n",
       "        [82],\n",
       "        [82],\n",
       "        [80],\n",
       "        [80],\n",
       "        [80],\n",
       "        [80],\n",
       "        [80],\n",
       "        [80],\n",
       "        [77],\n",
       "        [77],\n",
       "        [77],\n",
       "        [77],\n",
       "        [77],\n",
       "        [77],\n",
       "        [77],\n",
       "        [77],\n",
       "        [77],\n",
       "        [77],\n",
       "        [77],\n",
       "        [77],\n",
       "        [76],\n",
       "        [76],\n",
       "        [76],\n",
       "        [76],\n",
       "        [76],\n",
       "        [76],\n",
       "        [75],\n",
       "        [75],\n",
       "        [75],\n",
       "        [75],\n",
       "        [75],\n",
       "        [75],\n",
       "        [74],\n",
       "        [74],\n",
       "        [74],\n",
       "        [72],\n",
       "        [72],\n",
       "        [72],\n",
       "        [71],\n",
       "        [71],\n",
       "        [71],\n",
       "        [71],\n",
       "        [71],\n",
       "        [71],\n",
       "        [69],\n",
       "        [69],\n",
       "        [69],\n",
       "        [68],\n",
       "        [68],\n",
       "        [68],\n",
       "        [67],\n",
       "        [67],\n",
       "        [67],\n",
       "        [67],\n",
       "        [67],\n",
       "        [67],\n",
       "        [66],\n",
       "        [66],\n",
       "        [66],\n",
       "        [64],\n",
       "        [64],\n",
       "        [64],\n",
       "        [63],\n",
       "        [63],\n",
       "        [63],\n",
       "        [63],\n",
       "        [63],\n",
       "        [63],\n",
       "        [62],\n",
       "        [62],\n",
       "        [62],\n",
       "        [61],\n",
       "        [61],\n",
       "        [61],\n",
       "        [61],\n",
       "        [61],\n",
       "        [61],\n",
       "        [60],\n",
       "        [60],\n",
       "        [60],\n",
       "        [60],\n",
       "        [60],\n",
       "        [60],\n",
       "        [60],\n",
       "        [60],\n",
       "        [60],\n",
       "        [60],\n",
       "        [60],\n",
       "        [60],\n",
       "        [60],\n",
       "        [60],\n",
       "        [60],\n",
       "        [59],\n",
       "        [59],\n",
       "        [59],\n",
       "        [58],\n",
       "        [58],\n",
       "        [58],\n",
       "        [57],\n",
       "        [57],\n",
       "        [57],\n",
       "        [57],\n",
       "        [57],\n",
       "        [57],\n",
       "        [57],\n",
       "        [57],\n",
       "        [57],\n",
       "        [56],\n",
       "        [56],\n",
       "        [56],\n",
       "        [56],\n",
       "        [56],\n",
       "        [56],\n",
       "        [56],\n",
       "        [56],\n",
       "        [56],\n",
       "        [55],\n",
       "        [55],\n",
       "        [55],\n",
       "        [54],\n",
       "        [54],\n",
       "        [54],\n",
       "        [54],\n",
       "        [54],\n",
       "        [54],\n",
       "        [54],\n",
       "        [54],\n",
       "        [54],\n",
       "        [53],\n",
       "        [53],\n",
       "        [53],\n",
       "        [53],\n",
       "        [53],\n",
       "        [53],\n",
       "        [53],\n",
       "        [53],\n",
       "        [53],\n",
       "        [53],\n",
       "        [53],\n",
       "        [53],\n",
       "        [53],\n",
       "        [53],\n",
       "        [53],\n",
       "        [51],\n",
       "        [51],\n",
       "        [51],\n",
       "        [51],\n",
       "        [51],\n",
       "        [51],\n",
       "        [50],\n",
       "        [50],\n",
       "        [50],\n",
       "        [49],\n",
       "        [49],\n",
       "        [49],\n",
       "        [49],\n",
       "        [49],\n",
       "        [49],\n",
       "        [49],\n",
       "        [49],\n",
       "        [49],\n",
       "        [47],\n",
       "        [47],\n",
       "        [47],\n",
       "        [47],\n",
       "        [47],\n",
       "        [47],\n",
       "        [47],\n",
       "        [47],\n",
       "        [47],\n",
       "        [47],\n",
       "        [47],\n",
       "        [47],\n",
       "        [45],\n",
       "        [45],\n",
       "        [45],\n",
       "        [45],\n",
       "        [45],\n",
       "        [45],\n",
       "        [44],\n",
       "        [44],\n",
       "        [44],\n",
       "        [44],\n",
       "        [44],\n",
       "        [44],\n",
       "        [44],\n",
       "        [44],\n",
       "        [44],\n",
       "        [44],\n",
       "        [44],\n",
       "        [44],\n",
       "        [44],\n",
       "        [44],\n",
       "        [44],\n",
       "        [44],\n",
       "        [44],\n",
       "        [44],\n",
       "        [43],\n",
       "        [43],\n",
       "        [43],\n",
       "        [43],\n",
       "        [43],\n",
       "        [43],\n",
       "        [43],\n",
       "        [43],\n",
       "        [43],\n",
       "        [42],\n",
       "        [42],\n",
       "        [42],\n",
       "        [42],\n",
       "        [42],\n",
       "        [42],\n",
       "        [42],\n",
       "        [42],\n",
       "        [42],\n",
       "        [42],\n",
       "        [42],\n",
       "        [42],\n",
       "        [42],\n",
       "        [42],\n",
       "        [42],\n",
       "        [41],\n",
       "        [41],\n",
       "        [41],\n",
       "        [41],\n",
       "        [41],\n",
       "        [41],\n",
       "        [41],\n",
       "        [41],\n",
       "        [41],\n",
       "        [40],\n",
       "        [40],\n",
       "        [40],\n",
       "        [40],\n",
       "        [40],\n",
       "        [40],\n",
       "        [40],\n",
       "        [40],\n",
       "        [40],\n",
       "        [40],\n",
       "        [40],\n",
       "        [40],\n",
       "        [40],\n",
       "        [40],\n",
       "        [40],\n",
       "        [40],\n",
       "        [40],\n",
       "        [40],\n",
       "        [39],\n",
       "        [39],\n",
       "        [39],\n",
       "        [39],\n",
       "        [39],\n",
       "        [39],\n",
       "        [38],\n",
       "        [38],\n",
       "        [38],\n",
       "        [38],\n",
       "        [38],\n",
       "        [38],\n",
       "        [38],\n",
       "        [38],\n",
       "        [38],\n",
       "        [38],\n",
       "        [38],\n",
       "        [38],\n",
       "        [38],\n",
       "        [38],\n",
       "        [38],\n",
       "        [38],\n",
       "        [38],\n",
       "        [38],\n",
       "        [38],\n",
       "        [38],\n",
       "        [38],\n",
       "        [38],\n",
       "        [38],\n",
       "        [38],\n",
       "        [37],\n",
       "        [37],\n",
       "        [37],\n",
       "        [37],\n",
       "        [37],\n",
       "        [37],\n",
       "        [36],\n",
       "        [36],\n",
       "        [36],\n",
       "        [36],\n",
       "        [36],\n",
       "        [36],\n",
       "        [36],\n",
       "        [36],\n",
       "        [36],\n",
       "        [36],\n",
       "        [36],\n",
       "        [36],\n",
       "        [36],\n",
       "        [36],\n",
       "        [36],\n",
       "        [36],\n",
       "        [36],\n",
       "        [36],\n",
       "        [35],\n",
       "        [35],\n",
       "        [35],\n",
       "        [35],\n",
       "        [35],\n",
       "        [35],\n",
       "        [35],\n",
       "        [35],\n",
       "        [35],\n",
       "        [35],\n",
       "        [35],\n",
       "        [35],\n",
       "        [34],\n",
       "        [34],\n",
       "        [34],\n",
       "        [34],\n",
       "        [34],\n",
       "        [34],\n",
       "        [33],\n",
       "        [33],\n",
       "        [33],\n",
       "        [33],\n",
       "        [33],\n",
       "        [33],\n",
       "        [33],\n",
       "        [33],\n",
       "        [33],\n",
       "        [33],\n",
       "        [33],\n",
       "        [33],\n",
       "        [33],\n",
       "        [33],\n",
       "        [33],\n",
       "        [33],\n",
       "        [33],\n",
       "        [33],\n",
       "        [32],\n",
       "        [32],\n",
       "        [32],\n",
       "        [31],\n",
       "        [31],\n",
       "        [31],\n",
       "        [31],\n",
       "        [31],\n",
       "        [31],\n",
       "        [31],\n",
       "        [31],\n",
       "        [31],\n",
       "        [31],\n",
       "        [31],\n",
       "        [31],\n",
       "        [31],\n",
       "        [31],\n",
       "        [31],\n",
       "        [30],\n",
       "        [30],\n",
       "        [30],\n",
       "        [30],\n",
       "        [30],\n",
       "        [30],\n",
       "        [30],\n",
       "        [30],\n",
       "        [30],\n",
       "        [30],\n",
       "        [30],\n",
       "        [30],\n",
       "        [30],\n",
       "        [30],\n",
       "        [30],\n",
       "        [29],\n",
       "        [29],\n",
       "        [29],\n",
       "        [29],\n",
       "        [29],\n",
       "        [29],\n",
       "        [29],\n",
       "        [29],\n",
       "        [29],\n",
       "        [28],\n",
       "        [28],\n",
       "        [28],\n",
       "        [28],\n",
       "        [28],\n",
       "        [28],\n",
       "        [28],\n",
       "        [28],\n",
       "        [28],\n",
       "        [28],\n",
       "        [28],\n",
       "        [28],\n",
       "        [28],\n",
       "        [28],\n",
       "        [28],\n",
       "        [27],\n",
       "        [27],\n",
       "        [27],\n",
       "        [27],\n",
       "        [27],\n",
       "        [27],\n",
       "        [27],\n",
       "        [27],\n",
       "        [27],\n",
       "        [27],\n",
       "        [27],\n",
       "        [27],\n",
       "        [26],\n",
       "        [26],\n",
       "        [26],\n",
       "        [26],\n",
       "        [26],\n",
       "        [26],\n",
       "        [26],\n",
       "        [26],\n",
       "        [26],\n",
       "        [25],\n",
       "        [25],\n",
       "        [25],\n",
       "        [25],\n",
       "        [25],\n",
       "        [25],\n",
       "        [25],\n",
       "        [25],\n",
       "        [25],\n",
       "        [25],\n",
       "        [25],\n",
       "        [25],\n",
       "        [25],\n",
       "        [25],\n",
       "        [25],\n",
       "        [25],\n",
       "        [25],\n",
       "        [25],\n",
       "        [25],\n",
       "        [25],\n",
       "        [25],\n",
       "        [25],\n",
       "        [25],\n",
       "        [25],\n",
       "        [24],\n",
       "        [24],\n",
       "        [24],\n",
       "        [24],\n",
       "        [24],\n",
       "        [24],\n",
       "        [22],\n",
       "        [22],\n",
       "        [22],\n",
       "        [21],\n",
       "        [21],\n",
       "        [21],\n",
       "        [21],\n",
       "        [21],\n",
       "        [21],\n",
       "        [21],\n",
       "        [21],\n",
       "        [21],\n",
       "        [21],\n",
       "        [21],\n",
       "        [21],\n",
       "        [21],\n",
       "        [21],\n",
       "        [21],\n",
       "        [19],\n",
       "        [19],\n",
       "        [19],\n",
       "        [19],\n",
       "        [19],\n",
       "        [19],\n",
       "        [19],\n",
       "        [19],\n",
       "        [19],\n",
       "        [19],\n",
       "        [19],\n",
       "        [19],\n",
       "        [19],\n",
       "        [19],\n",
       "        [19],\n",
       "        [18],\n",
       "        [18],\n",
       "        [18],\n",
       "        [18],\n",
       "        [18],\n",
       "        [18],\n",
       "        [17],\n",
       "        [17],\n",
       "        [17],\n",
       "        [16],\n",
       "        [16],\n",
       "        [16],\n",
       "        [16],\n",
       "        [16],\n",
       "        [16],\n",
       "        [15],\n",
       "        [15],\n",
       "        [15],\n",
       "        [15],\n",
       "        [15],\n",
       "        [15],\n",
       "        [14],\n",
       "        [14],\n",
       "        [14],\n",
       "        [12],\n",
       "        [12],\n",
       "        [12]], dtype=int64))"
      ]
     },
     "execution_count": 103,
     "metadata": {},
     "output_type": "execute_result"
    }
   ],
   "source": [
    "regressor.coef_, X"
   ]
  },
  {
   "cell_type": "markdown",
   "metadata": {},
   "source": [
    "Based on the regression above, we can see that the coefficient is 0.00606271, which means that if the corruption score is increased by 1, the HDI is increased by 0.00606271 on average."
   ]
  },
  {
   "cell_type": "markdown",
   "metadata": {},
   "source": [
    "Let's make a prediction based on CPI score 2020 to see, how good predictor corruption is for HDI."
   ]
  },
  {
   "cell_type": "code",
   "execution_count": 47,
   "metadata": {},
   "outputs": [],
   "source": [
    "y_pred = regressor.predict(X_test)"
   ]
  },
  {
   "cell_type": "code",
   "execution_count": 49,
   "metadata": {},
   "outputs": [
    {
     "data": {
      "text/html": [
       "<div>\n",
       "<style scoped>\n",
       "    .dataframe tbody tr th:only-of-type {\n",
       "        vertical-align: middle;\n",
       "    }\n",
       "\n",
       "    .dataframe tbody tr th {\n",
       "        vertical-align: top;\n",
       "    }\n",
       "\n",
       "    .dataframe thead th {\n",
       "        text-align: right;\n",
       "    }\n",
       "</style>\n",
       "<table border=\"1\" class=\"dataframe\">\n",
       "  <thead>\n",
       "    <tr style=\"text-align: right;\">\n",
       "      <th></th>\n",
       "      <th>Actual</th>\n",
       "      <th>Predicted</th>\n",
       "    </tr>\n",
       "  </thead>\n",
       "  <tbody>\n",
       "    <tr>\n",
       "      <th>0</th>\n",
       "      <td>0.854</td>\n",
       "      <td>0.778765</td>\n",
       "    </tr>\n",
       "    <tr>\n",
       "      <th>1</th>\n",
       "      <td>0.539</td>\n",
       "      <td>0.599523</td>\n",
       "    </tr>\n",
       "    <tr>\n",
       "      <th>2</th>\n",
       "      <td>0.625</td>\n",
       "      <td>0.740356</td>\n",
       "    </tr>\n",
       "    <tr>\n",
       "      <th>3</th>\n",
       "      <td>0.646</td>\n",
       "      <td>0.765962</td>\n",
       "    </tr>\n",
       "    <tr>\n",
       "      <th>4</th>\n",
       "      <td>0.557</td>\n",
       "      <td>0.637932</td>\n",
       "    </tr>\n",
       "    <tr>\n",
       "      <th>5</th>\n",
       "      <td>0.496</td>\n",
       "      <td>0.676341</td>\n",
       "    </tr>\n",
       "    <tr>\n",
       "      <th>6</th>\n",
       "      <td>0.944</td>\n",
       "      <td>0.964408</td>\n",
       "    </tr>\n",
       "    <tr>\n",
       "      <th>7</th>\n",
       "      <td>0.594</td>\n",
       "      <td>0.573917</td>\n",
       "    </tr>\n",
       "    <tr>\n",
       "      <th>8</th>\n",
       "      <td>0.824</td>\n",
       "      <td>0.631530</td>\n",
       "    </tr>\n",
       "    <tr>\n",
       "      <th>9</th>\n",
       "      <td>0.796</td>\n",
       "      <td>0.695545</td>\n",
       "    </tr>\n",
       "    <tr>\n",
       "      <th>10</th>\n",
       "      <td>0.524</td>\n",
       "      <td>0.612326</td>\n",
       "    </tr>\n",
       "    <tr>\n",
       "      <th>11</th>\n",
       "      <td>0.720</td>\n",
       "      <td>0.605924</td>\n",
       "    </tr>\n",
       "    <tr>\n",
       "      <th>12</th>\n",
       "      <td>0.938</td>\n",
       "      <td>0.983613</td>\n",
       "    </tr>\n",
       "    <tr>\n",
       "      <th>13</th>\n",
       "      <td>0.485</td>\n",
       "      <td>0.682742</td>\n",
       "    </tr>\n",
       "    <tr>\n",
       "      <th>14</th>\n",
       "      <td>0.511</td>\n",
       "      <td>0.561114</td>\n",
       "    </tr>\n",
       "    <tr>\n",
       "      <th>15</th>\n",
       "      <td>0.806</td>\n",
       "      <td>0.682742</td>\n",
       "    </tr>\n",
       "    <tr>\n",
       "      <th>16</th>\n",
       "      <td>0.919</td>\n",
       "      <td>0.823575</td>\n",
       "    </tr>\n",
       "    <tr>\n",
       "      <th>17</th>\n",
       "      <td>0.919</td>\n",
       "      <td>0.913196</td>\n",
       "    </tr>\n",
       "    <tr>\n",
       "      <th>18</th>\n",
       "      <td>0.851</td>\n",
       "      <td>0.740356</td>\n",
       "    </tr>\n",
       "    <tr>\n",
       "      <th>19</th>\n",
       "      <td>0.895</td>\n",
       "      <td>0.778765</td>\n",
       "    </tr>\n",
       "    <tr>\n",
       "      <th>20</th>\n",
       "      <td>0.512</td>\n",
       "      <td>0.727553</td>\n",
       "    </tr>\n",
       "    <tr>\n",
       "      <th>21</th>\n",
       "      <td>0.838</td>\n",
       "      <td>0.823575</td>\n",
       "    </tr>\n",
       "    <tr>\n",
       "      <th>22</th>\n",
       "      <td>0.955</td>\n",
       "      <td>0.983613</td>\n",
       "    </tr>\n",
       "    <tr>\n",
       "      <th>23</th>\n",
       "      <td>0.697</td>\n",
       "      <td>0.637932</td>\n",
       "    </tr>\n",
       "    <tr>\n",
       "      <th>24</th>\n",
       "      <td>0.776</td>\n",
       "      <td>0.753159</td>\n",
       "    </tr>\n",
       "    <tr>\n",
       "      <th>25</th>\n",
       "      <td>0.815</td>\n",
       "      <td>0.663538</td>\n",
       "    </tr>\n",
       "    <tr>\n",
       "      <th>26</th>\n",
       "      <td>0.601</td>\n",
       "      <td>0.637932</td>\n",
       "    </tr>\n",
       "    <tr>\n",
       "      <th>27</th>\n",
       "      <td>0.668</td>\n",
       "      <td>0.599523</td>\n",
       "    </tr>\n",
       "    <tr>\n",
       "      <th>28</th>\n",
       "      <td>0.774</td>\n",
       "      <td>0.663538</td>\n",
       "    </tr>\n",
       "    <tr>\n",
       "      <th>29</th>\n",
       "      <td>0.715</td>\n",
       "      <td>0.561114</td>\n",
       "    </tr>\n",
       "    <tr>\n",
       "      <th>30</th>\n",
       "      <td>0.796</td>\n",
       "      <td>0.861984</td>\n",
       "    </tr>\n",
       "    <tr>\n",
       "      <th>31</th>\n",
       "      <td>0.810</td>\n",
       "      <td>0.765962</td>\n",
       "    </tr>\n",
       "    <tr>\n",
       "      <th>32</th>\n",
       "      <td>0.728</td>\n",
       "      <td>0.618727</td>\n",
       "    </tr>\n",
       "    <tr>\n",
       "      <th>33</th>\n",
       "      <td>0.812</td>\n",
       "      <td>0.797969</td>\n",
       "    </tr>\n",
       "    <tr>\n",
       "      <th>34</th>\n",
       "      <td>0.947</td>\n",
       "      <td>0.951605</td>\n",
       "    </tr>\n",
       "    <tr>\n",
       "      <th>35</th>\n",
       "      <td>0.759</td>\n",
       "      <td>0.797969</td>\n",
       "    </tr>\n",
       "  </tbody>\n",
       "</table>\n",
       "</div>"
      ],
      "text/plain": [
       "    Actual  Predicted\n",
       "0    0.854   0.778765\n",
       "1    0.539   0.599523\n",
       "2    0.625   0.740356\n",
       "3    0.646   0.765962\n",
       "4    0.557   0.637932\n",
       "5    0.496   0.676341\n",
       "6    0.944   0.964408\n",
       "7    0.594   0.573917\n",
       "8    0.824   0.631530\n",
       "9    0.796   0.695545\n",
       "10   0.524   0.612326\n",
       "11   0.720   0.605924\n",
       "12   0.938   0.983613\n",
       "13   0.485   0.682742\n",
       "14   0.511   0.561114\n",
       "15   0.806   0.682742\n",
       "16   0.919   0.823575\n",
       "17   0.919   0.913196\n",
       "18   0.851   0.740356\n",
       "19   0.895   0.778765\n",
       "20   0.512   0.727553\n",
       "21   0.838   0.823575\n",
       "22   0.955   0.983613\n",
       "23   0.697   0.637932\n",
       "24   0.776   0.753159\n",
       "25   0.815   0.663538\n",
       "26   0.601   0.637932\n",
       "27   0.668   0.599523\n",
       "28   0.774   0.663538\n",
       "29   0.715   0.561114\n",
       "30   0.796   0.861984\n",
       "31   0.810   0.765962\n",
       "32   0.728   0.618727\n",
       "33   0.812   0.797969\n",
       "34   0.947   0.951605\n",
       "35   0.759   0.797969"
      ]
     },
     "execution_count": 49,
     "metadata": {},
     "output_type": "execute_result"
    }
   ],
   "source": [
    "df_pred = pd.DataFrame({'Actual': y_test, 'Predicted': y_pred})\n",
    "\n",
    "df_pred1 = df_pred.head(25)\n",
    "\n",
    "df_pred"
   ]
  },
  {
   "cell_type": "markdown",
   "metadata": {},
   "source": [
    "Based on the metrics below, corruption can be a meaningful predictor of HDI. "
   ]
  },
  {
   "cell_type": "code",
   "execution_count": 50,
   "metadata": {},
   "outputs": [
    {
     "name": "stdout",
     "output_type": "stream",
     "text": [
      "Mean Absolute Error: 0.08476718658534962\n",
      "Mean Squared Error: 0.01041640294649883\n",
      "Root Mean Squared Error: 0.10206078064809632\n"
     ]
    }
   ],
   "source": [
    "print('Mean Absolute Error:', metrics.mean_absolute_error(y_test, y_pred))  \n",
    "print('Mean Squared Error:', metrics.mean_squared_error(y_test, y_pred))  \n",
    "print('Root Mean Squared Error:', np.sqrt(metrics.mean_squared_error(y_test, y_pred)))"
   ]
  },
  {
   "cell_type": "code",
   "execution_count": null,
   "metadata": {},
   "outputs": [],
   "source": []
  }
 ],
 "metadata": {
  "kernelspec": {
   "display_name": "Python 3",
   "language": "python",
   "name": "python3"
  },
  "language_info": {
   "codemirror_mode": {
    "name": "ipython",
    "version": 3
   },
   "file_extension": ".py",
   "mimetype": "text/x-python",
   "name": "python",
   "nbconvert_exporter": "python",
   "pygments_lexer": "ipython3",
   "version": "3.8.5"
  }
 },
 "nbformat": 4,
 "nbformat_minor": 4
}
