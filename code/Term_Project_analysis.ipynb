{
 "cells": [
  {
   "cell_type": "markdown",
   "metadata": {},
   "source": [
    "# Fanni Kiss & Attila Serfőző - Python Term Project"
   ]
  },
  {
   "cell_type": "code",
   "execution_count": 122,
   "metadata": {},
   "outputs": [],
   "source": [
    "import pandas as pd\n",
    "import requests\n",
    "import json\n",
    "import seaborn as sns"
   ]
  },
  {
   "cell_type": "markdown",
   "metadata": {},
   "source": [
    "### Importing the enriched data set from our GitHub repo\n",
    "\n",
    "- HDRO data: Human Development Report Office Statistical Data API\n",
    "- CPI data: Transparency International - Corruption Perception Index (CPI)"
   ]
  },
  {
   "cell_type": "code",
   "execution_count": 64,
   "metadata": {},
   "outputs": [
    {
     "name": "stdout",
     "output_type": "stream",
     "text": [
      "ISO3\n",
      "Employment_ratio-2016\n",
      "Employment_ratio-2019\n",
      "GDP_per_capita-2016\n",
      "GDP_per_capita-2019\n",
      "HDI_index-2016\n",
      "HDI_index-2019\n",
      "Women_in_parliament_(%)-2016\n",
      "Women_in_parliament_(%)-2019\n"
     ]
    }
   ],
   "source": [
    "HDRO_data = pd.read_csv('https://raw.githubusercontent.com/ASerfozo/CEU_Python/main/data/HDRO_data.csv')\n",
    "HDRO_data.head()\n",
    "for col in HDRO_data.columns:\n",
    "    print(col)"
   ]
  },
  {
   "cell_type": "code",
   "execution_count": 65,
   "metadata": {
    "scrolled": true
   },
   "outputs": [
    {
     "name": "stdout",
     "output_type": "stream",
     "text": [
      "Country\n",
      "ISO3\n",
      "Region\n",
      "CPI score 2020\n",
      "Rank 2020\n",
      "Sources 2020\n",
      "Standard error 2020\n",
      "CPI score 2019\n",
      "Rank 2019\n",
      "Sources 2019\n",
      "Standard error 2019\n",
      "CPI score 2018\n",
      "Rank 2018\n",
      "Sources 2018\n",
      "Standard error 2018\n",
      "CPI score 2017\n",
      "Rank 2017\n",
      "Sources 2017\n",
      "Standard error 2017\n",
      "CPI score 2016\n",
      "Rank 2016\n",
      "Sources 2016\n",
      "Standard error 2016\n",
      "CPI score 2015\n",
      "Sources 2015\n",
      "Standard error 2015\n",
      "CPI score 2014\n",
      "Sources 2014\n",
      "Standard error 2014\n",
      "CPI Score 2013\n",
      "Sources 2013\n",
      "Standard error 2013\n",
      "CPI Score 2012\n",
      "Sources 2012\n",
      "Standard error 2012\n"
     ]
    }
   ],
   "source": [
    "CDI_data = pd.read_csv('https://raw.githubusercontent.com/ASerfozo/CEU_Python/main/data/CPI_2020.csv')\n",
    "CDI_data.head()\n",
    "for col in CDI_data.columns:\n",
    "    print(col)"
   ]
  },
  {
   "cell_type": "markdown",
   "metadata": {},
   "source": [
    "Keep only the 2020, 2019 and 2016 CPI data"
   ]
  },
  {
   "cell_type": "code",
   "execution_count": 66,
   "metadata": {},
   "outputs": [],
   "source": [
    "\n",
    "CDI_data = CDI_data[['Country','ISO3','Region','CPI score 2020','Rank 2020','CPI score 2019','Rank 2019','CPI score 2016','Rank 2016']]"
   ]
  },
  {
   "cell_type": "markdown",
   "metadata": {},
   "source": [
    "### Merging HDI and CPI dataframes"
   ]
  },
  {
   "cell_type": "code",
   "execution_count": 67,
   "metadata": {},
   "outputs": [
    {
     "name": "stdout",
     "output_type": "stream",
     "text": [
      "Country\n",
      "ISO3\n",
      "Region\n",
      "CPI score 2020\n",
      "Rank 2020\n",
      "CPI score 2019\n",
      "Rank 2019\n",
      "CPI score 2016\n",
      "Rank 2016\n",
      "Employment_ratio-2016\n",
      "Employment_ratio-2019\n",
      "GDP_per_capita-2016\n",
      "GDP_per_capita-2019\n",
      "HDI_index-2016\n",
      "HDI_index-2019\n",
      "Women_in_parliament_(%)-2016\n",
      "Women_in_parliament_(%)-2019\n"
     ]
    }
   ],
   "source": [
    "df1 = pd.merge(CDI_data, HDRO_data, how = 'inner')\n",
    "for col in df1.columns:\n",
    "    print(col)"
   ]
  },
  {
   "cell_type": "markdown",
   "metadata": {},
   "source": [
    "### Exploratory Data Analysis"
   ]
  },
  {
   "cell_type": "markdown",
   "metadata": {},
   "source": [
    "#### Regions\n",
    "\n",
    "AME   - Americas     \n",
    "AP    - Asia Pacific    \n",
    "ECA   - Eastern Europe & Central Asia       \n",
    "MENA  - Middle East & North Africa     \n",
    "SSA   - Sub-Saharan Africa        \n",
    "WE/EU - Western Europe & EU  "
   ]
  },
  {
   "cell_type": "markdown",
   "metadata": {},
   "source": [
    "Western Europe and the EU perform best overall in the corruption perception index, while East-Europe together with Central Asia  (Turkic countries) is still far from the Western Europe levels. It is also important to notice the large variance in the Asia Pacific and the Americas regions CPI index. In case of Americas the main reason behind is the corruption in South-America compared to the North, while in Asia Pacific the wide variety of political systems cause the difference."
   ]
  },
  {
   "cell_type": "code",
   "execution_count": 185,
   "metadata": {},
   "outputs": [
    {
     "data": {
      "text/plain": [
       "<AxesSubplot:xlabel='Region', ylabel='CPI score 2019'>"
      ]
     },
     "execution_count": 185,
     "metadata": {},
     "output_type": "execute_result"
    },
    {
     "data": {
      "image/png": "[encoded data removed]",
      "text/plain": [
       "<Figure size 432x288 with 1 Axes>"
      ]
     },
     "metadata": {},
     "output_type": "display_data"
    }
   ],
   "source": [
    "sns.boxplot(data=df1, x = 'Region', y = 'CPI score 2019', palette=(\"#01665e\",\"#5ab4ac\",\"#c7eae5\",\"#f6e8c3\",\"#d8b365\",\"#8c510a\"))"
   ]
  },
  {
   "cell_type": "markdown",
   "metadata": {},
   "source": [
    "Looking at the Development Index the eye-cathing is the lag of Sub-Saharan Africa compared to the rest of the world."
   ]
  },
  {
   "cell_type": "code",
   "execution_count": 189,
   "metadata": {},
   "outputs": [
    {
     "data": {
      "text/plain": [
       "<AxesSubplot:xlabel='Region', ylabel='HDI_index-2019'>"
      ]
     },
     "execution_count": 189,
     "metadata": {},
     "output_type": "execute_result"
    },
    {
     "data": {
      "image/png": "[encoded data removed]",
      "text/plain": [
       "<Figure size 432x288 with 1 Axes>"
      ]
     },
     "metadata": {},
     "output_type": "display_data"
    }
   ],
   "source": [
    "sns.boxplot(data=df1, x = 'Region', y = 'HDI_index-2019', palette=(\"#01665e\",\"#5ab4ac\",\"#c7eae5\",\"#f6e8c3\",\"#d8b365\",\"#8c510a\"))"
   ]
  },
  {
   "cell_type": "code",
   "execution_count": 128,
   "metadata": {},
   "outputs": [
    {
     "data": {
      "text/html": [
       "\n",
       "    <div class=\"bk-root\">\n",
       "        <a href=\"https://bokeh.org\" target=\"_blank\" class=\"bk-logo bk-logo-small bk-logo-notebook\"></a>\n",
       "        <span id=\"1460\">Loading BokehJS ...</span>\n",
       "    </div>"
      ]
     },
     "metadata": {},
     "output_type": "display_data"
    },
    {
     "data": {
      "application/javascript": [
       "\n",
       "(function(root) {\n",
       "  function now() {\n",
       "    return new Date();\n",
       "  }\n",
       "\n",
       "  var force = true;\n",
       "\n",
       "  if (typeof root._bokeh_onload_callbacks === \"undefined\" || force === true) {\n",
       "    root._bokeh_onload_callbacks = [];\n",
       "    root._bokeh_is_loading = undefined;\n",
       "  }\n",
       "\n",
       "  var JS_MIME_TYPE = 'application/javascript';\n",
       "  var HTML_MIME_TYPE = 'text/html';\n",
       "  var EXEC_MIME_TYPE = 'application/vnd.bokehjs_exec.v0+json';\n",
       "  var CLASS_NAME = 'output_bokeh rendered_html';\n",
       "\n",
       "  /**\n",
       "   * Render data to the DOM node\n",
       "   */\n",
       "  function render(props, node) {\n",
       "    var script = document.createElement(\"script\");\n",
       "    node.appendChild(script);\n",
       "  }\n",
       "\n",
       "  /**\n",
       "   * Handle when an output is cleared or removed\n",
       "   */\n",
       "  function handleClearOutput(event, handle) {\n",
       "    var cell = handle.cell;\n",
       "\n",
       "    var id = cell.output_area._bokeh_element_id;\n",
       "    var server_id = cell.output_area._bokeh_server_id;\n",
       "    // Clean up Bokeh references\n",
       "    if (id != null && id in Bokeh.index) {\n",
       "      Bokeh.index[id].model.document.clear();\n",
       "      delete Bokeh.index[id];\n",
       "    }\n",
       "\n",
       "    if (server_id !== undefined) {\n",
       "      // Clean up Bokeh references\n",
       "      var cmd = \"from bokeh.io.state import curstate; print(curstate().uuid_to_server['\" + server_id + \"'].get_sessions()[0].document.roots[0]._id)\";\n",
       "      cell.notebook.kernel.execute(cmd, {\n",
       "        iopub: {\n",
       "          output: function(msg) {\n",
       "            var id = msg.content.text.trim();\n",
       "            if (id in Bokeh.index) {\n",
       "              Bokeh.index[id].model.document.clear();\n",
       "              delete Bokeh.index[id];\n",
       "            }\n",
       "          }\n",
       "        }\n",
       "      });\n",
       "      // Destroy server and session\n",
       "      var cmd = \"import bokeh.io.notebook as ion; ion.destroy_server('\" + server_id + \"')\";\n",
       "      cell.notebook.kernel.execute(cmd);\n",
       "    }\n",
       "  }\n",
       "\n",
       "  /**\n",
       "   * Handle when a new output is added\n",
       "   */\n",
       "  function handleAddOutput(event, handle) {\n",
       "    var output_area = handle.output_area;\n",
       "    var output = handle.output;\n",
       "\n",
       "    // limit handleAddOutput to display_data with EXEC_MIME_TYPE content only\n",
       "    if ((output.output_type != \"display_data\") || (!output.data.hasOwnProperty(EXEC_MIME_TYPE))) {\n",
       "      return\n",
       "    }\n",
       "\n",
       "    var toinsert = output_area.element.find(\".\" + CLASS_NAME.split(' ')[0]);\n",
       "\n",
       "    if (output.metadata[EXEC_MIME_TYPE][\"id\"] !== undefined) {\n",
       "      toinsert[toinsert.length - 1].firstChild.textContent = output.data[JS_MIME_TYPE];\n",
       "      // store reference to embed id on output_area\n",
       "      output_area._bokeh_element_id = output.metadata[EXEC_MIME_TYPE][\"id\"];\n",
       "    }\n",
       "    if (output.metadata[EXEC_MIME_TYPE][\"server_id\"] !== undefined) {\n",
       "      var bk_div = document.createElement(\"div\");\n",
       "      bk_div.innerHTML = output.data[HTML_MIME_TYPE];\n",
       "      var script_attrs = bk_div.children[0].attributes;\n",
       "      for (var i = 0; i < script_attrs.length; i++) {\n",
       "        toinsert[toinsert.length - 1].firstChild.setAttribute(script_attrs[i].name, script_attrs[i].value);\n",
       "        toinsert[toinsert.length - 1].firstChild.textContent = bk_div.children[0].textContent\n",
       "      }\n",
       "      // store reference to server id on output_area\n",
       "      output_area._bokeh_server_id = output.metadata[EXEC_MIME_TYPE][\"server_id\"];\n",
       "    }\n",
       "  }\n",
       "\n",
       "  function register_renderer(events, OutputArea) {\n",
       "\n",
       "    function append_mime(data, metadata, element) {\n",
       "      // create a DOM node to render to\n",
       "      var toinsert = this.create_output_subarea(\n",
       "        metadata,\n",
       "        CLASS_NAME,\n",
       "        EXEC_MIME_TYPE\n",
       "      );\n",
       "      this.keyboard_manager.register_events(toinsert);\n",
       "      // Render to node\n",
       "      var props = {data: data, metadata: metadata[EXEC_MIME_TYPE]};\n",
       "      render(props, toinsert[toinsert.length - 1]);\n",
       "      element.append(toinsert);\n",
       "      return toinsert\n",
       "    }\n",
       "\n",
       "    /* Handle when an output is cleared or removed */\n",
       "    events.on('clear_output.CodeCell', handleClearOutput);\n",
       "    events.on('delete.Cell', handleClearOutput);\n",
       "\n",
       "    /* Handle when a new output is added */\n",
       "    events.on('output_added.OutputArea', handleAddOutput);\n",
       "\n",
       "    /**\n",
       "     * Register the mime type and append_mime function with output_area\n",
       "     */\n",
       "    OutputArea.prototype.register_mime_type(EXEC_MIME_TYPE, append_mime, {\n",
       "      /* Is output safe? */\n",
       "      safe: true,\n",
       "      /* Index of renderer in `output_area.display_order` */\n",
       "      index: 0\n",
       "    });\n",
       "  }\n",
       "\n",
       "  // register the mime type if in Jupyter Notebook environment and previously unregistered\n",
       "  if (root.Jupyter !== undefined) {\n",
       "    var events = require('base/js/events');\n",
       "    var OutputArea = require('notebook/js/outputarea').OutputArea;\n",
       "\n",
       "    if (OutputArea.prototype.mime_types().indexOf(EXEC_MIME_TYPE) == -1) {\n",
       "      register_renderer(events, OutputArea);\n",
       "    }\n",
       "  }\n",
       "\n",
       "  \n",
       "  if (typeof (root._bokeh_timeout) === \"undefined\" || force === true) {\n",
       "    root._bokeh_timeout = Date.now() + 5000;\n",
       "    root._bokeh_failed_load = false;\n",
       "  }\n",
       "\n",
       "  var NB_LOAD_WARNING = {'data': {'text/html':\n",
       "     \"<div style='background-color: #fdd'>\\n\"+\n",
       "     \"<p>\\n\"+\n",
       "     \"BokehJS does not appear to have successfully loaded. If loading BokehJS from CDN, this \\n\"+\n",
       "     \"may be due to a slow or bad network connection. Possible fixes:\\n\"+\n",
       "     \"</p>\\n\"+\n",
       "     \"<ul>\\n\"+\n",
       "     \"<li>re-rerun `output_notebook()` to attempt to load from CDN again, or</li>\\n\"+\n",
       "     \"<li>use INLINE resources instead, as so:</li>\\n\"+\n",
       "     \"</ul>\\n\"+\n",
       "     \"<code>\\n\"+\n",
       "     \"from bokeh.resources import INLINE\\n\"+\n",
       "     \"output_notebook(resources=INLINE)\\n\"+\n",
       "     \"</code>\\n\"+\n",
       "     \"</div>\"}};\n",
       "\n",
       "  function display_loaded() {\n",
       "    var el = document.getElementById(\"1460\");\n",
       "    if (el != null) {\n",
       "      el.textContent = \"BokehJS is loading...\";\n",
       "    }\n",
       "    if (root.Bokeh !== undefined) {\n",
       "      if (el != null) {\n",
       "        el.textContent = \"BokehJS \" + root.Bokeh.version + \" successfully loaded.\";\n",
       "      }\n",
       "    } else if (Date.now() < root._bokeh_timeout) {\n",
       "      setTimeout(display_loaded, 100)\n",
       "    }\n",
       "  }\n",
       "\n",
       "\n",
       "  function run_callbacks() {\n",
       "    try {\n",
       "      root._bokeh_onload_callbacks.forEach(function(callback) {\n",
       "        if (callback != null)\n",
       "          callback();\n",
       "      });\n",
       "    } finally {\n",
       "      delete root._bokeh_onload_callbacks\n",
       "    }\n",
       "    console.debug(\"Bokeh: all callbacks have finished\");\n",
       "  }\n",
       "\n",
       "  function load_libs(css_urls, js_urls, callback) {\n",
       "    if (css_urls == null) css_urls = [];\n",
       "    if (js_urls == null) js_urls = [];\n",
       "\n",
       "    root._bokeh_onload_callbacks.push(callback);\n",
       "    if (root._bokeh_is_loading > 0) {\n",
       "      console.debug(\"Bokeh: BokehJS is being loaded, scheduling callback at\", now());\n",
       "      return null;\n",
       "    }\n",
       "    if (js_urls == null || js_urls.length === 0) {\n",
       "      run_callbacks();\n",
       "      return null;\n",
       "    }\n",
       "    console.debug(\"Bokeh: BokehJS not loaded, scheduling load and callback at\", now());\n",
       "    root._bokeh_is_loading = css_urls.length + js_urls.length;\n",
       "\n",
       "    function on_load() {\n",
       "      root._bokeh_is_loading--;\n",
       "      if (root._bokeh_is_loading === 0) {\n",
       "        console.debug(\"Bokeh: all BokehJS libraries/stylesheets loaded\");\n",
       "        run_callbacks()\n",
       "      }\n",
       "    }\n",
       "\n",
       "    function on_error() {\n",
       "      console.error(\"failed to load \" + url);\n",
       "    }\n",
       "\n",
       "    for (var i = 0; i < css_urls.length; i++) {\n",
       "      var url = css_urls[i];\n",
       "      const element = document.createElement(\"link\");\n",
       "      element.onload = on_load;\n",
       "      element.onerror = on_error;\n",
       "      element.rel = \"stylesheet\";\n",
       "      element.type = \"text/css\";\n",
       "      element.href = url;\n",
       "      console.debug(\"Bokeh: injecting link tag for BokehJS stylesheet: \", url);\n",
       "      document.body.appendChild(element);\n",
       "    }\n",
       "\n",
       "    const hashes = {\"https://cdn.bokeh.org/bokeh/release/bokeh-2.2.3.min.js\": \"T2yuo9Oe71Cz/I4X9Ac5+gpEa5a8PpJCDlqKYO0CfAuEszu1JrXLl8YugMqYe3sM\", \"https://cdn.bokeh.org/bokeh/release/bokeh-widgets-2.2.3.min.js\": \"98GDGJ0kOMCUMUePhksaQ/GYgB3+NH9h996V88sh3aOiUNX3N+fLXAtry6xctSZ6\", \"https://cdn.bokeh.org/bokeh/release/bokeh-tables-2.2.3.min.js\": \"89bArO+nlbP3sgakeHjCo1JYxYR5wufVgA3IbUvDY+K7w4zyxJqssu7wVnfeKCq8\"};\n",
       "\n",
       "    for (var i = 0; i < js_urls.length; i++) {\n",
       "      var url = js_urls[i];\n",
       "      var element = document.createElement('script');\n",
       "      element.onload = on_load;\n",
       "      element.onerror = on_error;\n",
       "      element.async = false;\n",
       "      element.src = url;\n",
       "      if (url in hashes) {\n",
       "        element.crossOrigin = \"anonymous\";\n",
       "        element.integrity = \"sha384-\" + hashes[url];\n",
       "      }\n",
       "      console.debug(\"Bokeh: injecting script tag for BokehJS library: \", url);\n",
       "      document.head.appendChild(element);\n",
       "    }\n",
       "  };\n",
       "\n",
       "  function inject_raw_css(css) {\n",
       "    const element = document.createElement(\"style\");\n",
       "    element.appendChild(document.createTextNode(css));\n",
       "    document.body.appendChild(element);\n",
       "  }\n",
       "\n",
       "  \n",
       "  var js_urls = [\"https://cdn.bokeh.org/bokeh/release/bokeh-2.2.3.min.js\", \"https://cdn.bokeh.org/bokeh/release/bokeh-widgets-2.2.3.min.js\", \"https://cdn.bokeh.org/bokeh/release/bokeh-tables-2.2.3.min.js\"];\n",
       "  var css_urls = [];\n",
       "  \n",
       "\n",
       "  var inline_js = [\n",
       "    function(Bokeh) {\n",
       "      Bokeh.set_log_level(\"info\");\n",
       "    },\n",
       "    function(Bokeh) {\n",
       "    \n",
       "    \n",
       "    }\n",
       "  ];\n",
       "\n",
       "  function run_inline_js() {\n",
       "    \n",
       "    if (root.Bokeh !== undefined || force === true) {\n",
       "      \n",
       "    for (var i = 0; i < inline_js.length; i++) {\n",
       "      inline_js[i].call(root, root.Bokeh);\n",
       "    }\n",
       "    if (force === true) {\n",
       "        display_loaded();\n",
       "      }} else if (Date.now() < root._bokeh_timeout) {\n",
       "      setTimeout(run_inline_js, 100);\n",
       "    } else if (!root._bokeh_failed_load) {\n",
       "      console.log(\"Bokeh: BokehJS failed to load within specified timeout.\");\n",
       "      root._bokeh_failed_load = true;\n",
       "    } else if (force !== true) {\n",
       "      var cell = $(document.getElementById(\"1460\")).parents('.cell').data().cell;\n",
       "      cell.output_area.append_execute_result(NB_LOAD_WARNING)\n",
       "    }\n",
       "\n",
       "  }\n",
       "\n",
       "  if (root._bokeh_is_loading === 0) {\n",
       "    console.debug(\"Bokeh: BokehJS loaded, going straight to plotting\");\n",
       "    run_inline_js();\n",
       "  } else {\n",
       "    load_libs(css_urls, js_urls, function() {\n",
       "      console.debug(\"Bokeh: BokehJS plotting callback run at\", now());\n",
       "      run_inline_js();\n",
       "    });\n",
       "  }\n",
       "}(window));"
      ],
      "application/vnd.bokehjs_load.v0+json": "\n(function(root) {\n  function now() {\n    return new Date();\n  }\n\n  var force = true;\n\n  if (typeof root._bokeh_onload_callbacks === \"undefined\" || force === true) {\n    root._bokeh_onload_callbacks = [];\n    root._bokeh_is_loading = undefined;\n  }\n\n  \n\n  \n  if (typeof (root._bokeh_timeout) === \"undefined\" || force === true) {\n    root._bokeh_timeout = Date.now() + 5000;\n    root._bokeh_failed_load = false;\n  }\n\n  var NB_LOAD_WARNING = {'data': {'text/html':\n     \"<div style='background-color: #fdd'>\\n\"+\n     \"<p>\\n\"+\n     \"BokehJS does not appear to have successfully loaded. If loading BokehJS from CDN, this \\n\"+\n     \"may be due to a slow or bad network connection. Possible fixes:\\n\"+\n     \"</p>\\n\"+\n     \"<ul>\\n\"+\n     \"<li>re-rerun `output_notebook()` to attempt to load from CDN again, or</li>\\n\"+\n     \"<li>use INLINE resources instead, as so:</li>\\n\"+\n     \"</ul>\\n\"+\n     \"<code>\\n\"+\n     \"from bokeh.resources import INLINE\\n\"+\n     \"output_notebook(resources=INLINE)\\n\"+\n     \"</code>\\n\"+\n     \"</div>\"}};\n\n  function display_loaded() {\n    var el = document.getElementById(\"1460\");\n    if (el != null) {\n      el.textContent = \"BokehJS is loading...\";\n    }\n    if (root.Bokeh !== undefined) {\n      if (el != null) {\n        el.textContent = \"BokehJS \" + root.Bokeh.version + \" successfully loaded.\";\n      }\n    } else if (Date.now() < root._bokeh_timeout) {\n      setTimeout(display_loaded, 100)\n    }\n  }\n\n\n  function run_callbacks() {\n    try {\n      root._bokeh_onload_callbacks.forEach(function(callback) {\n        if (callback != null)\n          callback();\n      });\n    } finally {\n      delete root._bokeh_onload_callbacks\n    }\n    console.debug(\"Bokeh: all callbacks have finished\");\n  }\n\n  function load_libs(css_urls, js_urls, callback) {\n    if (css_urls == null) css_urls = [];\n    if (js_urls == null) js_urls = [];\n\n    root._bokeh_onload_callbacks.push(callback);\n    if (root._bokeh_is_loading > 0) {\n      console.debug(\"Bokeh: BokehJS is being loaded, scheduling callback at\", now());\n      return null;\n    }\n    if (js_urls == null || js_urls.length === 0) {\n      run_callbacks();\n      return null;\n    }\n    console.debug(\"Bokeh: BokehJS not loaded, scheduling load and callback at\", now());\n    root._bokeh_is_loading = css_urls.length + js_urls.length;\n\n    function on_load() {\n      root._bokeh_is_loading--;\n      if (root._bokeh_is_loading === 0) {\n        console.debug(\"Bokeh: all BokehJS libraries/stylesheets loaded\");\n        run_callbacks()\n      }\n    }\n\n    function on_error() {\n      console.error(\"failed to load \" + url);\n    }\n\n    for (var i = 0; i < css_urls.length; i++) {\n      var url = css_urls[i];\n      const element = document.createElement(\"link\");\n      element.onload = on_load;\n      element.onerror = on_error;\n      element.rel = \"stylesheet\";\n      element.type = \"text/css\";\n      element.href = url;\n      console.debug(\"Bokeh: injecting link tag for BokehJS stylesheet: \", url);\n      document.body.appendChild(element);\n    }\n\n    const hashes = {\"https://cdn.bokeh.org/bokeh/release/bokeh-2.2.3.min.js\": \"T2yuo9Oe71Cz/I4X9Ac5+gpEa5a8PpJCDlqKYO0CfAuEszu1JrXLl8YugMqYe3sM\", \"https://cdn.bokeh.org/bokeh/release/bokeh-widgets-2.2.3.min.js\": \"98GDGJ0kOMCUMUePhksaQ/GYgB3+NH9h996V88sh3aOiUNX3N+fLXAtry6xctSZ6\", \"https://cdn.bokeh.org/bokeh/release/bokeh-tables-2.2.3.min.js\": \"89bArO+nlbP3sgakeHjCo1JYxYR5wufVgA3IbUvDY+K7w4zyxJqssu7wVnfeKCq8\"};\n\n    for (var i = 0; i < js_urls.length; i++) {\n      var url = js_urls[i];\n      var element = document.createElement('script');\n      element.onload = on_load;\n      element.onerror = on_error;\n      element.async = false;\n      element.src = url;\n      if (url in hashes) {\n        element.crossOrigin = \"anonymous\";\n        element.integrity = \"sha384-\" + hashes[url];\n      }\n      console.debug(\"Bokeh: injecting script tag for BokehJS library: \", url);\n      document.head.appendChild(element);\n    }\n  };\n\n  function inject_raw_css(css) {\n    const element = document.createElement(\"style\");\n    element.appendChild(document.createTextNode(css));\n    document.body.appendChild(element);\n  }\n\n  \n  var js_urls = [\"https://cdn.bokeh.org/bokeh/release/bokeh-2.2.3.min.js\", \"https://cdn.bokeh.org/bokeh/release/bokeh-widgets-2.2.3.min.js\", \"https://cdn.bokeh.org/bokeh/release/bokeh-tables-2.2.3.min.js\"];\n  var css_urls = [];\n  \n\n  var inline_js = [\n    function(Bokeh) {\n      Bokeh.set_log_level(\"info\");\n    },\n    function(Bokeh) {\n    \n    \n    }\n  ];\n\n  function run_inline_js() {\n    \n    if (root.Bokeh !== undefined || force === true) {\n      \n    for (var i = 0; i < inline_js.length; i++) {\n      inline_js[i].call(root, root.Bokeh);\n    }\n    if (force === true) {\n        display_loaded();\n      }} else if (Date.now() < root._bokeh_timeout) {\n      setTimeout(run_inline_js, 100);\n    } else if (!root._bokeh_failed_load) {\n      console.log(\"Bokeh: BokehJS failed to load within specified timeout.\");\n      root._bokeh_failed_load = true;\n    } else if (force !== true) {\n      var cell = $(document.getElementById(\"1460\")).parents('.cell').data().cell;\n      cell.output_area.append_execute_result(NB_LOAD_WARNING)\n    }\n\n  }\n\n  if (root._bokeh_is_loading === 0) {\n    console.debug(\"Bokeh: BokehJS loaded, going straight to plotting\");\n    run_inline_js();\n  } else {\n    load_libs(css_urls, js_urls, function() {\n      console.debug(\"Bokeh: BokehJS plotting callback run at\", now());\n      run_inline_js();\n    });\n  }\n}(window));"
     },
     "metadata": {},
     "output_type": "display_data"
    }
   ],
   "source": [
    "import bokeh\n",
    "from bokeh.io import show, output_notebook\n",
    "from bokeh.plotting import figure, ColumnDataSource\n",
    "from bokeh.models import HoverTool\n",
    "output_notebook()"
   ]
  },
  {
   "cell_type": "code",
   "execution_count": 196,
   "metadata": {
    "scrolled": false
   },
   "outputs": [
    {
     "data": {
      "text/html": [
       "\n",
       "\n",
       "\n",
       "\n",
       "\n",
       "\n",
       "  <div class=\"bk-root\" id=\"65e53ff5-5886-4fe9-9804-483bde00fb60\" data-root-id=\"20705\"></div>\n"
      ]
     },
     "metadata": {},
     "output_type": "display_data"
    },
    {
     "data": {
      "application/javascript": [
       "(function(root) {\n",
       "  function embed_document(root) {\n",
       "    \n",
       "  var docs_json = {\"942e6cc1-b149-4ee1-8b2c-2f4518e59ad5\":{\"roots\":{\"references\":[{\"attributes\":{\"below\":[{\"id\":\"20716\"}],\"center\":[{\"id\":\"20719\"},{\"id\":\"20723\"},{\"id\":\"20753\"}],\"left\":[{\"id\":\"20720\"}],\"plot_width\":800,\"renderers\":[{\"id\":\"20743\"},{\"id\":\"20760\"},{\"id\":\"20778\"},{\"id\":\"20798\"},{\"id\":\"20820\"},{\"id\":\"20844\"}],\"title\":{\"id\":\"20706\"},\"toolbar\":{\"id\":\"20731\"},\"x_range\":{\"id\":\"20708\"},\"x_scale\":{\"id\":\"20712\"},\"y_range\":{\"id\":\"20710\"},\"y_scale\":{\"id\":\"20714\"}},\"id\":\"20705\",\"subtype\":\"Figure\",\"type\":\"Plot\"},{\"attributes\":{\"data\":{\"CPI score 2016\":{\"__ndarray__\":\"AAAAAACAVkAAAAAAAABVQAAAAAAAwFNAAAAAAABAU0AAAAAAAABSQAAAAAAAQFBAAAAAAACASkAAAAAAAABNQAAAAAAAgEhAAAAAAAAAQkAAAAAAAAD4fwAAAAAAAEVAAAAAAAAAREAAAAAAAABEQAAAAAAAgEFAAAAAAAAAQkAAAAAAAIBCQAAAAAAAgEFAAAAAAACAQEAAAAAAAABDQAAAAAAAgEFAAAAAAAAAPUAAAAAAAABAQAAAAAAAAD5AAAAAAAAAPEAAAAAAAAA8QAAAAAAAADpAAAAAAAAANUAAAAAAAAAuQA==\",\"dtype\":\"float64\",\"order\":\"little\",\"shape\":[29]},\"CPI score 2019\":[87,85,77,76,73,68,59,60,53,29,46,42,41,41,38,38,40,36,37,35,34,34,32,29,29,28,26,20,16],\"CPI score 2020\":[88,85,77,77,74,68,61,60,51,43,43,42,42,40,40,38,37,36,36,35,34,33,31,29,28,27,26,21,19],\"CPI_Rank_difference\":{\"__ndarray__\":\"AAAAAAAAAAAAAAAAAAAIQAAAAAAAAPA/AAAAAAAA8L8AAAAAAAAAAAAAAAAAAABAAAAAAAAAKkAAAAAAAAAYQAAAAAAAABBAAAAAAACAQcAAAAAAAAD4fwAAAAAAABTAAAAAAAAA8L8AAAAAAADwvwAAAAAAACBAAAAAAAAAAEAAAAAAAAAUQAAAAAAAAAAAAAAAAAAAMUAAAAAAAAAzwAAAAAAAACjAAAAAAAAAMkAAAAAAAAAQwAAAAAAAABzAAAAAAAAAGEAAAAAAAADwvwAAAAAAAPC/AAAAAAAAGMAAAAAAAAAQwA==\",\"dtype\":\"float64\",\"order\":\"little\",\"shape\":[29]},\"Country\":[\"New Zealand\",\"Singapore\",\"Australia\",\"Hong Kong\",\"Japan\",\"Bhutan\",\"Korea, South\",\"Brunei Darussalam\",\"Malaysia\",\"Maldives\",\"Vanuatu\",\"Solomon Islands\",\"China\",\"India\",\"Timor-Leste\",\"Sri Lanka\",\"Indonesia\",\"Thailand\",\"Vietnam\",\"Mongolia\",\"Philippines\",\"Nepal\",\"Pakistan\",\"Laos\",\"Myanmar\",\"Papua New Guinea\",\"Bangladesh\",\"Cambodia\",\"Afghanistan\"],\"Employment_ratio-2016\":{\"__ndarray__\":\"qMZLN4lxUEBqvHSTGAxRQKRwPQrXo05Az/dT46VLTUDTTWIQWElNQOOlm8QgIFBARIts5/s5TkBEi2zn+/lNQCYxCKwcCk9Aku18PzW+T0C0yHa+n7JQQGZmZmZm1lRARIts5/uRUECcxCCwcshHQHsUrkfhyk9A2s73U+NVSkCXbhKDwKpPQIPAyqFF5lBA2/l+arwEU0AcWmQ7339LQFyPwvUoPE5A7FG4HoWLVEB9PzVeumlJQM/3U+Ole1NA5dAi2/mOT0CTGARWDg1HQP3UeOkmEUtA76fGSzdxVEDdJAaBlYNFQA==\",\"dtype\":\"float64\",\"order\":\"little\",\"shape\":[29]},\"Employment_ratio-2019\":{\"__ndarray__\":\"eekmMQjEUEApXI/C9ehQQH9qvHSTCE9A/Knx0k3yTEAOLbKd7ydOQH0/NV66SVBA6Pup8dItTkCIFtnO92NNQPp+arx0E09AnMQgsHJgUECWQ4ts57NQQDvfT42X1lRAMzMzMzNDUEDdJAaBlVNHQJqZmZmZEVBA+n5qvHTTSUBaZDvfTxVQQDEIrBxatFBARrbz/dT4UkAIrBxaZAtMQAisHFpkK01A8tJNYhCoVEAEVg4tsh1JQAIrhxbZflNAYxBYObRYTkBqvHSTGARHQKabxCCwQkxAqvHSTWJwVEDufD81XrpFQA==\",\"dtype\":\"float64\",\"order\":\"little\",\"shape\":[29]},\"GDP_per_capita-2016\":{\"__ndarray__\":\"jGzn+3kP5ED2KFyPODz2QK5H4Xo8uedAmpmZmQle7EAnMQiswH7jQJzEILCSC8VAFK5H4SJ240AlBoGVP7jtQDZeukmc8thAXrpJDKor0UCgGi/dpPSnQN0kBoGVFaJATmIQWPlXykBSuB6Fq9C2QLx0kxgEN6pAgZVDi7z/x0BOYhBYmZHEQCGwcmhxZ9BA/dR46eZvukDsUbgeNV7FQFK4HoULGb5AaZHtfH+spkBSuB6Fq0WxQC/dJAYh8LpAzczMzOyCsUA1XrpJDMGwQDEIrByaoK5AXI/C9egrrUBKDAIrhzGhQA==\",\"dtype\":\"float64\",\"order\":\"little\",\"shape\":[29]},\"GDP_per_capita-2019\":{\"__ndarray__\":\"arx0k/Dw5EDdJAaB18P3QPyp8dKJS+hAyqFFtps+7UCoxks3qTrkQFyPwvW4KMZA3SQGgaXU5EBBYOXQclLuQClcj8Klr9tAZDvfT5V40kDGSzeJQY+oQCuHFtnOfqJAMQisHFp6z0Dz/dR4SWK6QIgW2c43ZqhAgZVDiwyLyUBOYhBYGRLHQHSTGATGB9JA/Knx0i1pv0CcxCCw4grIQAwCK4cWZsFARbbz/ZSxqkCPwvUofFKyQCUGgZVjkr5AlkOLbCcWtEAxCKwcmiOxQOXQItu5kbJAGARWDs0ksUCTGARWjjShQA==\",\"dtype\":\"float64\",\"order\":\"little\",\"shape\":[29]},\"HDI_index-2016\":{\"__ndarray__\":\"xSCwcmiR7T/sUbgehevtP0A1XrpJDO4/wMqhRbbz7T/Jdr6fGi/tP/yp8dJNYuQ/H4XrUbge7T8NAiuHFtnqP5qZmZmZmek/sp3vp8ZL5z+JQWDl0CLjP8HKoUW28+E/rBxaZDvf5z8pXI/C9SjkP4lBYOXQIuM/I9v5fmq86D/l0CLb+X7mP/3UeOkmMeg/kxgEVg4t5j+IFtnO91PnP7tJDAIrh+Y/jZduEoPA4j/y0k1iEFjhP1yPwvUoXOM/arx0kxgE4j/EILByaJHhPzEIrBxaZOM/PN9PjZdu4j+q8dJNYhDgPw==\",\"dtype\":\"float64\",\"order\":\"little\",\"shape\":[29]},\"HDI_index-2019\":{\"__ndarray__\":\"l24Sg8DK7T9qvHSTGATuP2mR7Xw/Ne4/ku18PzVe7j+cxCCwcmjtPyGwcmiR7eQ/HFpkO99P7T83iUFg5dDqP+xRuB6F6+k/rkfhehSu5z+wcmiR7XzjP7+fGi/dJOI/JjEIrBxa6D+kcD0K16PkPzEIrBxaZOM/oBov3SQG6T9g5dAi2/nmP3e+nxov3eg/u0kMAiuH5j8v3SQGgZXnP2Dl0CLb+eY/3SQGgZVD4z9t5/up8dLhPwRWDi2yneM/Di2yne+n4j/D9Shcj8LhP9NNYhBYOeQ/NV66SQwC4z8nMQisHFrgPw==\",\"dtype\":\"float64\",\"order\":\"little\",\"shape\":[29]},\"ISO3\":[\"NZL\",\"SGP\",\"AUS\",\"HKG\",\"JPN\",\"BTN\",\"KOR\",\"BRN\",\"MYS\",\"MDV\",\"VUT\",\"SLB\",\"CHN\",\"IND\",\"TLS\",\"LKA\",\"IDN\",\"THA\",\"VNM\",\"MNG\",\"PHL\",\"NPL\",\"PAK\",\"LAO\",\"MMR\",\"PNG\",\"BGD\",\"KHM\",\"AFG\"],\"Rank 2016\":{\"__ndarray__\":\"AAAAAAAA8D8AAAAAAAAcQAAAAAAAACpAAAAAAAAALkAAAAAAAAA0QAAAAAAAADtAAAAAAAAASkAAAAAAAIBEQAAAAAAAgEtAAAAAAADAV0AAAAAAAAD4fwAAAAAAAFJAAAAAAADAU0AAAAAAAMBTQAAAAAAAQFlAAAAAAADAV0AAAAAAAIBWQAAAAAAAQFlAAAAAAABAXEAAAAAAAMBVQAAAAAAAQFlAAAAAAABgYEAAAAAAAABdQAAAAAAAwF5AAAAAAAAAYUAAAAAAAABhQAAAAAAAIGJAAAAAAACAY0AAAAAAACBlQA==\",\"dtype\":\"float64\",\"order\":\"little\",\"shape\":[29]},\"Rank 2019\":[1,4,12,16,20,25,39,35,51,130,64,77,80,80,93,93,85,101,96,106,113,113,120,130,130,137,146,162,173],\"Rank 2020\":[1,3,11,11,19,24,33,35,57,75,75,78,78,86,86,94,102,104,104,111,115,117,124,134,137,142,146,160,165],\"Region\":[\"AP\",\"AP\",\"AP\",\"AP\",\"AP\",\"AP\",\"AP\",\"AP\",\"AP\",\"AP\",\"AP\",\"AP\",\"AP\",\"AP\",\"AP\",\"AP\",\"AP\",\"AP\",\"AP\",\"AP\",\"AP\",\"AP\",\"AP\",\"AP\",\"AP\",\"AP\",\"AP\",\"AP\",\"AP\"],\"Women_in_parliament_(%)-2016\":{\"__ndarray__\":\"SOF6FK5nP0BPjZduEsM3QNEi2/l+aj9AAAAAAAAA+H8AAAAAAIAqQNEi2/l+qiBAAAAAAAAAMUADK4cW2c4ZQDq0yHa+3ylAu0kMAiuHF0CamZmZmZm5PwAAAAAAAABAc2iR7XyfN0DhehSuR2EnQEFg5dAiO0NA6SYxCKwcF0DLoUW28x0xQHe+nxovXRhAf2q8dJO4OkB7FK5H4RoxQK5H4XoUbj1AFK5H4XqUPUDsUbgehQs0QDEIrBxahDtAZDvfT40XJEA6tMh2vp8FQAAAAAAAADRAE4PAyqEFM0BSuB6F63E7QA==\",\"dtype\":\"float64\",\"order\":\"little\",\"shape\":[29]},\"Women_in_parliament_(%)-2019\":{\"__ndarray__\":\"tMh2vp9qREAAAAAAAAA3QNV46SYxSEJAAAAAAAAA+H/dJAaBlQMtQHSTGARWji5AmG4Sg8CqMEA830+Nly4iQGMQWDm0CC9AMQisHFpkEkCamZmZmZm5P4cW2c73UxBAN4lBYOXwOEBFtvP91PgqQEFg5dAiO0NAoUW28/1UFUBqvHSTGGQxQGq8dJMYRCxAf2q8dJO4OkBoke18P1UxQAaBlUOLDDxATmIQWDnEQEAAAAAAAAA0QDEIrBxahDtAiUFg5dAiJ0CamZmZmZm5P+F6FK5HoTRAxks3iUFAM0BYObTIdj47QA==\",\"dtype\":\"float64\",\"order\":\"little\",\"shape\":[29]},\"index\":[1,5,12,13,18,23,32,37,56,74,75,77,79,86,88,95,100,104,107,109,112,117,122,132,137,140,143,158,166]},\"selected\":{\"id\":\"20769\"},\"selection_policy\":{\"id\":\"20770\"}},\"id\":\"20755\",\"type\":\"ColumnDataSource\"},{\"attributes\":{\"click_policy\":\"mute\",\"items\":[{\"id\":\"20754\"},{\"id\":\"20772\"},{\"id\":\"20792\"},{\"id\":\"20814\"},{\"id\":\"20838\"},{\"id\":\"20864\"}],\"location\":\"top_left\"},\"id\":\"20753\",\"type\":\"Legend\"},{\"attributes\":{\"data_source\":{\"id\":\"20738\"},\"glyph\":{\"id\":\"20740\"},\"hover_glyph\":null,\"muted_glyph\":{\"id\":\"20742\"},\"nonselection_glyph\":{\"id\":\"20741\"},\"selection_glyph\":null,\"view\":{\"id\":\"20744\"}},\"id\":\"20743\",\"type\":\"GlyphRenderer\"},{\"attributes\":{\"fill_alpha\":{\"value\":0.8},\"fill_color\":{\"value\":\"#01665e\"},\"line_alpha\":{\"value\":0.8},\"line_color\":{\"value\":\"#01665e\"},\"size\":{\"units\":\"screen\",\"value\":10},\"x\":{\"field\":\"CPI score 2019\"},\"y\":{\"field\":\"HDI_index-2019\"}},\"id\":\"20740\",\"type\":\"Scatter\"},{\"attributes\":{\"fill_alpha\":{\"value\":0.1},\"fill_color\":{\"value\":\"#01665e\"},\"line_alpha\":{\"value\":0.1},\"line_color\":{\"value\":\"#01665e\"},\"size\":{\"units\":\"screen\",\"value\":10},\"x\":{\"field\":\"CPI score 2019\"},\"y\":{\"field\":\"HDI_index-2019\"}},\"id\":\"20741\",\"type\":\"Scatter\"},{\"attributes\":{\"fill_alpha\":{\"value\":0.8},\"fill_color\":{\"value\":\"#5ab4ac\"},\"line_alpha\":{\"value\":0.8},\"line_color\":{\"value\":\"#5ab4ac\"},\"size\":{\"units\":\"screen\",\"value\":10},\"x\":{\"field\":\"CPI score 2019\"},\"y\":{\"field\":\"HDI_index-2019\"}},\"id\":\"20757\",\"type\":\"Scatter\"},{\"attributes\":{\"label\":{\"value\":\"WE/EU\"},\"renderers\":[{\"id\":\"20743\"}]},\"id\":\"20754\",\"type\":\"LegendItem\"},{\"attributes\":{\"source\":{\"id\":\"20738\"}},\"id\":\"20744\",\"type\":\"CDSView\"},{\"attributes\":{\"fill_alpha\":{\"value\":0.8},\"fill_color\":{\"value\":\"#c7eae5\"},\"line_alpha\":{\"value\":0.8},\"line_color\":{\"value\":\"#c7eae5\"},\"size\":{\"units\":\"screen\",\"value\":10},\"x\":{\"field\":\"CPI score 2019\"},\"y\":{\"field\":\"HDI_index-2019\"}},\"id\":\"20775\",\"type\":\"Scatter\"},{\"attributes\":{},\"id\":\"20749\",\"type\":\"BasicTickFormatter\"},{\"attributes\":{\"fill_alpha\":{\"value\":0.8},\"fill_color\":{\"value\":\"#d8b365\"},\"line_alpha\":{\"value\":0.8},\"line_color\":{\"value\":\"#d8b365\"},\"size\":{\"units\":\"screen\",\"value\":10},\"x\":{\"field\":\"CPI score 2019\"},\"y\":{\"field\":\"HDI_index-2019\"}},\"id\":\"20817\",\"type\":\"Scatter\"},{\"attributes\":{},\"id\":\"20750\",\"type\":\"Selection\"},{\"attributes\":{},\"id\":\"20751\",\"type\":\"UnionRenderers\"},{\"attributes\":{\"fill_alpha\":{\"value\":0.2},\"fill_color\":{\"value\":\"#01665e\"},\"line_alpha\":{\"value\":0.2},\"line_color\":{\"value\":\"#01665e\"},\"size\":{\"units\":\"screen\",\"value\":10},\"x\":{\"field\":\"CPI score 2019\"},\"y\":{\"field\":\"HDI_index-2019\"}},\"id\":\"20742\",\"type\":\"Scatter\"},{\"attributes\":{\"fill_alpha\":{\"value\":0.2},\"fill_color\":{\"value\":\"#5ab4ac\"},\"line_alpha\":{\"value\":0.2},\"line_color\":{\"value\":\"#5ab4ac\"},\"size\":{\"units\":\"screen\",\"value\":10},\"x\":{\"field\":\"CPI score 2019\"},\"y\":{\"field\":\"HDI_index-2019\"}},\"id\":\"20759\",\"type\":\"Scatter\"},{\"attributes\":{},\"id\":\"20862\",\"type\":\"UnionRenderers\"},{\"attributes\":{\"data_source\":{\"id\":\"20815\"},\"glyph\":{\"id\":\"20817\"},\"hover_glyph\":null,\"muted_glyph\":{\"id\":\"20819\"},\"nonselection_glyph\":{\"id\":\"20818\"},\"selection_glyph\":null,\"view\":{\"id\":\"20821\"}},\"id\":\"20820\",\"type\":\"GlyphRenderer\"},{\"attributes\":{\"fill_alpha\":{\"value\":0.8},\"fill_color\":{\"value\":\"#f6e8c3\"},\"line_alpha\":{\"value\":0.8},\"line_color\":{\"value\":\"#f6e8c3\"},\"size\":{\"units\":\"screen\",\"value\":10},\"x\":{\"field\":\"CPI score 2019\"},\"y\":{\"field\":\"HDI_index-2019\"}},\"id\":\"20795\",\"type\":\"Scatter\"},{\"attributes\":{\"fill_alpha\":{\"value\":0.8},\"fill_color\":{\"value\":\"#8c510a\"},\"line_alpha\":{\"value\":0.8},\"line_color\":{\"value\":\"#8c510a\"},\"size\":{\"units\":\"screen\",\"value\":10},\"x\":{\"field\":\"CPI score 2019\"},\"y\":{\"field\":\"HDI_index-2019\"}},\"id\":\"20841\",\"type\":\"Scatter\"},{\"attributes\":{\"source\":{\"id\":\"20815\"}},\"id\":\"20821\",\"type\":\"CDSView\"},{\"attributes\":{\"fill_alpha\":{\"value\":0.2},\"fill_color\":{\"value\":\"#d8b365\"},\"line_alpha\":{\"value\":0.2},\"line_color\":{\"value\":\"#d8b365\"},\"size\":{\"units\":\"screen\",\"value\":10},\"x\":{\"field\":\"CPI score 2019\"},\"y\":{\"field\":\"HDI_index-2019\"}},\"id\":\"20819\",\"type\":\"Scatter\"},{\"attributes\":{\"fill_alpha\":{\"value\":0.1},\"fill_color\":{\"value\":\"#5ab4ac\"},\"line_alpha\":{\"value\":0.1},\"line_color\":{\"value\":\"#5ab4ac\"},\"size\":{\"units\":\"screen\",\"value\":10},\"x\":{\"field\":\"CPI score 2019\"},\"y\":{\"field\":\"HDI_index-2019\"}},\"id\":\"20758\",\"type\":\"Scatter\"},{\"attributes\":{},\"id\":\"20836\",\"type\":\"UnionRenderers\"},{\"attributes\":{\"source\":{\"id\":\"20755\"}},\"id\":\"20761\",\"type\":\"CDSView\"},{\"attributes\":{\"data\":{\"CPI score 2016\":{\"__ndarray__\":\"AAAAAACAVEAAAAAAAMBRQAAAAAAAgFJAAAAAAACAUEAAAAAAAIBOQAAAAAAAgFBAAAAAAAAATkAAAAAAAABNQAAAAAAAAE5AAAAAAACATUAAAAAAAABMQAAAAAAAgEdAAAAAAACAQ0AAAAAAAABCQAAAAAAAAEFAAAAAAACAQUAAAAAAAIBCQAAAAAAAAD9AAAAAAACARkAAAAAAAABEQAAAAAAAgEFAAAAAAAAAQkAAAAAAAABDQAAAAAAAgEBAAAAAAAAAPkAAAAAAAAA/QAAAAAAAAD5AAAAAAAAAPEAAAAAAAAA+QAAAAAAAADpAAAAAAAAANEAAAAAAAAAxQA==\",\"dtype\":\"float64\",\"order\":\"little\",\"shape\":[32]},\"CPI score 2019\":[77,71,69,67,62,64,59,56,55,55,53,48,43,45,40,40,37,38,44,35,36,34,36,31,29,28,28,26,26,22,18,16],\"CPI score 2020\":[77,71,67,67,64,63,59,57,56,55,53,47,44,42,41,40,39,39,38,38,38,36,35,31,31,28,28,25,24,22,18,15],\"CPI_Rank_difference\":{\"__ndarray__\":\"AAAAAAAACMAAAAAAAAAAAAAAAAAAABTAAAAAAAAAAMAAAAAAAADwPwAAAAAAABTAAAAAAAAAEMAAAAAAAAAIwAAAAAAAACrAAAAAAAAAJMAAAAAAAAAUwAAAAAAAAAAAAAAAAAAAIkAAAAAAAAA9QAAAAAAAADdAAAAAAAAAMEAAAAAAAAAYwAAAAAAAADtAAAAAAAAAGMAAAAAAAAA7wAAAAAAAAAAAAAAAAAAAMsAAAAAAAAAswAAAAAAAACTAAAAAAAAAHMAAAAAAAAAxwAAAAAAAACzAAAAAAAAAJMAAAAAAAAA3wAAAAAAAADDAAAAAAAAAIsAAAAAAAAAcwA==\",\"dtype\":\"float64\",\"order\":\"little\",\"shape\":[32]},\"Country\":[\"Canada\",\"Uruguay\",\"United States of America\",\"Chile\",\"Barbados\",\"Bahamas\",\"Saint Vincent and the Grenadines\",\"Costa Rica\",\"Saint Lucia\",\"Dominica\",\"Grenada\",\"Cuba\",\"Jamaica\",\"Argentina\",\"Guyana\",\"Trinidad and Tobago\",\"Colombia\",\"Ecuador\",\"Suriname\",\"Brazil\",\"Peru\",\"El Salvador\",\"Panama\",\"Bolivia\",\"Mexico\",\"Dominican Republic\",\"Paraguay\",\"Guatemala\",\"Honduras\",\"Nicaragua\",\"Haiti\",\"Venezuela\"],\"Employment_ratio-2016\":{\"__ndarray__\":\"pHA9CtdzTkAEVg4tss1NQFTjpZvEkE1AeOkmMQjsTEDkpZvEINBNQGiR7Xw/TVBAqvHSTWKQSkDFILByaCFLQAAAAAAAUEpAAAAAAAAA+H8AAAAAAAD4f/YoXI/CdUpAwMqhRbaDTEAAAAAAAMBLQBKDwMqhtUhADi2yne+nTUB7FK5H4bpPQDeJQWDlUFBAuB6F61HYR0CMbOf7qTFMQNnO91PjJVJAGARWDi1yTEBBYOXQIptPQOomMQisVFBACtejcD0qTUAOLbKd77dNQLKd76fGq1BAz/dT46UrTkC0yHa+n9pOQDMzMzMz409AppvEILCyTECsHFpkO69MQA==\",\"dtype\":\"float64\",\"order\":\"little\",\"shape\":[32]},\"Employment_ratio-2019\":{\"__ndarray__\":\"fT81Xrq5TkC7SQwCKzdNQFK4HoXr4U1AYOXQItsZTUBYObTIdj5NQD0K16NwtVBAne+nxku3SkB0kxgEVl5LQJduEoPAmkpAAAAAAAAA+H8AAAAAAAD4f0SLbOf7WUpAc2iR7XxfTkBKDAIrh6ZLQE+Nl24Sw0hAI9v5fmosTUBcj8L1KAxPQBODwMqhVVBA4XoUrkexR0CF61G4HhVMQHnpJjEIxFJAL90kBoFVTEADK4cW2f5PQCUGgZVDU1FAkxgEVg5NTUAOLbKd70dOQOOlm8QgKFFAf2q8dJNoTkA/NV66SURQQDvfT42X7k5ASgwCK4f2TEAGgZVDizxLQA==\",\"dtype\":\"float64\",\"order\":\"little\",\"shape\":[32]},\"GDP_per_capita-2016\":{\"__ndarray__\":\"+n5qvDBL50Do+6nxil/UQBSuR+GS0uxAWDm0yGYq10B46SYxGL3OQHe+nxpPZ+FAHFpkOz/Cx0ACK4cWCSjSQFK4HoVLWsxAppvEIGC9x0CBlUOL/H7OQAAAAAAAAPh/4XoUrmenwkBYObTIbqXWQNnO91MTSMFAdJMYBF6Q2kCWQ4tsNwHMQNEi2/nOj8ZAtMh2vu+sz0CgGi/dNDfMQHjpJjHYOchAPQrXo9A6wEDy0k1ieKbcQAwCK4dGBcBAsp3vpw4n00BkO99PTZPPQKRwPQqnvsdAmG4Sg+AGwEC/nxovnRO1QFTjpZvks7ZAPQrXo3CYm0AAAAAAAAD4fw==\",\"dtype\":\"float64\",\"order\":\"little\",\"shape\":[32]},\"GDP_per_capita-2019\":{\"__ndarray__\":\"j8L1KOzw50AX2c73Qw7VQJqZmZlZm+5Abef7qYmo10DXo3A9aovOQMZLN4nZeOFASOF6FB5ZyEBvEoPAmi7TQIPAyqFlLM5AO99Pjce9x0BeukkMYtbQQAAAAAAAAPh/WmQ7378Qw0CuR+F6fITVQDEIrBxK88JAc2iR7fyP2UB7FK5HccXMQH0/NV6qN8ZAiBbZzlfkz0AshxbZzp3MQHsUrkfxF8lAkxgEVv4jwUAIrBxarLjeQHNoke08CsFARIts55tI00AEVg4twvzRQDZeuklMxshApHA9CsfewEBOYhBY+V+2QBSuR+EaH7VAcT0K16MDm0AAAAAAAAD4fw==\",\"dtype\":\"float64\",\"order\":\"little\",\"shape\":[32]},\"HDI_index-2016\":{\"__ndarray__\":\"76fGSzeJ7T/sUbgehevpPxsv3SQGge0/CtejcD0K6z/AyqFFtvPpP+xRuB6F6+k/sXJoke185z9uEoPAyqHpP6rx0k1iEOg/rkfhehSu5z946SYxCKzoPyPb+X5qvOg/MQisHFpk5z8NAiuHFtnqP24Sg8DKoeU/8tJNYhBY6T9SuB6F61HoP6jGSzeJQeg/hetRuB6F5z+oxks3iUHoP3sUrkfheug/Rbbz/dR45T/D9Shcj8LpPxFYObTIduY/+n5qvHST6D8tsp3vp8bnP7TIdr6fGuc/TDeJQWDl5D/VeOkmMQjkP6AaL90kBuU/AAAAAAAA4D99PzVeuknoPw==\",\"dtype\":\"float64\",\"order\":\"little\",\"shape\":[32]},\"HDI_index-2019\":{\"__ndarray__\":\"7nw/NV667T+/nxov3STqP24Sg8DKoe0/CKwcWmQ76z9ANV66SQzqP0A1XrpJDOo/BFYOLbKd5z/sUbgehevpP30/NV66Seg/WDm0yHa+5z8hsHJoke3oP3STGARWDuk/sXJoke185z8K16NwPQrrP23n+6nx0uU/Rbbz/dR46T8lBoGVQ4voP30/NV66Seg/BFYOLbKd5z97FK5H4XroP3e+nxov3eg/76fGSzeJ5T8UrkfhehTqP2Dl0CLb+eY/IbByaJHt6D/91HjpJjHoP7Kd76fGS+c/ne+nxks35T99PzVeuknkPx+F61G4HuU/UrgehetR4D+Nl24Sg8DmPw==\",\"dtype\":\"float64\",\"order\":\"little\",\"shape\":[32]},\"ISO3\":[\"CAN\",\"URY\",\"USA\",\"CHL\",\"BRB\",\"BHS\",\"VCT\",\"CRI\",\"LCA\",\"DMA\",\"GRD\",\"CUB\",\"JAM\",\"ARG\",\"GUY\",\"TTO\",\"COL\",\"ECU\",\"SUR\",\"BRA\",\"PER\",\"SLV\",\"PAN\",\"BOL\",\"MEX\",\"DOM\",\"PRY\",\"GTM\",\"HND\",\"NIC\",\"HTI\",\"VEN\"],\"Rank 2016\":{\"__ndarray__\":\"AAAAAAAAIkAAAAAAAAA1QAAAAAAAADJAAAAAAAAAOEAAAAAAAAA/QAAAAAAAADhAAAAAAACAQUAAAAAAAIBEQAAAAAAAgEFAAAAAAAAAQ0AAAAAAAABHQAAAAAAAAE5AAAAAAADAVEAAAAAAAMBXQAAAAAAAAFtAAAAAAABAWUAAAAAAAIBWQAAAAAAAAF5AAAAAAAAAUEAAAAAAAMBTQAAAAAAAQFlAAAAAAADAV0AAAAAAAMBVQAAAAAAAQFxAAAAAAADAXkAAAAAAAABeQAAAAAAAwF5AAAAAAAAAYUAAAAAAAMBeQAAAAAAAIGJAAAAAAADgY0AAAAAAAMBkQA==\",\"dtype\":\"float64\",\"order\":\"little\",\"shape\":[32]},\"Rank 2019\":[12,21,23,26,30,29,39,44,48,48,51,60,74,66,85,85,96,93,70,106,101,113,101,123,130,137,137,146,146,161,168,173],\"Rank 2020\":[11,21,25,25,29,30,40,42,45,48,52,63,69,78,83,86,92,92,94,94,94,104,111,124,124,137,137,149,157,159,170,176],\"Region\":[\"AME\",\"AME\",\"AME\",\"AME\",\"AME\",\"AME\",\"AME\",\"AME\",\"AME\",\"AME\",\"AME\",\"AME\",\"AME\",\"AME\",\"AME\",\"AME\",\"AME\",\"AME\",\"AME\",\"AME\",\"AME\",\"AME\",\"AME\",\"AME\",\"AME\",\"AME\",\"AME\",\"AME\",\"AME\",\"AME\",\"AME\",\"AME\"],\"Women_in_parliament_(%)-2016\":{\"__ndarray__\":\"2s73U+PFPUBBYOXQIjszQAaBlUOLjDNATDeJQWClL0DP91PjpZszQJhuEoPAqjBAvHSTGAQWKkC0yHa+n6pAQHE9CtejsDRAAAAAAADgNUAAAAAAAAA5QCGwcmiRbUhAPzVeukkMM0DRItv5fopCQI/C9Shcbz5AbhKDwMqBP0BMN4lBYOU0QCGwcmiRzURAPQrXo3B9OUBANV66SYwlQP3UeOkmsTtA/Knx0k0SQECPwvUoXE8yQJ3vp8ZL50lAPQrXo3BNREBt5/up8VI4QM3MzMzMzDBADQIrhxbZK0AOLbKd78c5QPp+arx000ZAmpmZmZmZuT/KoUW2870sQA==\",\"dtype\":\"float64\",\"order\":\"little\",\"shape\":[32]},\"Women_in_parliament_(%)-2019\":{\"__ndarray__\":\"gZVDi2yXQECuR+F6FO40QLTIdr6fujdAJjEIrBy6NkC28/3UeGk9QMUgsHJo0TVAvHSTGAQWKkA730+Nl85GQHE9CtejsDRAAAAAAAAAOUD4U+Olm6RDQAaBlUOLnEpAPzVeukkMM0DGSzeJQfBDQPyp8dJN4j9Axks3iUFwQEBxPQrXo5AzQO18PzVe+kJAc2iR7XxfP0Cd76fGS/ctQAAAAAAAAD5AwMqhRbbzPkCNl24SgyA1QJ3vp8ZL50lATmIQWDk0SEBt5/up8VI4QM3MzMzMzDBAAAAAAABgM0Dy0k1iEBg1QLgehetRSEZA7FG4HoXrBUAOLbKd7yc2QA==\",\"dtype\":\"float64\",\"order\":\"little\",\"shape\":[32]},\"index\":[10,20,24,25,27,28,38,40,44,46,50,62,72,80,83,89,90,91,92,94,96,103,110,121,123,135,136,147,154,156,168,173]},\"selected\":{\"id\":\"20789\"},\"selection_policy\":{\"id\":\"20790\"}},\"id\":\"20773\",\"type\":\"ColumnDataSource\"},{\"attributes\":{},\"id\":\"20835\",\"type\":\"Selection\"},{\"attributes\":{\"data_source\":{\"id\":\"20755\"},\"glyph\":{\"id\":\"20757\"},\"hover_glyph\":null,\"muted_glyph\":{\"id\":\"20759\"},\"nonselection_glyph\":{\"id\":\"20758\"},\"selection_glyph\":null,\"view\":{\"id\":\"20761\"}},\"id\":\"20760\",\"type\":\"GlyphRenderer\"},{\"attributes\":{},\"id\":\"20770\",\"type\":\"UnionRenderers\"},{\"attributes\":{},\"id\":\"20769\",\"type\":\"Selection\"},{\"attributes\":{\"label\":{\"value\":\"SSA\"},\"renderers\":[{\"id\":\"20820\"}]},\"id\":\"20838\",\"type\":\"LegendItem\"},{\"attributes\":{},\"id\":\"20714\",\"type\":\"LinearScale\"},{\"attributes\":{\"data\":{\"CPI score 2016\":{\"__ndarray__\":\"AAAAAACAVkAAAAAAAEBWQAAAAAAAAFZAAAAAAACAVUAAAAAAAEBVQAAAAAAAwFRAAAAAAABAVEAAAAAAAEBUQAAAAAAAQFRAAAAAAABAU0AAAAAAAMBSQAAAAAAAgFNAAAAAAACAUUAAAAAAAEBSQAAAAAAAQFFAAAAAAAAATUAAAAAAAABPQAAAAAAAgE5AAAAAAACATUAAAAAAAIBMQAAAAAAAgEtAAAAAAAAAT0AAAAAAAIBLQAAAAAAAgEtAAAAAAACAR0AAAAAAAABGQAAAAAAAgElAAAAAAACASEAAAAAAAABIQAAAAAAAAEhAAAAAAACAREA=\",\"dtype\":\"float64\",\"order\":\"little\",\"shape\":[31]},\"CPI score 2019\":[87,86,85,85,84,82,80,80,77,75,77,78,74,74,69,62,62,60,60,56,58,58,56,54,53,48,50,47,44,44,43],\"CPI score 2020\":[88,85,85,85,84,82,80,80,77,76,76,75,75,72,69,62,61,60,60,57,57,56,54,53,53,50,49,47,44,44,44],\"CPI_Rank_difference\":{\"__ndarray__\":\"AAAAAAAAAAAAAAAAAAAAAAAAAAAAAAAAAAAAAAAA8D8AAAAAAADwvwAAAAAAAAAAAAAAAAAA8D8AAAAAAADwPwAAAAAAAADAAAAAAAAAAMAAAAAAAAAUQAAAAAAAAAhAAAAAAAAAEEAAAAAAAADwPwAAAAAAAAAAAAAAAAAAJkAAAAAAAADwvwAAAAAAABDAAAAAAAAACEAAAAAAAAAAAAAAAAAAABhAAAAAAAAAKMAAAAAAAAAIQAAAAAAAAAjAAAAAAAAAIkAAAAAAAAAiQAAAAAAAABTAAAAAAAAAIMAAAAAAAAAqwAAAAAAAACrAAAAAAAAA8D8=\",\"dtype\":\"float64\",\"order\":\"little\",\"shape\":[31]},\"Country\":[\"Denmark\",\"Finland\",\"Sweden\",\"Switzerland\",\"Norway\",\"Netherlands\",\"Germany\",\"Luxembourg\",\"United Kingdom\",\"Belgium\",\"Austria\",\"Iceland\",\"Estonia\",\"Ireland\",\"France\",\"Spain\",\"Portugal\",\"Slovenia\",\"Lithuania\",\"Latvia\",\"Cyprus\",\"Poland\",\"Czechia\",\"Malta\",\"Italy\",\"Greece\",\"Slovakia\",\"Croatia\",\"Hungary\",\"Romania\",\"Bulgaria\"],\"Employment_ratio-2016\":{\"__ndarray__\":\"MzMzMzOzTUApXI/C9ahKQLbz/dR4yU1ABoGVQ4tMUEB0kxgEVq5OQKjGSzeJ8U1AJjEIrBzqTEBuEoPAykFLQI2XbhKDwE1A1HjpJjGISEADK4cW2W5MQM/3U+Ol21JAyXa+nxpfTUD2KFyPwpVMQIXrUbge5UhAWDm0yHZuR0Av3SQGgQVKQJzEILByGEpAhetRuB7lS0Bt5/up8WJLQHjpJjEI/EpAvHSTGASmSkA2XrpJDOJMQO58PzVeSkpAw/UoXI/CRUC28/3UePlDQOSlm8QgIEtAIbByaJE9RkBqvHSTGHRKQPP91HjpRklA+n5qvHSzSEA=\",\"dtype\":\"float64\",\"order\":\"little\",\"shape\":[31]},\"Employment_ratio-2019\":{\"__ndarray__\":\"2/l+aryUTUBI4XoUrpdLQFTjpZvEME5A8tJNYhBIUEASg8DKodVOQEFg5dAiy05AX7pJDAJ7TUCmm8QgsBJMQARWDi2yLU5ARbbz/dRISUAGgZVDi+xMQJqZmZmZOVJAgZVDi2wnTkAbL90kBoFNQD0K16NwPUlAsp3vp8a7SEBfukkMAotLQL+fGi/d9EtAJjEIrBzaTEBOYhBYObRMQCPb+X5qPE1AIbByaJFdS0CMbOf7qbFNQNR46SYxSEtApHA9CtdTRkB46SYxCGxFQD0K16NwHUxAN4lBYOXQR0CgGi/dJEZLQDvfT42XPkpACKwcWmR7SkA=\",\"dtype\":\"float64\",\"order\":\"little\",\"shape\":[31]},\"GDP_per_capita-2016\":{\"__ndarray__\":\"eOkmMUyF6kCyne+nMormQBFYObSEculAWmQ736lA8EAUrkfhSkfuQK5H4XqoaupAqMZLN0Vb6UAlBoGVGbn7QGDl0CKXLuZAne+nxjNm6EAv3SQGCTfqQO+nxkv3kOpA6SYxCERF30DtfD81qNTxQJZDi2xPceVA76fGSzPT4kBBYOXQ2iPfQGQ730/5FOFAexSuRyk+30BOYhBYyZHaQO18PzXa1eFAnMQgsGIQ3EBeukkMxg7iQD81XrodluNA76fGS7MJ5EDpJjEIRO7bQEFg5dASVt1AjGzn+6Hh2EB/arx0o5HbQBfZzveLpdhAke18P0UC1EA=\",\"dtype\":\"float64\",\"order\":\"little\",\"shape\":[31]},\"GDP_per_capita-2019\":{\"__ndarray__\":\"BFYOLQbs60AshxbZor3nQBKDwMqh+ulABoGVQz3B8EAGgZVDIxLvQHE9Cter5utA4XoUrutG6kCBlUOLGPP7QG3n+6lpzeZATmIQWHk/6UDXo3A9DoTrQE+Nl24+SOtA1XjpJs3s4UDXo3A91i/1QBFYObTwjOZAZmZmZmr240CHFtnOv/3gQBgEVg4Z5OJAwcqhRd4N4kD8qfHShRveQPyp8dIVT+NArkfheswn4EDZzvdTR6/jQGZmZmaGKeVAexSuR5W15EBjEFg5pJrdQClcj8IRA+BAAyuHFiHX20A6tMh2ttvfQLKd76c+Nd1Az/dT49WM1kA=\",\"dtype\":\"float64\",\"order\":\"little\",\"shape\":[31]},\"HDI_index-2016\":{\"__ndarray__\":\"7FG4HoXr7T9t5/up8dLtPxSuR+F6FO4/6Pup8dJN7j9mZmZmZmbuP8DKoUW28+0/6SYxCKwc7j8fhetRuB7tP8UgsHJoke0/xSCwcmiR7T/y0k1iEFjtP+kmMQisHO4//dR46SYx7D+TGARWDi3uP8/3U+Olm+w/+FPjpZvE7D9cj8L1KFzrP83MzMzMzOw/WDm0yHa+6z+IFtnO91PrP1YOLbKd7+s/AyuHFtnO6z/6fmq8dJPsP1K4HoXrUew/fT81XrpJ7D8shxbZzvfrP7Kd76fGS+s/tvP91Hjp6j82XrpJDALrPz0K16NwPeo/wMqhRbbz6T8=\",\"dtype\":\"float64\",\"order\":\"little\",\"shape\":[31]},\"HDI_index-2019\":{\"__ndarray__\":\"FK5H4XoU7j9qvHSTGATuPz0K16NwPe4/j8L1KFyP7j86tMh2vp/uP2mR7Xw/Ne4/6Pup8dJN7j8cWmQ730/tP23n+6nx0u0/l24Sg8DK7T8bL90kBoHtP5LtfD81Xu4/JQaBlUOL7D+PwvUoXI/uP6FFtvP91Ow/IbByaJHt7D/azvdT46XrP/LSTWIQWO0/001iEFg57D+DwMqhRbbrP/yp8dJNYuw/KVyPwvUo7D/NzMzMzMzsP6RwPQrXo+w/JQaBlUOL7D/RItv5fmrsP4XrUbgehes/CKwcWmQ76z+IFtnO91PrP+XQItv5fuo/6SYxCKwc6j8=\",\"dtype\":\"float64\",\"order\":\"little\",\"shape\":[31]},\"ISO3\":[\"DNK\",\"FIN\",\"SWE\",\"CHE\",\"NOR\",\"NLD\",\"DEU\",\"LUX\",\"GBR\",\"BEL\",\"AUT\",\"ISL\",\"EST\",\"IRL\",\"FRA\",\"ESP\",\"PRT\",\"SVN\",\"LTU\",\"LVA\",\"CYP\",\"POL\",\"CZE\",\"MLT\",\"ITA\",\"GRC\",\"SVK\",\"HRV\",\"HUN\",\"ROU\",\"BGR\"],\"Rank 2016\":{\"__ndarray__\":\"AAAAAAAA8D8AAAAAAAAIQAAAAAAAABBAAAAAAAAAFEAAAAAAAAAYQAAAAAAAACBAAAAAAAAAJEAAAAAAAAAkQAAAAAAAACRAAAAAAAAALkAAAAAAAAAxQAAAAAAAACxAAAAAAAAANkAAAAAAAAAzQAAAAAAAADdAAAAAAACAREAAAAAAAAA9QAAAAAAAAD9AAAAAAAAAQ0AAAAAAAABGQAAAAAAAgEdAAAAAAAAAPUAAAAAAAIBHQAAAAAAAgEdAAAAAAAAATkAAAAAAAEBRQAAAAAAAAEtAAAAAAACAS0AAAAAAAIBMQAAAAAAAgExAAAAAAADAUkA=\",\"dtype\":\"float64\",\"order\":\"little\",\"shape\":[31]},\"Rank 2019\":[1,3,4,4,7,8,9,9,12,17,12,11,18,18,23,30,30,35,35,44,41,41,44,50,51,60,59,63,70,70,74],\"Rank 2020\":[1,3,3,3,7,8,9,9,11,15,15,17,17,20,23,32,33,35,35,42,42,45,49,52,52,59,60,63,69,69,69],\"Region\":[\"WE/EU\",\"WE/EU\",\"WE/EU\",\"WE/EU\",\"WE/EU\",\"WE/EU\",\"WE/EU\",\"WE/EU\",\"WE/EU\",\"WE/EU\",\"WE/EU\",\"WE/EU\",\"WE/EU\",\"WE/EU\",\"WE/EU\",\"WE/EU\",\"WE/EU\",\"WE/EU\",\"WE/EU\",\"WE/EU\",\"WE/EU\",\"WE/EU\",\"WE/EU\",\"WE/EU\",\"WE/EU\",\"WE/EU\",\"WE/EU\",\"WE/EU\",\"WE/EU\",\"WE/EU\",\"WE/EU\"],\"Women_in_parliament_(%)-2016\":{\"__ndarray__\":\"16NwPQq3QkAAAAAAAMBEQBFYObTIxkVA6SYxCKzcPEDD9Shcj9JDQEa28/3UOEJABFYOLbJtQkBpke18P1U8QA0CK4cWWTtAVOOlm8QwRUCIFtnO91M+QKwcWmQ7z0dAT42XbhLDN0AcWmQ73084QHsUrkfhujlAxCCwcmhRQ0BOYhBYOWRBQP3UeOkmsTtA8/3UeOlGNUAAAAAAAAAyQAisHFpk2zFAGARWDi3SOED4U+Olm6QzQBFYObTItilAbef7qfESPkCYbhKDwKozQAAAAAAAADRA0SLb+X4qKUDByqFFtjMkQPP91Hjp5idAmG4Sg8BqNEA=\",\"dtype\":\"float64\",\"order\":\"little\",\"shape\":[31]},\"Women_in_parliament_(%)-2019\":{\"__ndarray__\":\"IbByaJGNQ0AAAAAAAIBHQN0kBoGVo0dAyXa+nxpPQ0BEi2zn+2lEQN0kBoGV40BAH4XrUbieP0AAAAAAAAA5QGMQWDm06DxAtMh2vp+qRUAzMzMzM0NDQFyPwvUoDENAiBbZzvezPUAcWmQ73084QB+F61G4bkJABFYOLbLtREAMAiuHFllDQAMrhxbZTjZA8/3UeOlGNUAAAAAAAAA+QAisHFpk2zFACKwcWmTbO0BqvHSTGKQ0QJqZmZmZ2S1AjGzn+6mhQUCXbhKDwKo0QAAAAAAAADRASOF6FK6HNEDGSzeJQSApQFK4HoXrkTNAaZHtfD/VOUA=\",\"dtype\":\"float64\",\"order\":\"little\",\"shape\":[31]},\"index\":[0,2,3,4,6,7,8,9,11,14,15,16,17,19,22,30,31,34,36,41,42,43,47,51,53,57,58,61,67,68,70]},\"selected\":{\"id\":\"20750\"},\"selection_policy\":{\"id\":\"20751\"}},\"id\":\"20738\",\"type\":\"ColumnDataSource\"},{\"attributes\":{\"label\":{\"value\":\"AP\"},\"renderers\":[{\"id\":\"20760\"}]},\"id\":\"20772\",\"type\":\"LegendItem\"},{\"attributes\":{\"text\":\"Human Development Index vs Corruption Perception Index 2019\"},\"id\":\"20706\",\"type\":\"Title\"},{\"attributes\":{\"data_source\":{\"id\":\"20839\"},\"glyph\":{\"id\":\"20841\"},\"hover_glyph\":null,\"muted_glyph\":{\"id\":\"20843\"},\"nonselection_glyph\":{\"id\":\"20842\"},\"selection_glyph\":null,\"view\":{\"id\":\"20845\"}},\"id\":\"20844\",\"type\":\"GlyphRenderer\"},{\"attributes\":{\"fill_alpha\":{\"value\":0.2},\"fill_color\":{\"value\":\"#f6e8c3\"},\"line_alpha\":{\"value\":0.2},\"line_color\":{\"value\":\"#f6e8c3\"},\"size\":{\"units\":\"screen\",\"value\":10},\"x\":{\"field\":\"CPI score 2019\"},\"y\":{\"field\":\"HDI_index-2019\"}},\"id\":\"20797\",\"type\":\"Scatter\"},{\"attributes\":{},\"id\":\"20708\",\"type\":\"DataRange1d\"},{\"attributes\":{\"axis_label\":\"CPI index\",\"formatter\":{\"id\":\"20749\"},\"ticker\":{\"id\":\"20717\"}},\"id\":\"20716\",\"type\":\"LinearAxis\"},{\"attributes\":{\"fill_alpha\":{\"value\":0.1},\"fill_color\":{\"value\":\"#8c510a\"},\"line_alpha\":{\"value\":0.1},\"line_color\":{\"value\":\"#8c510a\"},\"size\":{\"units\":\"screen\",\"value\":10},\"x\":{\"field\":\"CPI score 2019\"},\"y\":{\"field\":\"HDI_index-2019\"}},\"id\":\"20842\",\"type\":\"Scatter\"},{\"attributes\":{},\"id\":\"20861\",\"type\":\"Selection\"},{\"attributes\":{},\"id\":\"20789\",\"type\":\"Selection\"},{\"attributes\":{\"data_source\":{\"id\":\"20793\"},\"glyph\":{\"id\":\"20795\"},\"hover_glyph\":null,\"muted_glyph\":{\"id\":\"20797\"},\"nonselection_glyph\":{\"id\":\"20796\"},\"selection_glyph\":null,\"view\":{\"id\":\"20799\"}},\"id\":\"20798\",\"type\":\"GlyphRenderer\"},{\"attributes\":{},\"id\":\"20721\",\"type\":\"BasicTicker\"},{\"attributes\":{},\"id\":\"20717\",\"type\":\"BasicTicker\"},{\"attributes\":{},\"id\":\"20729\",\"type\":\"HelpTool\"},{\"attributes\":{},\"id\":\"20790\",\"type\":\"UnionRenderers\"},{\"attributes\":{\"axis_label\":\"HDI index\",\"formatter\":{\"id\":\"20747\"},\"ticker\":{\"id\":\"20721\"}},\"id\":\"20720\",\"type\":\"LinearAxis\"},{\"attributes\":{},\"id\":\"20712\",\"type\":\"LinearScale\"},{\"attributes\":{},\"id\":\"20710\",\"type\":\"DataRange1d\"},{\"attributes\":{\"axis\":{\"id\":\"20716\"},\"ticker\":null},\"id\":\"20719\",\"type\":\"Grid\"},{\"attributes\":{},\"id\":\"20812\",\"type\":\"UnionRenderers\"},{\"attributes\":{\"axis\":{\"id\":\"20720\"},\"dimension\":1,\"ticker\":null},\"id\":\"20723\",\"type\":\"Grid\"},{\"attributes\":{\"label\":{\"value\":\"ECA\"},\"renderers\":[{\"id\":\"20844\"}]},\"id\":\"20864\",\"type\":\"LegendItem\"},{\"attributes\":{\"data_source\":{\"id\":\"20773\"},\"glyph\":{\"id\":\"20775\"},\"hover_glyph\":null,\"muted_glyph\":{\"id\":\"20777\"},\"nonselection_glyph\":{\"id\":\"20776\"},\"selection_glyph\":null,\"view\":{\"id\":\"20779\"}},\"id\":\"20778\",\"type\":\"GlyphRenderer\"},{\"attributes\":{\"fill_alpha\":{\"value\":0.1},\"fill_color\":{\"value\":\"#f6e8c3\"},\"line_alpha\":{\"value\":0.1},\"line_color\":{\"value\":\"#f6e8c3\"},\"size\":{\"units\":\"screen\",\"value\":10},\"x\":{\"field\":\"CPI score 2019\"},\"y\":{\"field\":\"HDI_index-2019\"}},\"id\":\"20796\",\"type\":\"Scatter\"},{\"attributes\":{\"fill_alpha\":{\"value\":0.2},\"fill_color\":{\"value\":\"#8c510a\"},\"line_alpha\":{\"value\":0.2},\"line_color\":{\"value\":\"#8c510a\"},\"size\":{\"units\":\"screen\",\"value\":10},\"x\":{\"field\":\"CPI score 2019\"},\"y\":{\"field\":\"HDI_index-2019\"}},\"id\":\"20843\",\"type\":\"Scatter\"},{\"attributes\":{\"data\":{\"CPI score 2016\":{\"__ndarray__\":\"AAAAAAAA+H8AAAAAAABOQAAAAAAAgE1AAAAAAAAAS0AAAAAAAABLQAAAAAAAAEpAAAAAAAAAR0AAAAAAAIBGQAAAAAAAgEZAAAAAAACARUAAAAAAAIBDQAAAAAAAAEJAAAAAAAAARUAAAAAAAABBQAAAAAAAAEBAAAAAAAAAOkAAAAAAAABBQAAAAAAAAENAAAAAAAAAPkAAAAAAAAD4fwAAAAAAgEFAAAAAAAAAOkAAAAAAAIBBQAAAAAAAAEBAAAAAAAAAP0AAAAAAAABAQAAAAAAAADtAAAAAAACAQkAAAAAAAAA7QAAAAAAAAD5AAAAAAAAAOUAAAAAAAAAyQAAAAAAAADRAAAAAAAAAPEAAAAAAAAA7QAAAAAAAADpAAAAAAAAAOkAAAAAAAAA2QAAAAAAAADhAAAAAAAAANEAAAAAAAAAyQAAAAAAAADRAAAAAAAAANEAAAAAAAAAwQAAAAAAAADVAAAAAAAAALEAAAAAAAAD4fwAAAAAAACZA\",\"dtype\":\"float64\",\"order\":\"little\",\"shape\":[48]},\"CPI score 2019\":[66,61,58,53,52,52,46,45,44,41,40,41,40,37,37,37,35,34,33,34,32,28,31,29,31,29,28,28,29,30,28,26,25,26,26,25,24,24,25,20,23,19,19,18,18,16,16,12],\"CPI score 2020\":[66,60,58,54,53,51,47,45,44,43,41,41,40,38,38,37,36,33,33,33,32,31,30,30,30,29,29,28,28,27,27,27,26,25,25,25,25,24,21,21,21,19,19,19,18,16,16,12],\"CPI_Rank_difference\":{\"__ndarray__\":\"AAAAAAAA+H8AAAAAAADwPwAAAAAAAAjAAAAAAAAA8L8AAAAAAAAYwAAAAAAAAAjAAAAAAAAAAMAAAAAAAAAAwAAAAAAAABjAAAAAAAAAJMAAAAAAAAAAwAAAAAAAAC5AAAAAAAAAKsAAAAAAAAAoQAAAAAAAADRAAAAAAACASEAAAAAAAAAAQAAAAAAAADrAAAAAAAAAEEAAAAAAAAD4fwAAAAAAADPAAAAAAAAAIEAAAAAAAAA2wAAAAAAAACzAAAAAAAAACMAAAAAAAAAswAAAAAAAABRAAAAAAACAR8AAAAAAAAAoQAAAAAAAAAjAAAAAAAAALEAAAAAAAAAyQAAAAAAAABhAAAAAAAAAJMAAAAAAAAAQwAAAAAAAACDAAAAAAAAAKsAAAAAAAAAQwAAAAAAAAAAAAAAAAAAACMAAAAAAAAAQQAAAAAAAABjAAAAAAAAAGMAAAAAAAAAAAAAAAAAAACjAAAAAAAAACMAAAAAAAAD4fwAAAAAAABDA\",\"dtype\":\"float64\",\"order\":\"little\",\"shape\":[48]},\"Country\":[\"Seychelles\",\"Botswana\",\"Cabo Verde\",\"Rwanda\",\"Mauritius\",\"Namibia\",\"Sao Tome and Principe\",\"Senegal\",\"South Africa\",\"Ghana\",\"Lesotho\",\"Benin\",\"Burkina Faso\",\"Ethiopia\",\"Tanzania\",\"Gambia\",\"Cote d'Ivoire\",\"Zambia\",\"Sierra Leone\",\"Eswatini\",\"Niger\",\"Kenya\",\"Gabon\",\"Mali\",\"Malawi\",\"Togo\",\"Mauritania\",\"Liberia\",\"Guinea\",\"Djibouti\",\"Uganda\",\"Angola\",\"Central African Republic\",\"Nigeria\",\"Mozambique\",\"Cameroon\",\"Madagascar\",\"Zimbabwe\",\"Comoros\",\"Chad\",\"Eritrea\",\"Burundi\",\"Congo\",\"Guinea Bissau\",\"Democratic Republic of the Congo\",\"Sudan\",\"Equatorial Guinea\",\"South Sudan\"],\"Employment_ratio-2016\":{\"__ndarray__\":\"AAAAAAAA+H9fukkMAitNQIXrUbgeZUpAGy/dJAa5VECkcD0K11NLQPLSTWIQGEdA5dAi2/leSUAfhetRuE5FQNv5fmq8ZERAhxbZzvcTUEBqvHSTGKRJQKrx0k1iQFFAZmZmZmY2T0DRItv5fopTQLbz/dR4gVRA8/3UeOnWSkBEi2zn+9lLQB1aZDvft1BA16NwPQq3S0BMN4lBYPVDQPp+arx0A1JAE4PAyqE9UkCsHFpkO69EQGMQWDm0aFBAoBov3SQmUkCamZmZmRlTQA0CK4cWqURA/tR46SaZUkDazvdT46VNQCyHFtnOB0tA16NwPQpXUUD0/dR46f5RQNNNYhBYcVFALIcW2c63SEA830+Nl/5SQGMQWDm0aFJAaZHtfD81VUAOLbKd769TQFK4HoXrgURAukkMAitnUUBeukkMAqNSQLTIdr6falNAw/UoXI9yT0Cyne+nxoNRQH0/NV66iU5AnMQgsHIYREBEi2zn+/lMQLFyaJHtvE9A\",\"dtype\":\"float64\",\"order\":\"little\",\"shape\":[48]},\"Employment_ratio-2019\":{\"__ndarray__\":\"AAAAAAAA+H9I4XoUrvdMQIPAyqFFhkpAl24Sg8CyVEDazvdT4zVLQAisHFpku0dA1HjpJjEISUBMN4lBYFVFQCGwcmiRHURAukkMAis3UEBzaJHtfP9JQArXo3A9UlFA/Knx0k0iT0DhehSuR3lTQGMQWDm0cFRAppvEILACS0DUeOkmMYhLQOj7qfHShVBAtMh2vp+qS0AUrkfhenREQM3MzMzM7FFAke18PzUuUkDUeOkmMShFQPhT46WbbFBAqvHSTWIYUkBjEFg5tABTQKrx0k1iwERAppvEILCKUkBSuB6F63FNQGmR7Xw/BUtAw/UoXI9CUUA1XrpJDApSQM/3U+OlU1FAOrTIdr5PSEBOYhBYOeRSQPLSTWIQYFJArBxaZDsnVUACK4cW2b5TQKRwPQrXs0RAukkMAitXUUAfhetRuJZSQKjGSzeJgVNAj8L1KFxvT0Bcj8L1KIxRQE+Nl24SY05A16NwPQo3REAhsHJokf1MQG3n+6nxwk9A\",\"dtype\":\"float64\",\"order\":\"little\",\"shape\":[48]},\"GDP_per_capita-2016\":{\"__ndarray__\":\"YxBYOXzN2UBU46WbRLfQQM/3U+OlUrlA6Pup8VJ5nkDLoUW2uynUQGiR7XxfDcRAhetRuN4CrkB/arx0U/enQFyPwvXoz8hAAAAAACB0skDP91PjZTWmQKrx0k3iIqdAZDvfT40cn0ANAiuHlpudQHsUrkchE6NAc2iR7XzTn0DByqFFtgeyQDq0yHa+F6tAwMqhRTYqmUDByqFF5mrAQP7UeOmm9pFAoUW2833hrkA2XrpJXP/NQI2XbhJDK6FAlkOLbGcCkEDb+X5qvEaXQKAaL93ktbNAgZVDi2yxl0BWDi2ynZ6hQIGVQ4uMZbJAxCCwcqgyoEAcWmQ7/5C9QMqhRbbzo4tACKwcWuSktEATg8DKIeeTQHE9CtfjiKtAiBbZznd3mECIFtnOd+2mQH0/NV76V6dAwMqhRTZcmkAAAAAAAAD4f6RwPQrX1IhAKVyPwnUmrEDXo3A9CiGdQG8Sg8BKfpBADi2ync+8sEAmMQisxD7YQAAAAAAAAPh/\",\"dtype\":\"float64\",\"order\":\"little\",\"shape\":[48]},\"GDP_per_capita-2019\":{\"__ndarray__\":\"LbKd7+9f3EAdWmQ7n1nRQFg5tMjWA7xA1XjpJnFkoUDP91PjVXPWQEoMAiuX0sJAIbByaJH3rkBzaJHtvIWqQNNNYhDoYMhA5KWbxKAktUCxcmiRbZ+lQIXrUbierqlAjZduEkMboUC6SQwCa1ehQKRwPQrXyKRAf2q8dNM9oUBBYOXQQna0QESLbOf7LqtARIts53vZmkBzaJHtDPjAQCuHFtlODJNA0SLb+d7psECS7Xw/5QrNQKJFtvO9LqJACKwcWuSOkEDvp8ZLt++YQJZDi2wHTbRAsp3vp0ZPlkDdJAaBFQikQJLtfD9Vj7VA0SLb+X4KoUDFILBy6P25QG3n+6nxho1AAAAAAIAPtEDNzMzMzAGUQLTIdr5fiaxAexSuR+G4mUDP91Pj5SemQFTjpZvEEqhAX7pJDIKumEAAAAAAAAD4f1pkO99PfYdAQWDl0CLEqUCIFtnOdxWfQJ3vp8bLJ5FADi2yne/srkBMN4lBgB/SQAAAAAAAAPh/\",\"dtype\":\"float64\",\"order\":\"little\",\"shape\":[48]},\"HDI_index-2016\":{\"__ndarray__\":\"yXa+nxov6T8K16NwPQrnP6AaL90kBuU/d76fGi/d4D+cxCCwcmjpP6abxCCwcuQ/2/l+arx04z99PzVeukngP+XQItv5fuY/iUFg5dAi4z/8qfHSTWLgP3STGARWDuE/MQisHFpk2z8X2c73U+PdP6RwPQrXo+A/ZmZmZmZm3j/RItv5fmrgPxODwMqhReI/L90kBoGV2z83iUFg5dDiP/3UeOkmMdg/tvP91Hjp4j8UrkfhehTmPzZeukkMAts/aZHtfD813j+q8dJNYhDgP/LSTWIQWOE/ZDvfT42X3j/D9Shcj8LdPylcj8L1KOA/IbByaJHt4D/l0CLb+X7iP6abxCCwctg/okW28/3U4D/TTWIQWDncPxgEVg4tsuE/I9v5fmq84D9BYOXQItvhPxsv3SQGgeE/8/3UeOkm2T/Jdr6fGi/dP9R46SYxCNw/5dAi2/l+4j/AyqFFtvPdP7+fGi/dJN4/001iEFg54D83iUFg5dDiP4xs5/up8do/\",\"dtype\":\"float64\",\"order\":\"little\",\"shape\":[48]},\"HDI_index-2019\":{\"__ndarray__\":\"Rbbz/dR46T+F61G4HoXnP0jhehSuR+U/xks3iUFg4T/ufD81XrrpP3jpJjEIrOQ/AAAAAAAA5D/8qfHSTWLgP+Slm8QgsOY/WmQ730+N4z93vp8aL93gP3E9CtejcOE/IbByaJHt3D8K16NwPQrfPyGwcmiR7eA/WDm0yHa+3z+d76fGSzfhP+Olm8QgsOI/IbByaJHt3D9aZDvfT43jP53vp8ZLN9k/CKwcWmQ74z/l0CLb+X7mPy2yne+nxts/tvP91Hjp3j97FK5H4XrgP0a28/3UeOE/uB6F61G43j+7SQwCK4feP/hT46WbxOA/nMQgsHJo4T9kO99PjZfiP5zEILByaNk/c2iR7Xw/4T/Jdr6fGi/dP2q8dJMYBOI/TDeJQWDl4D8Tg8DKoUXiP+18PzVeuuE/Rbbz/dR42T/GSzeJQWDdP4PAyqFFtts/ke18PzVe4j+4HoXrUbjeP7gehetRuN4/UrgehetR4D+MbOf7qfHiP4PAyqFFtts/\",\"dtype\":\"float64\",\"order\":\"little\",\"shape\":[48]},\"ISO3\":[\"SYC\",\"BWA\",\"CPV\",\"RWA\",\"MUS\",\"NAM\",\"STP\",\"SEN\",\"ZAF\",\"GHA\",\"LSO\",\"BEN\",\"BFA\",\"ETH\",\"TZA\",\"GMB\",\"CIV\",\"ZMB\",\"SLE\",\"SWZ\",\"NER\",\"KEN\",\"GAB\",\"MLI\",\"MWI\",\"TGO\",\"MRT\",\"LBR\",\"GIN\",\"DJI\",\"UGA\",\"AGO\",\"CAF\",\"NGA\",\"MOZ\",\"CMR\",\"MDG\",\"ZWE\",\"COM\",\"TCD\",\"ERI\",\"BDI\",\"COG\",\"GNB\",\"COD\",\"SDN\",\"GNQ\",\"SSD\"],\"Rank 2016\":{\"__ndarray__\":\"AAAAAAAA+H8AAAAAAIBBQAAAAAAAAENAAAAAAAAASUAAAAAAAABJQAAAAAAAgEpAAAAAAAAAT0AAAAAAAABQQAAAAAAAAFBAAAAAAACAUUAAAAAAAMBUQAAAAAAAwFdAAAAAAAAAUkAAAAAAAABbQAAAAAAAAF1AAAAAAAAgYkAAAAAAAABbQAAAAAAAwFVAAAAAAADAXkAAAAAAAAD4fwAAAAAAQFlAAAAAAAAgYkAAAAAAAEBZQAAAAAAAAF1AAAAAAAAAXkAAAAAAAABdQAAAAAAAwGFAAAAAAACAVkAAAAAAAMBhQAAAAAAAwF5AAAAAAADgYkAAAAAAAIBkQAAAAAAA4GNAAAAAAAAAYUAAAAAAAMBhQAAAAAAAIGJAAAAAAAAgYkAAAAAAAEBjQAAAAAAAIGNAAAAAAADgY0AAAAAAAIBkQAAAAAAA4GNAAAAAAADgY0AAAAAAAABlQAAAAAAAgGNAAAAAAABAZUAAAAAAAAD4fwAAAAAA4GVA\",\"dtype\":\"float64\",\"order\":\"little\",\"shape\":[48]},\"Rank 2019\":[27,34,41,51,56,56,64,66,70,80,85,80,85,96,96,96,106,113,119,113,120,137,123,130,123,130,137,137,130,126,137,146,153,146,146,153,158,158,153,162,160,165,165,168,168,173,173,179],\"Rank 2020\":[27,35,41,49,52,57,63,67,69,75,83,83,86,94,94,102,104,117,117,117,123,124,129,129,129,134,134,137,137,142,142,142,146,149,149,149,149,157,160,160,160,165,165,165,170,174,174,179],\"Region\":[\"SSA\",\"SSA\",\"SSA\",\"SSA\",\"SSA\",\"SSA\",\"SSA\",\"SSA\",\"SSA\",\"SSA\",\"SSA\",\"SSA\",\"SSA\",\"SSA\",\"SSA\",\"SSA\",\"SSA\",\"SSA\",\"SSA\",\"SSA\",\"SSA\",\"SSA\",\"SSA\",\"SSA\",\"SSA\",\"SSA\",\"SSA\",\"SSA\",\"SSA\",\"SSA\",\"SSA\",\"SSA\",\"SSA\",\"SSA\",\"SSA\",\"SSA\",\"SSA\",\"SSA\",\"SSA\",\"SSA\",\"SSA\",\"SSA\",\"SSA\",\"SSA\",\"SSA\",\"SSA\",\"SSA\",\"SSA\"],\"Women_in_parliament_(%)-2016\":{\"__ndarray__\":\"g8DKoUU2NUA/NV66SQwjQCPb+X5qnDdAvHSTGATGTEDkpZvEIDAnQEoMAiuHJkJAPN9PjZcuMkBMN4lBYFVFQNR46SYxmERAxSCwcmjRJUCDwMqhRdY4QNEi2/l+6hxA2c73U+PlIkD4U+Olm6RCQGQ730+NR0JAke18PzXeIkD6fmq8dFMiQBFYObTI9jFAJQaBlUPLKEDTTWIQWHktQD0K16NwPS1A5KWbxCDQNEARWDm0yPYvQOOlm8QgsCFAmG4Sg8CqMECiRbbz/ZQxQJduEoPAKjZAXI/C9ShcJUCuR+F6FO41QE5iEFg5dClAPN9PjZe+QEBjEFg5tGhCQC2yne+nxhxA+n5qvHQTF0DNzMzMzMxDQPhT46WbJDtAK4cW2c4XNED8qfHSTZJBQD0K16NwPQhAfT81XrrJLUAAAAAAAAA2QNejcD0K50JA+n5qvHQTJ0AzMzMzM3MrQC/dJAaBVSBAl24Sg8AKP0C6SQwCK6czQMl2vp8ajzpA\",\"dtype\":\"float64\",\"order\":\"little\",\"shape\":[48]},\"Women_in_parliament_(%)-2019\":{\"__ndarray__\":\"g8DKoUU2NUB9PzVeuoklQCPb+X5qnDdAFK5H4XrUS0AAAAAAAAA0QNEi2/l+ekJA16NwPQoXLUBjEFg5tOhEQLTIdr6fqkZAO99PjZcuKkAtsp3vpwY3QNEi2/l+6hxAEoPAyqHFKkD4U+Olm6RCQKabxCCwckJAcT0K16OwJEDo+6nx0o0qQBFYObTI9jFAnMQgsHKoKEDKoUW28z0oQC/dJAaB9TBAiUFg5dBCN0Bt5/up8fIxQD81XrpJDCNAl24Sg8DqNkCWQ4ts53swQIlBYOXQQjRAzczMzMxMJ0A730+Nl842QIGVQ4tsJzpA6Pup8dJtQUAAAAAAAAA+QDEIrBxaJCFAwcqhRbZzEECamZmZmZlEQO+nxks3ST1ALbKd76fmMEAMAiuHFklBQFg5tMh2PhhAT42XbhLDLUAAAAAAAAA2QAAAAAAAYENAEoPAyqFFK0AzMzMzM3MrQNNNYhBY+SdA76fGSzeJO0BWDi2ynS8zQMl2vp8ajzpA\",\"dtype\":\"float64\",\"order\":\"little\",\"shape\":[48]},\"index\":[26,35,39,48,52,55,63,66,69,73,81,82,84,97,98,101,106,114,116,119,120,125,126,127,128,131,133,134,138,139,141,142,145,149,150,151,152,155,157,159,160,163,164,165,167,171,172,176]},\"selected\":{\"id\":\"20835\"},\"selection_policy\":{\"id\":\"20836\"}},\"id\":\"20815\",\"type\":\"ColumnDataSource\"},{\"attributes\":{\"source\":{\"id\":\"20839\"}},\"id\":\"20845\",\"type\":\"CDSView\"},{\"attributes\":{\"active_drag\":\"auto\",\"active_inspect\":\"auto\",\"active_multi\":null,\"active_scroll\":\"auto\",\"active_tap\":\"auto\",\"tools\":[{\"id\":\"20724\"},{\"id\":\"20725\"},{\"id\":\"20726\"},{\"id\":\"20727\"},{\"id\":\"20728\"},{\"id\":\"20729\"},{\"id\":\"20865\"}]},\"id\":\"20731\",\"type\":\"Toolbar\"},{\"attributes\":{\"source\":{\"id\":\"20793\"}},\"id\":\"20799\",\"type\":\"CDSView\"},{\"attributes\":{\"data\":{\"CPI score 2016\":{\"__ndarray__\":\"AAAAAACATEAAAAAAAIBAQAAAAAAAAERAAAAAAACARkAAAAAAAIBEQAAAAAAAAEVAAAAAAAAAPUAAAAAAAIBDQAAAAAAAgENAAAAAAACAQkAAAAAAAAA+QAAAAAAAAD1AAAAAAAAAPEAAAAAAAAA+QAAAAAAAAD1AAAAAAAAANUAAAAAAAAA5QAAAAAAAADZA\",\"dtype\":\"float64\",\"order\":\"little\",\"shape\":[18]},\"CPI score 2019\":[56,42,45,45,39,39,34,35,36,35,32,30,30,30,28,25,25,19],\"CPI score 2020\":[56,49,47,45,40,38,38,36,35,35,34,33,31,30,30,26,25,19],\"CPI_Rank_difference\":{\"__ndarray__\":\"AAAAAAAAAAAAAAAAAABCQAAAAAAAACpAAAAAAAAAAMAAAAAAAAAwwAAAAAAAADPAAAAAAAAAMkAAAAAAAAA3wAAAAAAAADLAAAAAAAAAMMAAAAAAAAAIQAAAAAAAABRAAAAAAAAAJEAAAAAAAAAIwAAAAAAAABjAAAAAAAAACEAAAAAAAAAAwAAAAAAAACbA\",\"dtype\":\"float64\",\"order\":\"little\",\"shape\":[18]},\"Country\":[\"Georgia\",\"Armenia\",\"Belarus\",\"Montenegro\",\"Turkey\",\"Serbia\",\"Kazakhstan\",\"Albania\",\"Bosnia and Herzegovina\",\"North Macedonia\",\"Moldova\",\"Ukraine\",\"Kyrgyzstan\",\"Azerbaijan\",\"Russia\",\"Uzbekistan\",\"Tajikistan\",\"Turkmenistan\"],\"Employment_ratio-2016\":{\"__ndarray__\":\"tvP91HiJTEAj2/l+agxHQOXQItv5Tk5AHFpkO9/vRUDJdr6fGg9HQD0K16NwzUZAxCCwcmipUEDXo3A9CodHQDeJQWDlcEFASOF6FK73REAAAAAAAIBEQCyHFtnOt0hAVOOlm8SQTEC28/3UeHlPQE5iEFg5pE1AH4XrUbi+TkAEVg4tso1CQFYOLbKdD09A\",\"dtype\":\"float64\",\"order\":\"little\",\"shape\":[18]},\"Employment_ratio-2019\":{\"__ndarray__\":\"5dAi2/k+TUCgGi/dJBZHQGQ730+Nl05Az/dT46UrR0Bg5dAi29lGQIXrUbge9UdAWDm0yHZmUECuR+F6FG5IQCPb+X5q7EJAZDvfT42nRkB3vp8aL11EQM/3U+Olq0hAEoPAyqEFTEAlBoGVQ2tPQJZDi2zne01AexSuR+GaTkA1XrpJDLJCQJduEoPA+k5A\",\"dtype\":\"float64\",\"order\":\"little\",\"shape\":[18]},\"GDP_per_capita-2016\":{\"__ndarray__\":\"HFpkO99RyUCoxks3iRPGQCuHFtmmZ9FAUrgehUtO0kDazvdTS8rZQEoMAisnes9AHFpkO7ek10BYObTI9oHIQOxRuB71GcpAI9v5fvoFzkANAiuHRl/FQG3n+6lRh8ZAE4PAymEws0AIrBxaZM/LQDEIrBw6+NhAKVyPwlXKuECd76fGS/2mQNrO91NDfcpA\",\"dtype\":\"float64\",\"order\":\"little\",\"shape\":[18]},\"GDP_per_capita-2019\":{\"__ndarray__\":\"oBov3SRTzUAAAAAA4KrKQLbz/dRos9JAzczMzKTg1EAhsHJo2YHbQJqZmZnxwNFAvHSTGNy72UB0kxgE5kTLQPp+arxkF81ACtejcIUe0EDfT42X7nTJQEW28/0kBclAtvP91BiFtEDNzMzM7CHMQHE9Ctf7aNpArkfherRWu0Bpke18f2eqQDEIrByq/sxA\",\"dtype\":\"float64\",\"order\":\"little\",\"shape\":[18]},\"HDI_index-2016\":{\"__ndarray__\":\"8tJNYhBY6T9PjZduEoPoPxSuR+F6FOo/kxgEVg4t6j9BYOXQItvpP3E9CtejcOk/QWDl0CLb6T+d76fGSzfpP05iEFg5tOg/exSuR+F66D8EVg4tsp3nP/p+arx0k+g/6SYxCKwc5j/UeOkmMQjoPxSuR+F6FOo/j8L1KFyP5j9MN4lBYOXkP5LtfD81XuY/\",\"dtype\":\"float64\",\"order\":\"little\",\"shape\":[18]},\"HDI_index-2019\":{\"__ndarray__\":\"lkOLbOf76T+hRbbz/dToP7x0kxgEVuo/u0kMAiuH6j89CtejcD3qP5duEoPAyuk/ZmZmZmZm6j9xPQrXo3DpP/YoXI/C9eg/+FPjpZvE6D8AAAAAAADoPyGwcmiR7eg/6Pup8dJN5j/91HjpJjHoP5LtfD81Xuo/CtejcD0K5z/GSzeJQWDlP+F6FK5H4eY/\",\"dtype\":\"float64\",\"order\":\"little\",\"shape\":[18]},\"ISO3\":[\"GEO\",\"ARM\",\"BLR\",\"MNE\",\"TUR\",\"SRB\",\"KAZ\",\"ALB\",\"BIH\",\"MKD\",\"MDA\",\"UKR\",\"KGZ\",\"AZE\",\"RUS\",\"UZB\",\"TJK\",\"TKM\"],\"Rank 2016\":{\"__ndarray__\":\"AAAAAAAARkAAAAAAAEBcQAAAAAAAwFNAAAAAAAAAUEAAAAAAAMBSQAAAAAAAAFJAAAAAAABgYEAAAAAAAMBUQAAAAAAAwFRAAAAAAACAVkAAAAAAAMBeQAAAAAAAYGBAAAAAAAAAYUAAAAAAAMBeQAAAAAAAYGBAAAAAAACAY0AAAAAAAOBiQAAAAAAAQGNA\",\"dtype\":\"float64\",\"order\":\"little\",\"shape\":[18]},\"Rank 2019\":[44,77,66,66,91,91,113,106,101,106,120,126,126,126,137,153,153,165],\"Rank 2020\":[45,60,63,67,86,94,94,104,111,111,115,117,124,129,129,146,149,165],\"Region\":[\"ECA\",\"ECA\",\"ECA\",\"ECA\",\"ECA\",\"ECA\",\"ECA\",\"ECA\",\"ECA\",\"ECA\",\"ECA\",\"ECA\",\"ECA\",\"ECA\",\"ECA\",\"ECA\",\"ECA\",\"ECA\"],\"Women_in_parliament_(%)-2016\":{\"__ndarray__\":\"AAAAAAAAMEA6tMh2vl8lQPT91Hjp9kBAoUW28/10N0DFILByaNEtQAAAAAAAAEFAgZVDi2zHNEAIrBxaZNs2QD81XrpJTDNAtMh2vp+qQEDUeOkmMcg1QH0/NV66CShAmG4Sg8AqM0DNzMzMzMwwQMqhRbbzvStAZmZmZmZmMEAAAAAAAAA0QHSTGARWzjlA\",\"dtype\":\"float64\",\"order\":\"little\",\"shape\":[18]},\"Women_in_parliament_(%)-2019\":{\"__ndarray__\":\"SOF6FK6HLUBcj8L1KHw3QLgehetReEFAhetRuB5lPEAzMzMzM3MxQPp+arx000JAiBbZzvcTNkA2XrpJDII9QCGwcmiRDTVATDeJQWCVQ0CS7Xw/Nb45QL+fGi/dhDRAmG4Sg8AqM0A830+Nl84wQMHKoUW2czBAZmZmZmZmMEAAAAAAAAA0QAAAAAAAADlA\",\"dtype\":\"float64\",\"order\":\"little\",\"shape\":[18]},\"index\":[45,60,64,65,85,93,99,102,108,111,113,118,124,129,130,144,153,162]},\"selected\":{\"id\":\"20861\"},\"selection_policy\":{\"id\":\"20862\"}},\"id\":\"20839\",\"type\":\"ColumnDataSource\"},{\"attributes\":{},\"id\":\"20725\",\"type\":\"WheelZoomTool\"},{\"attributes\":{},\"id\":\"20724\",\"type\":\"PanTool\"},{\"attributes\":{},\"id\":\"20811\",\"type\":\"Selection\"},{\"attributes\":{\"fill_alpha\":{\"value\":0.1},\"fill_color\":{\"value\":\"#c7eae5\"},\"line_alpha\":{\"value\":0.1},\"line_color\":{\"value\":\"#c7eae5\"},\"size\":{\"units\":\"screen\",\"value\":10},\"x\":{\"field\":\"CPI score 2019\"},\"y\":{\"field\":\"HDI_index-2019\"}},\"id\":\"20776\",\"type\":\"Scatter\"},{\"attributes\":{\"overlay\":{\"id\":\"20730\"}},\"id\":\"20726\",\"type\":\"BoxZoomTool\"},{\"attributes\":{},\"id\":\"20727\",\"type\":\"SaveTool\"},{\"attributes\":{},\"id\":\"20728\",\"type\":\"ResetTool\"},{\"attributes\":{\"source\":{\"id\":\"20773\"}},\"id\":\"20779\",\"type\":\"CDSView\"},{\"attributes\":{\"fill_alpha\":{\"value\":0.2},\"fill_color\":{\"value\":\"#c7eae5\"},\"line_alpha\":{\"value\":0.2},\"line_color\":{\"value\":\"#c7eae5\"},\"size\":{\"units\":\"screen\",\"value\":10},\"x\":{\"field\":\"CPI score 2019\"},\"y\":{\"field\":\"HDI_index-2019\"}},\"id\":\"20777\",\"type\":\"Scatter\"},{\"attributes\":{\"data\":{\"CPI score 2016\":{\"__ndarray__\":\"AAAAAACAUEAAAAAAAIBOQAAAAAAAAFBAAAAAAACARkAAAAAAAABHQAAAAAAAAEhAAAAAAACAREAAAAAAAIBFQAAAAAAAgERAAAAAAACAQkAAAAAAAABBQAAAAAAAAEFAAAAAAAAAPUAAAAAAAAA8QAAAAAAAADFAAAAAAAAALEAAAAAAAAAsQAAAAAAAACpA\",\"dtype\":\"float64\",\"order\":\"little\",\"shape\":[18]},\"CPI score 2019\":[71,62,60,52,53,48,43,42,40,41,35,35,26,28,20,18,15,13],\"CPI score 2020\":[71,63,60,54,53,49,44,42,42,40,36,33,25,25,21,17,15,14],\"CPI_Rank_difference\":{\"__ndarray__\":\"AAAAAAAACEAAAAAAAADwPwAAAAAAABzAAAAAAAAAIEAAAAAAAAAmQAAAAAAAAAjAAAAAAAAA8D8AAAAAAAAcwAAAAAAAACTAAAAAAAAAJEAAAAAAAAAAQAAAAAAAAABAAAAAAAAALsAAAAAAAADwvwAAAAAAABBAAAAAAAAAAEAAAAAAAAAcwAAAAAAAABTA\",\"dtype\":\"float64\",\"order\":\"little\",\"shape\":[18]},\"Country\":[\"United Arab Emirates\",\"Qatar\",\"Israel\",\"Oman\",\"Saudi Arabia\",\"Jordan\",\"Tunisia\",\"Bahrain\",\"Kuwait\",\"Morocco\",\"Algeria\",\"Egypt\",\"Iran\",\"Lebanon\",\"Iraq\",\"Libya\",\"Yemen\",\"Syria\"],\"Employment_ratio-2016\":{\"__ndarray__\":\"7Xw/NV5KVECJQWDl0MpVQMP1KFyPkk5AtvP91HgpUUCMbOf7qZFKQA4tsp3vp0BAexSuR+G6Q0A3iUFg5dhRQD81XrpJzFFAaZHtfD8FRUCamZmZmZlCQMDKoUW240RAPQrXo3A9Q0DsUbgehftFQHE9CtejoENAukkMAisnREAxCKwcWkRAQM/3U+OlG0RA\",\"dtype\":\"float64\",\"order\":\"little\",\"shape\":[18]},\"Employment_ratio-2019\":{\"__ndarray__\":\"tMh2vp8KVECBlUOLbK9VQEW28/3UyE5AlkOLbOebUUBjEFg5tEhKQKabxCCwwkBAy6FFtvNdQ0ATg8DKoTVSQDeJQWDl+FFAXI/C9SicREC0yHa+nypCQBKDwMqhtURA7Xw/NV7KQ0B7FK5H4QpGQMuhRbbzvUJAJQaBlUM7REB56SYxCIxAQLx0kxgENkRA\",\"dtype\":\"float64\",\"order\":\"little\",\"shape\":[18]},\"GDP_per_capita-2016\":{\"__ndarray__\":\"WmQ73+088EApXI/Cw3P3QC2yne+LvOJADi2ynb973UCXbhKDZL7nQEFg5dCCRcNAHFpkO3+OxEBU46WbYHvnQCPb+X6WtupA7nw/NT7Fu0Do+6nx8rrGQDvfT43nFcVAbhKDwJq+y0CXbhKDQHbPQBKDwMohi8ZAwMqhRTawxEAAAAAAAAD4fwAAAAAAAPh/\",\"dtype\":\"float64\",\"order\":\"little\",\"shape\":[18]},\"GDP_per_capita-2019\":{\"__ndarray__\":\"ppvEIPJi8EDsUbgesZ72QCGwcmg9nONAsXJokRU+20CXbhKDRO7mQP7UeOkGWcNA16NwPcoBxUARWDm0OPzlQFTjpZvEVuhAarx0k7havUBANV662SrGQJduEoOg+cZAOrTIdu5jzEDNzMzMrL7MQHSTGASWQMVA7FG4HhWjzUAAAAAAAAD4fwAAAAAAAPh/\",\"dtype\":\"float64\",\"order\":\"little\",\"shape\":[18]},\"HDI_index-2016\":{\"__ndarray__\":\"2s73U+Ol6z8K16NwPQrrP53vp8ZLN+0/FK5H4XoU6j+xcmiR7XzrP4gW2c73U+c/MQisHFpk5z+yne+nxkvrP+58PzVeuuk/8tJNYhBY5T8tsp3vp8bnPxKDwMqhReY/SgwCK4cW6T+DwMqhRbbnP8qhRbbz/eQ/lkOLbOf75T+8dJMYBFbeP0w3iUFg5eA/\",\"dtype\":\"float64\",\"order\":\"little\",\"shape\":[18]},\"HDI_index-2019\":{\"__ndarray__\":\"exSuR+F67D+JQWDl0CLrP5zEILByaO0/arx0kxgE6j+IFtnO91PrP4gW2c73U+c/rkfhehSu5z/dJAaBlUPrP5duEoPAyuk/wMqhRbbz5T9WDi2yne/nPzq0yHa+n+Y/dJMYBFYO6T8DK4cW2c7nP8UgsHJokeU/X7pJDAIr5z8UrkfhehTeP7+fGi/dJOI/\",\"dtype\":\"float64\",\"order\":\"little\",\"shape\":[18]},\"ISO3\":[\"ARE\",\"QAT\",\"ISR\",\"OMN\",\"SAU\",\"JOR\",\"TUN\",\"BHR\",\"KWT\",\"MAR\",\"DZA\",\"EGY\",\"IRN\",\"LBN\",\"IRQ\",\"LBY\",\"YEM\",\"SYR\"],\"Rank 2016\":{\"__ndarray__\":\"AAAAAAAAOEAAAAAAAAA/QAAAAAAAADxAAAAAAAAAUEAAAAAAAABPQAAAAAAAgExAAAAAAADAUkAAAAAAAIBRQAAAAAAAwFJAAAAAAACAVkAAAAAAAABbQAAAAAAAAFtAAAAAAABgYEAAAAAAAABhQAAAAAAAwGRAAAAAAABAZUAAAAAAAEBlQAAAAAAAoGVA\",\"dtype\":\"float64\",\"order\":\"little\",\"shape\":[18]},\"Rank 2019\":[21,30,35,56,51,60,74,77,85,80,106,106,146,137,162,168,177,178],\"Rank 2020\":[21,30,35,49,52,60,69,78,78,86,104,117,149,149,160,173,176,178],\"Region\":[\"MENA\",\"MENA\",\"MENA\",\"MENA\",\"MENA\",\"MENA\",\"MENA\",\"MENA\",\"MENA\",\"MENA\",\"MENA\",\"MENA\",\"MENA\",\"MENA\",\"MENA\",\"MENA\",\"MENA\",\"MENA\"],\"Women_in_parliament_(%)-2016\":{\"__ndarray__\":\"AAAAAACANkCamZmZmZm5P5duEoPAqjpA2c73U+OlIUCR7Xw/Nd4zQIXrUbgexS5AvHSTGARWP0AAAAAAAAAuQAAAAAAAAABA30+Nl25yMkApXI/C9cg5QARWDi2y3S1Au0kMAiuHF0AAAAAAAAAJQKAaL90khjpARIts5/vpL0D6fmq8dJPgP2ZmZmZmZipA\",\"dtype\":\"float64\",\"order\":\"little\",\"shape\":[18]},\"Women_in_parliament_(%)-2019\":{\"__ndarray__\":\"AAAAAAAASUBQjZduEoMjQGmR7Xw/VTdA+FPjpZvEI0CR7Xw/Nd4zQIXrUbgexS5A2/l+aryUNkAAAAAAAMAyQPYoXI/CdRJA30+Nl25yMkAGgZVDi4w1QARWDi2y3S1Au0kMAiuHF0CNl24Sg8ASQO58PzVeOjlARIts5/vpL0DfT42XbhLvP2ZmZmZmZipA\",\"dtype\":\"float64\",\"order\":\"little\",\"shape\":[18]},\"index\":[21,29,33,49,54,59,71,76,78,87,105,115,146,148,161,170,174,175]},\"selected\":{\"id\":\"20811\"},\"selection_policy\":{\"id\":\"20812\"}},\"id\":\"20793\",\"type\":\"ColumnDataSource\"},{\"attributes\":{\"label\":{\"value\":\"MENA\"},\"renderers\":[{\"id\":\"20798\"}]},\"id\":\"20814\",\"type\":\"LegendItem\"},{\"attributes\":{\"label\":{\"value\":\"AME\"},\"renderers\":[{\"id\":\"20778\"}]},\"id\":\"20792\",\"type\":\"LegendItem\"},{\"attributes\":{\"fill_alpha\":{\"value\":0.1},\"fill_color\":{\"value\":\"#d8b365\"},\"line_alpha\":{\"value\":0.1},\"line_color\":{\"value\":\"#d8b365\"},\"size\":{\"units\":\"screen\",\"value\":10},\"x\":{\"field\":\"CPI score 2019\"},\"y\":{\"field\":\"HDI_index-2019\"}},\"id\":\"20818\",\"type\":\"Scatter\"},{\"attributes\":{\"callback\":null,\"tooltips\":[[\"region\",\"@Region\"],[\"country\",\"@Country\"]]},\"id\":\"20865\",\"type\":\"HoverTool\"},{\"attributes\":{},\"id\":\"20747\",\"type\":\"BasicTickFormatter\"},{\"attributes\":{\"bottom_units\":\"screen\",\"fill_alpha\":0.5,\"fill_color\":\"lightgrey\",\"left_units\":\"screen\",\"level\":\"overlay\",\"line_alpha\":1.0,\"line_color\":\"black\",\"line_dash\":[4,4],\"line_width\":2,\"right_units\":\"screen\",\"top_units\":\"screen\"},\"id\":\"20730\",\"type\":\"BoxAnnotation\"}],\"root_ids\":[\"20705\"]},\"title\":\"Bokeh Application\",\"version\":\"2.2.3\"}};\n",
       "  var render_items = [{\"docid\":\"942e6cc1-b149-4ee1-8b2c-2f4518e59ad5\",\"root_ids\":[\"20705\"],\"roots\":{\"20705\":\"65e53ff5-5886-4fe9-9804-483bde00fb60\"}}];\n",
       "  root.Bokeh.embed.embed_items_notebook(docs_json, render_items);\n",
       "\n",
       "  }\n",
       "  if (root.Bokeh !== undefined) {\n",
       "    embed_document(root);\n",
       "  } else {\n",
       "    var attempts = 0;\n",
       "    var timer = setInterval(function(root) {\n",
       "      if (root.Bokeh !== undefined) {\n",
       "        clearInterval(timer);\n",
       "        embed_document(root);\n",
       "      } else {\n",
       "        attempts++;\n",
       "        if (attempts > 100) {\n",
       "          clearInterval(timer);\n",
       "          console.log(\"Bokeh: ERROR: Unable to run BokehJS code because BokehJS library is missing\");\n",
       "        }\n",
       "      }\n",
       "    }, 10, root)\n",
       "  }\n",
       "})(window);"
      ],
      "application/vnd.bokehjs_exec.v0+json": ""
     },
     "metadata": {
      "application/vnd.bokehjs_exec.v0+json": {
       "id": "20705"
      }
     },
     "output_type": "display_data"
    }
   ],
   "source": [
    "p = figure(plot_width=800, plot_height=600, title = 'Human Development Index vs Corruption Perception Index 2019')\n",
    "\n",
    "weeu = df1[df1['Region']=='WE/EU']\n",
    "source = ColumnDataSource(weeu)\n",
    "\n",
    "p.scatter(x='CPI score 2019',\n",
    "          y='HDI_index-2019',\n",
    "          color='#01665e', alpha=0.8, legend_label='WE/EU',\n",
    "          muted_color='#01665e', muted_alpha=0.2,\n",
    "          marker='circle', size=10,\n",
    "          source = source)\n",
    "\n",
    "ap = df1[df1['Region']=='AP']\n",
    "source = ColumnDataSource(ap)\n",
    "\n",
    "p.scatter(x='CPI score 2019',\n",
    "          y='HDI_index-2019',\n",
    "          color='#5ab4ac', alpha=0.8, legend_label='AP',\n",
    "          muted_color='#5ab4ac', muted_alpha=0.2,\n",
    "          marker='circle', size=10,\n",
    "          source = source)\n",
    "\n",
    "ame = df1[df1['Region']=='AME']\n",
    "source = ColumnDataSource(ame)\n",
    "\n",
    "p.scatter(x='CPI score 2019',\n",
    "          y='HDI_index-2019',\n",
    "          color='#c7eae5', alpha=0.8, legend_label='AME',\n",
    "          muted_color='#c7eae5', muted_alpha=0.2,\n",
    "          marker='circle', size=10,\n",
    "          source = source)\n",
    "\n",
    "mena = df1[df1['Region']=='MENA']\n",
    "source = ColumnDataSource(mena)\n",
    "\n",
    "p.scatter(x='CPI score 2019',\n",
    "          y='HDI_index-2019',\n",
    "          color='#f6e8c3', alpha=0.8, legend_label='MENA',\n",
    "          muted_color='#f6e8c3', muted_alpha=0.2,\n",
    "          marker='circle', size=10,\n",
    "          source = source)\n",
    "\n",
    "ssa = df1[df1['Region']=='SSA']\n",
    "source = ColumnDataSource(ssa)\n",
    "\n",
    "p.scatter(x='CPI score 2019',\n",
    "          y='HDI_index-2019',\n",
    "          color='#d8b365', alpha=0.8, legend_label='SSA',\n",
    "          muted_color='#d8b365', muted_alpha=0.2,\n",
    "          marker='circle', size=10,\n",
    "          source = source)\n",
    "\n",
    "eca = df1[df1['Region']=='ECA']\n",
    "source = ColumnDataSource(eca)\n",
    "\n",
    "p.scatter(x='CPI score 2019',\n",
    "          y='HDI_index-2019',\n",
    "          color='#8c510a', alpha=0.8, legend_label='ECA',\n",
    "          muted_color='#8c510a', muted_alpha=0.2,\n",
    "          marker='circle', size=10,\n",
    "          source = source)\n",
    "\n",
    "hover = HoverTool(tooltips=[(\"region\", \"@Region\"),\n",
    "                            ('country', '@Country')])\n",
    "p.add_tools(hover)\n",
    "\n",
    "p.legend.location = \"top_left\"\n",
    "p.xaxis.axis_label = 'CPI index'\n",
    "p.yaxis.axis_label = 'HDI index'\n",
    "p.legend.click_policy=\"mute\"\n",
    "\n",
    "show(p)"
   ]
  },
  {
   "cell_type": "markdown",
   "metadata": {},
   "source": [
    "## Task 1\n",
    "In task 1, we would like to explore the relationship between corruption and the Human Development Index. Firstly, we check the correlation between HDI and the CPI score 2020."
   ]
  },
  {
   "cell_type": "code",
   "execution_count": 68,
   "metadata": {},
   "outputs": [
    {
     "data": {
      "text/plain": [
       "0.7567983382062069"
      ]
     },
     "execution_count": 68,
     "metadata": {},
     "output_type": "execute_result"
    }
   ],
   "source": [
    "df1['CPI score 2019'].corr(df1['HDI_index-2019'])"
   ]
  },
  {
   "cell_type": "markdown",
   "metadata": {},
   "source": [
    "The correlation between HDI and corruption score in 2020 is 0.76, which indicates that the two attributes of a given country are moving together."
   ]
  },
  {
   "cell_type": "code",
   "execution_count": 69,
   "metadata": {},
   "outputs": [],
   "source": [
    "import matplotlib.pyplot as plt"
   ]
  },
  {
   "cell_type": "code",
   "execution_count": 70,
   "metadata": {},
   "outputs": [],
   "source": [
    "%matplotlib inline"
   ]
  },
  {
   "cell_type": "code",
   "execution_count": 71,
   "metadata": {},
   "outputs": [
    {
     "data": {
      "text/plain": [
       "<Figure size 432x288 with 0 Axes>"
      ]
     },
     "execution_count": 71,
     "metadata": {},
     "output_type": "execute_result"
    },
    {
     "data": {
      "text/plain": [
       "<Figure size 432x288 with 0 Axes>"
      ]
     },
     "metadata": {},
     "output_type": "display_data"
    }
   ],
   "source": [
    "plt.figure()"
   ]
  },
  {
   "cell_type": "code",
   "execution_count": 72,
   "metadata": {},
   "outputs": [],
   "source": [
    "import seaborn as sns\n",
    "sns.set(style=\"ticks\")"
   ]
  },
  {
   "cell_type": "code",
   "execution_count": 73,
   "metadata": {},
   "outputs": [
    {
     "data": {
      "text/plain": [
       "<seaborn.axisgrid.FacetGrid at 0x1a5b0942a30>"
      ]
     },
     "execution_count": 73,
     "metadata": {},
     "output_type": "execute_result"
    },
    {
     "data": {
      "image/png": "[encoded data removed]",
      "text/plain": [
       "<Figure size 360x360 with 1 Axes>"
      ]
     },
     "metadata": {},
     "output_type": "display_data"
    }
   ],
   "source": [
    "sns.lmplot(x=\"CPI score 2019\", y=\"HDI_index-2019\", data=df1, lowess = True, palette=\"muted\")"
   ]
  },
  {
   "cell_type": "markdown",
   "metadata": {},
   "source": [
    "If CPI score is increasing (curruption is decreasing), HDI is increasing too. Over a given point (somewhere around CPI=40), the higher corruption score results less higher HDI on average."
   ]
  },
  {
   "cell_type": "code",
   "execution_count": 74,
   "metadata": {},
   "outputs": [],
   "source": [
    "import numpy as np\n",
    "from sklearn.linear_model import LinearRegression\n",
    "from sklearn.model_selection import train_test_split\n",
    "from sklearn import metrics"
   ]
  },
  {
   "cell_type": "markdown",
   "metadata": {},
   "source": [
    "For further analysis, we check if we have missing values in CPI score or HDI. We do have missing values in HDI so we drop those observations."
   ]
  },
  {
   "cell_type": "code",
   "execution_count": 75,
   "metadata": {},
   "outputs": [
    {
     "data": {
      "text/plain": [
       "Country                         False\n",
       "ISO3                            False\n",
       "Region                          False\n",
       "CPI score 2020                  False\n",
       "Rank 2020                       False\n",
       "CPI score 2019                  False\n",
       "Rank 2019                       False\n",
       "CPI score 2016                   True\n",
       "Rank 2016                        True\n",
       "Employment_ratio-2016            True\n",
       "Employment_ratio-2019            True\n",
       "GDP_per_capita-2016              True\n",
       "GDP_per_capita-2019              True\n",
       "HDI_index-2016                   True\n",
       "HDI_index-2019                   True\n",
       "Women_in_parliament_(%)-2016     True\n",
       "Women_in_parliament_(%)-2019     True\n",
       "dtype: bool"
      ]
     },
     "execution_count": 75,
     "metadata": {},
     "output_type": "execute_result"
    }
   ],
   "source": [
    "df1.isnull().any()"
   ]
  },
  {
   "cell_type": "code",
   "execution_count": 76,
   "metadata": {},
   "outputs": [],
   "source": [
    "df1 = df1.dropna(subset=['HDI_index-2019','CPI score 2019'])"
   ]
  },
  {
   "cell_type": "markdown",
   "metadata": {},
   "source": [
    "We set CPI score 2020 as explanatory variable and HDI as dependent variable."
   ]
  },
  {
   "cell_type": "code",
   "execution_count": 77,
   "metadata": {},
   "outputs": [],
   "source": [
    "X = df1[[\"CPI score 2019\"]].values\n",
    "y = df1[\"HDI_index-2019\"].values"
   ]
  },
  {
   "cell_type": "markdown",
   "metadata": {},
   "source": [
    "Let's see the average value of HDI on the plot below."
   ]
  },
  {
   "cell_type": "code",
   "execution_count": 78,
   "metadata": {},
   "outputs": [
    {
     "name": "stderr",
     "output_type": "stream",
     "text": [
      "D:\\Programok\\Anaconda3\\lib\\site-packages\\seaborn\\distributions.py:2551: FutureWarning: `distplot` is a deprecated function and will be removed in a future version. Please adapt your code to use either `displot` (a figure-level function with similar flexibility) or `histplot` (an axes-level function for histograms).\n",
      "  warnings.warn(msg, FutureWarning)\n"
     ]
    },
    {
     "data": {
      "text/plain": [
       "<AxesSubplot:xlabel='HDI_index-2019', ylabel='Density'>"
      ]
     },
     "execution_count": 78,
     "metadata": {},
     "output_type": "execute_result"
    },
    {
     "data": {
      "image/png": "[encoded data removed]",
      "text/plain": [
       "<Figure size 720x360 with 1 Axes>"
      ]
     },
     "metadata": {},
     "output_type": "display_data"
    }
   ],
   "source": [
    "plt.figure(figsize=(10,5))\n",
    "plt.tight_layout()\n",
    "sns.distplot(df1['HDI_index-2019'])\n"
   ]
  },
  {
   "cell_type": "markdown",
   "metadata": {},
   "source": [
    "Next, we split 80% of the data to training set while 20% of the data to test set using below code."
   ]
  },
  {
   "cell_type": "code",
   "execution_count": 79,
   "metadata": {},
   "outputs": [],
   "source": [
    "X_train, X_test, y_train, y_test = train_test_split(X, y, test_size=0.2, random_state=0)"
   ]
  },
  {
   "cell_type": "markdown",
   "metadata": {},
   "source": [
    "Now lets train our model."
   ]
  },
  {
   "cell_type": "code",
   "execution_count": 80,
   "metadata": {},
   "outputs": [
    {
     "data": {
      "text/plain": [
       "LinearRegression()"
      ]
     },
     "execution_count": 80,
     "metadata": {},
     "output_type": "execute_result"
    }
   ],
   "source": [
    "regressor = LinearRegression()  \n",
    "regressor.fit(X_train, y_train)"
   ]
  },
  {
   "cell_type": "code",
   "execution_count": 81,
   "metadata": {},
   "outputs": [
    {
     "data": {
      "text/plain": [
       "(array([0.00635913]),\n",
       " array([[87],\n",
       "        [87],\n",
       "        [86],\n",
       "        [85],\n",
       "        [85],\n",
       "        [85],\n",
       "        [84],\n",
       "        [82],\n",
       "        [80],\n",
       "        [80],\n",
       "        [77],\n",
       "        [77],\n",
       "        [77],\n",
       "        [76],\n",
       "        [75],\n",
       "        [77],\n",
       "        [78],\n",
       "        [74],\n",
       "        [73],\n",
       "        [74],\n",
       "        [71],\n",
       "        [71],\n",
       "        [69],\n",
       "        [68],\n",
       "        [69],\n",
       "        [67],\n",
       "        [66],\n",
       "        [62],\n",
       "        [64],\n",
       "        [62],\n",
       "        [62],\n",
       "        [62],\n",
       "        [59],\n",
       "        [60],\n",
       "        [60],\n",
       "        [61],\n",
       "        [60],\n",
       "        [60],\n",
       "        [59],\n",
       "        [58],\n",
       "        [56],\n",
       "        [56],\n",
       "        [58],\n",
       "        [58],\n",
       "        [55],\n",
       "        [56],\n",
       "        [55],\n",
       "        [56],\n",
       "        [53],\n",
       "        [52],\n",
       "        [53],\n",
       "        [54],\n",
       "        [52],\n",
       "        [53],\n",
       "        [53],\n",
       "        [52],\n",
       "        [53],\n",
       "        [48],\n",
       "        [50],\n",
       "        [48],\n",
       "        [42],\n",
       "        [47],\n",
       "        [48],\n",
       "        [46],\n",
       "        [45],\n",
       "        [45],\n",
       "        [45],\n",
       "        [44],\n",
       "        [44],\n",
       "        [44],\n",
       "        [43],\n",
       "        [43],\n",
       "        [43],\n",
       "        [41],\n",
       "        [29],\n",
       "        [46],\n",
       "        [42],\n",
       "        [42],\n",
       "        [40],\n",
       "        [41],\n",
       "        [45],\n",
       "        [40],\n",
       "        [41],\n",
       "        [40],\n",
       "        [40],\n",
       "        [39],\n",
       "        [41],\n",
       "        [41],\n",
       "        [38],\n",
       "        [40],\n",
       "        [37],\n",
       "        [38],\n",
       "        [44],\n",
       "        [39],\n",
       "        [35],\n",
       "        [38],\n",
       "        [36],\n",
       "        [37],\n",
       "        [37],\n",
       "        [34],\n",
       "        [40],\n",
       "        [37],\n",
       "        [35],\n",
       "        [34],\n",
       "        [36],\n",
       "        [35],\n",
       "        [35],\n",
       "        [37],\n",
       "        [36],\n",
       "        [35],\n",
       "        [36],\n",
       "        [35],\n",
       "        [34],\n",
       "        [32],\n",
       "        [34],\n",
       "        [35],\n",
       "        [33],\n",
       "        [34],\n",
       "        [30],\n",
       "        [34],\n",
       "        [32],\n",
       "        [31],\n",
       "        [32],\n",
       "        [29],\n",
       "        [30],\n",
       "        [28],\n",
       "        [31],\n",
       "        [29],\n",
       "        [31],\n",
       "        [30],\n",
       "        [28],\n",
       "        [29],\n",
       "        [29],\n",
       "        [28],\n",
       "        [28],\n",
       "        [28],\n",
       "        [28],\n",
       "        [29],\n",
       "        [29],\n",
       "        [30],\n",
       "        [28],\n",
       "        [28],\n",
       "        [26],\n",
       "        [26],\n",
       "        [25],\n",
       "        [25],\n",
       "        [26],\n",
       "        [26],\n",
       "        [28],\n",
       "        [26],\n",
       "        [26],\n",
       "        [25],\n",
       "        [24],\n",
       "        [25],\n",
       "        [26],\n",
       "        [24],\n",
       "        [22],\n",
       "        [25],\n",
       "        [20],\n",
       "        [20],\n",
       "        [23],\n",
       "        [20],\n",
       "        [19],\n",
       "        [19],\n",
       "        [19],\n",
       "        [18],\n",
       "        [16],\n",
       "        [18],\n",
       "        [18],\n",
       "        [18],\n",
       "        [16],\n",
       "        [16],\n",
       "        [16],\n",
       "        [15],\n",
       "        [13],\n",
       "        [12]], dtype=int64))"
      ]
     },
     "execution_count": 81,
     "metadata": {},
     "output_type": "execute_result"
    }
   ],
   "source": [
    "regressor.coef_, X"
   ]
  },
  {
   "cell_type": "markdown",
   "metadata": {},
   "source": [
    "Based on the regression above, we can see that the coefficient is 0.00635913, which means that if the corruption score is increased by 1, the HDI is increased by 0.00635913 on average."
   ]
  },
  {
   "cell_type": "markdown",
   "metadata": {},
   "source": [
    "Let's make a prediction based on CPI score 2020 to see, how good predictor corruption is for HDI."
   ]
  },
  {
   "cell_type": "code",
   "execution_count": 82,
   "metadata": {},
   "outputs": [],
   "source": [
    "y_pred = regressor.predict(X_test)"
   ]
  },
  {
   "cell_type": "code",
   "execution_count": 83,
   "metadata": {},
   "outputs": [
    {
     "data": {
      "text/html": [
       "<div>\n",
       "<style scoped>\n",
       "    .dataframe tbody tr th:only-of-type {\n",
       "        vertical-align: middle;\n",
       "    }\n",
       "\n",
       "    .dataframe tbody tr th {\n",
       "        vertical-align: top;\n",
       "    }\n",
       "\n",
       "    .dataframe thead th {\n",
       "        text-align: right;\n",
       "    }\n",
       "</style>\n",
       "<table border=\"1\" class=\"dataframe\">\n",
       "  <thead>\n",
       "    <tr style=\"text-align: right;\">\n",
       "      <th></th>\n",
       "      <th>Actual</th>\n",
       "      <th>Predicted</th>\n",
       "    </tr>\n",
       "  </thead>\n",
       "  <tbody>\n",
       "    <tr>\n",
       "      <th>0</th>\n",
       "      <td>0.854</td>\n",
       "      <td>0.779118</td>\n",
       "    </tr>\n",
       "    <tr>\n",
       "      <th>1</th>\n",
       "      <td>0.539</td>\n",
       "      <td>0.607421</td>\n",
       "    </tr>\n",
       "    <tr>\n",
       "      <th>2</th>\n",
       "      <td>0.625</td>\n",
       "      <td>0.734604</td>\n",
       "    </tr>\n",
       "    <tr>\n",
       "      <th>3</th>\n",
       "      <td>0.646</td>\n",
       "      <td>0.772759</td>\n",
       "    </tr>\n",
       "    <tr>\n",
       "      <th>4</th>\n",
       "      <td>0.557</td>\n",
       "      <td>0.645576</td>\n",
       "    </tr>\n",
       "    <tr>\n",
       "      <th>5</th>\n",
       "      <td>0.496</td>\n",
       "      <td>0.677372</td>\n",
       "    </tr>\n",
       "    <tr>\n",
       "      <th>6</th>\n",
       "      <td>0.944</td>\n",
       "      <td>0.963533</td>\n",
       "    </tr>\n",
       "    <tr>\n",
       "      <th>7</th>\n",
       "      <td>0.594</td>\n",
       "      <td>0.569267</td>\n",
       "    </tr>\n",
       "    <tr>\n",
       "      <th>8</th>\n",
       "      <td>0.824</td>\n",
       "      <td>0.620140</td>\n",
       "    </tr>\n",
       "    <tr>\n",
       "      <th>9</th>\n",
       "      <td>0.796</td>\n",
       "      <td>0.696449</td>\n",
       "    </tr>\n",
       "    <tr>\n",
       "      <th>10</th>\n",
       "      <td>0.524</td>\n",
       "      <td>0.632858</td>\n",
       "    </tr>\n",
       "    <tr>\n",
       "      <th>11</th>\n",
       "      <td>0.720</td>\n",
       "      <td>0.601062</td>\n",
       "    </tr>\n",
       "    <tr>\n",
       "      <th>12</th>\n",
       "      <td>0.938</td>\n",
       "      <td>0.982610</td>\n",
       "    </tr>\n",
       "    <tr>\n",
       "      <th>13</th>\n",
       "      <td>0.485</td>\n",
       "      <td>0.677372</td>\n",
       "    </tr>\n",
       "    <tr>\n",
       "      <th>14</th>\n",
       "      <td>0.511</td>\n",
       "      <td>0.543830</td>\n",
       "    </tr>\n",
       "    <tr>\n",
       "      <th>15</th>\n",
       "      <td>0.806</td>\n",
       "      <td>0.690090</td>\n",
       "    </tr>\n",
       "    <tr>\n",
       "      <th>16</th>\n",
       "      <td>0.919</td>\n",
       "      <td>0.823632</td>\n",
       "    </tr>\n",
       "    <tr>\n",
       "      <th>17</th>\n",
       "      <td>0.919</td>\n",
       "      <td>0.906300</td>\n",
       "    </tr>\n",
       "    <tr>\n",
       "      <th>18</th>\n",
       "      <td>0.851</td>\n",
       "      <td>0.740963</td>\n",
       "    </tr>\n",
       "    <tr>\n",
       "      <th>19</th>\n",
       "      <td>0.895</td>\n",
       "      <td>0.785477</td>\n",
       "    </tr>\n",
       "    <tr>\n",
       "      <th>20</th>\n",
       "      <td>0.512</td>\n",
       "      <td>0.728245</td>\n",
       "    </tr>\n",
       "    <tr>\n",
       "      <th>21</th>\n",
       "      <td>0.838</td>\n",
       "      <td>0.823632</td>\n",
       "    </tr>\n",
       "    <tr>\n",
       "      <th>22</th>\n",
       "      <td>0.955</td>\n",
       "      <td>0.982610</td>\n",
       "    </tr>\n",
       "    <tr>\n",
       "      <th>23</th>\n",
       "      <td>0.697</td>\n",
       "      <td>0.632858</td>\n",
       "    </tr>\n",
       "    <tr>\n",
       "      <th>24</th>\n",
       "      <td>0.776</td>\n",
       "      <td>0.709167</td>\n",
       "    </tr>\n",
       "    <tr>\n",
       "      <th>25</th>\n",
       "      <td>0.815</td>\n",
       "      <td>0.671013</td>\n",
       "    </tr>\n",
       "    <tr>\n",
       "      <th>26</th>\n",
       "      <td>0.601</td>\n",
       "      <td>0.620140</td>\n",
       "    </tr>\n",
       "    <tr>\n",
       "      <th>27</th>\n",
       "      <td>0.668</td>\n",
       "      <td>0.601062</td>\n",
       "    </tr>\n",
       "    <tr>\n",
       "      <th>28</th>\n",
       "      <td>0.774</td>\n",
       "      <td>0.664654</td>\n",
       "    </tr>\n",
       "    <tr>\n",
       "      <th>29</th>\n",
       "      <td>0.715</td>\n",
       "      <td>0.562907</td>\n",
       "    </tr>\n",
       "    <tr>\n",
       "      <th>30</th>\n",
       "      <td>0.796</td>\n",
       "      <td>0.861787</td>\n",
       "    </tr>\n",
       "    <tr>\n",
       "      <th>31</th>\n",
       "      <td>0.810</td>\n",
       "      <td>0.779118</td>\n",
       "    </tr>\n",
       "    <tr>\n",
       "      <th>32</th>\n",
       "      <td>0.728</td>\n",
       "      <td>0.620140</td>\n",
       "    </tr>\n",
       "    <tr>\n",
       "      <th>33</th>\n",
       "      <td>0.812</td>\n",
       "      <td>0.798195</td>\n",
       "    </tr>\n",
       "    <tr>\n",
       "      <th>34</th>\n",
       "      <td>0.947</td>\n",
       "      <td>0.950814</td>\n",
       "    </tr>\n",
       "    <tr>\n",
       "      <th>35</th>\n",
       "      <td>0.759</td>\n",
       "      <td>0.791836</td>\n",
       "    </tr>\n",
       "  </tbody>\n",
       "</table>\n",
       "</div>"
      ],
      "text/plain": [
       "    Actual  Predicted\n",
       "0    0.854   0.779118\n",
       "1    0.539   0.607421\n",
       "2    0.625   0.734604\n",
       "3    0.646   0.772759\n",
       "4    0.557   0.645576\n",
       "5    0.496   0.677372\n",
       "6    0.944   0.963533\n",
       "7    0.594   0.569267\n",
       "8    0.824   0.620140\n",
       "9    0.796   0.696449\n",
       "10   0.524   0.632858\n",
       "11   0.720   0.601062\n",
       "12   0.938   0.982610\n",
       "13   0.485   0.677372\n",
       "14   0.511   0.543830\n",
       "15   0.806   0.690090\n",
       "16   0.919   0.823632\n",
       "17   0.919   0.906300\n",
       "18   0.851   0.740963\n",
       "19   0.895   0.785477\n",
       "20   0.512   0.728245\n",
       "21   0.838   0.823632\n",
       "22   0.955   0.982610\n",
       "23   0.697   0.632858\n",
       "24   0.776   0.709167\n",
       "25   0.815   0.671013\n",
       "26   0.601   0.620140\n",
       "27   0.668   0.601062\n",
       "28   0.774   0.664654\n",
       "29   0.715   0.562907\n",
       "30   0.796   0.861787\n",
       "31   0.810   0.779118\n",
       "32   0.728   0.620140\n",
       "33   0.812   0.798195\n",
       "34   0.947   0.950814\n",
       "35   0.759   0.791836"
      ]
     },
     "execution_count": 83,
     "metadata": {},
     "output_type": "execute_result"
    }
   ],
   "source": [
    "df_pred = pd.DataFrame({'Actual': y_test, 'Predicted': y_pred})\n",
    "\n",
    "df_pred1 = df_pred.head(25)\n",
    "\n",
    "df_pred"
   ]
  },
  {
   "cell_type": "markdown",
   "metadata": {},
   "source": [
    "Based on the metrics below, corruption can be a meaningful predictor of HDI. "
   ]
  },
  {
   "cell_type": "code",
   "execution_count": 84,
   "metadata": {},
   "outputs": [
    {
     "name": "stdout",
     "output_type": "stream",
     "text": [
      "Mean Absolute Error: 0.08539228748237408\n",
      "Mean Squared Error: 0.010544943682237006\n",
      "Root Mean Squared Error: 0.10268857620123577\n"
     ]
    }
   ],
   "source": [
    "print('Mean Absolute Error:', metrics.mean_absolute_error(y_test, y_pred))  \n",
    "print('Mean Squared Error:', metrics.mean_squared_error(y_test, y_pred))  \n",
    "print('Root Mean Squared Error:', np.sqrt(metrics.mean_squared_error(y_test, y_pred)))"
   ]
  },
  {
   "cell_type": "markdown",
   "metadata": {},
   "source": [
    "## Task 2"
   ]
  },
  {
   "cell_type": "code",
   "execution_count": 100,
   "metadata": {},
   "outputs": [
    {
     "data": {
      "text/html": [
       "<div>\n",
       "<style scoped>\n",
       "    .dataframe tbody tr th:only-of-type {\n",
       "        vertical-align: middle;\n",
       "    }\n",
       "\n",
       "    .dataframe tbody tr th {\n",
       "        vertical-align: top;\n",
       "    }\n",
       "\n",
       "    .dataframe thead th {\n",
       "        text-align: right;\n",
       "    }\n",
       "</style>\n",
       "<table border=\"1\" class=\"dataframe\">\n",
       "  <thead>\n",
       "    <tr style=\"text-align: right;\">\n",
       "      <th></th>\n",
       "      <th>Country</th>\n",
       "      <th>ISO3</th>\n",
       "      <th>Region</th>\n",
       "      <th>CPI score 2020</th>\n",
       "      <th>Rank 2020</th>\n",
       "      <th>CPI score 2019</th>\n",
       "      <th>Rank 2019</th>\n",
       "      <th>CPI score 2016</th>\n",
       "      <th>Rank 2016</th>\n",
       "      <th>Employment_ratio-2016</th>\n",
       "      <th>Employment_ratio-2019</th>\n",
       "      <th>GDP_per_capita-2016</th>\n",
       "      <th>GDP_per_capita-2019</th>\n",
       "      <th>HDI_index-2016</th>\n",
       "      <th>HDI_index-2019</th>\n",
       "      <th>Women_in_parliament_(%)-2016</th>\n",
       "      <th>Women_in_parliament_(%)-2019</th>\n",
       "      <th>CPI_Rank_difference</th>\n",
       "    </tr>\n",
       "  </thead>\n",
       "  <tbody>\n",
       "    <tr>\n",
       "      <th>101</th>\n",
       "      <td>Gambia</td>\n",
       "      <td>GMB</td>\n",
       "      <td>SSA</td>\n",
       "      <td>37</td>\n",
       "      <td>102</td>\n",
       "      <td>37</td>\n",
       "      <td>96</td>\n",
       "      <td>26.0</td>\n",
       "      <td>145.0</td>\n",
       "      <td>53.679</td>\n",
       "      <td>54.021</td>\n",
       "      <td>2036.872</td>\n",
       "      <td>2206.913</td>\n",
       "      <td>0.475</td>\n",
       "      <td>0.496</td>\n",
       "      <td>9.434</td>\n",
       "      <td>10.345</td>\n",
       "      <td>49.0</td>\n",
       "    </tr>\n",
       "    <tr>\n",
       "      <th>60</th>\n",
       "      <td>Armenia</td>\n",
       "      <td>ARM</td>\n",
       "      <td>ECA</td>\n",
       "      <td>49</td>\n",
       "      <td>60</td>\n",
       "      <td>42</td>\n",
       "      <td>77</td>\n",
       "      <td>33.0</td>\n",
       "      <td>113.0</td>\n",
       "      <td>46.097</td>\n",
       "      <td>46.173</td>\n",
       "      <td>11303.072</td>\n",
       "      <td>13653.750</td>\n",
       "      <td>0.766</td>\n",
       "      <td>0.776</td>\n",
       "      <td>10.687</td>\n",
       "      <td>23.485</td>\n",
       "      <td>36.0</td>\n",
       "    </tr>\n",
       "    <tr>\n",
       "      <th>80</th>\n",
       "      <td>Argentina</td>\n",
       "      <td>ARG</td>\n",
       "      <td>AME</td>\n",
       "      <td>42</td>\n",
       "      <td>78</td>\n",
       "      <td>45</td>\n",
       "      <td>66</td>\n",
       "      <td>36.0</td>\n",
       "      <td>95.0</td>\n",
       "      <td>55.500</td>\n",
       "      <td>55.301</td>\n",
       "      <td>23189.731</td>\n",
       "      <td>22033.945</td>\n",
       "      <td>0.839</td>\n",
       "      <td>0.845</td>\n",
       "      <td>37.082</td>\n",
       "      <td>39.877</td>\n",
       "      <td>29.0</td>\n",
       "    </tr>\n",
       "    <tr>\n",
       "      <th>91</th>\n",
       "      <td>Ecuador</td>\n",
       "      <td>ECU</td>\n",
       "      <td>AME</td>\n",
       "      <td>39</td>\n",
       "      <td>92</td>\n",
       "      <td>38</td>\n",
       "      <td>93</td>\n",
       "      <td>31.0</td>\n",
       "      <td>120.0</td>\n",
       "      <td>65.264</td>\n",
       "      <td>65.338</td>\n",
       "      <td>11551.617</td>\n",
       "      <td>11375.331</td>\n",
       "      <td>0.758</td>\n",
       "      <td>0.759</td>\n",
       "      <td>41.606</td>\n",
       "      <td>37.956</td>\n",
       "      <td>27.0</td>\n",
       "    </tr>\n",
       "    <tr>\n",
       "      <th>83</th>\n",
       "      <td>Guyana</td>\n",
       "      <td>GUY</td>\n",
       "      <td>AME</td>\n",
       "      <td>41</td>\n",
       "      <td>83</td>\n",
       "      <td>40</td>\n",
       "      <td>85</td>\n",
       "      <td>34.0</td>\n",
       "      <td>108.0</td>\n",
       "      <td>49.419</td>\n",
       "      <td>49.524</td>\n",
       "      <td>8848.151</td>\n",
       "      <td>9702.579</td>\n",
       "      <td>0.676</td>\n",
       "      <td>0.682</td>\n",
       "      <td>30.435</td>\n",
       "      <td>31.884</td>\n",
       "      <td>23.0</td>\n",
       "    </tr>\n",
       "    <tr>\n",
       "      <th>...</th>\n",
       "      <td>...</td>\n",
       "      <td>...</td>\n",
       "      <td>...</td>\n",
       "      <td>...</td>\n",
       "      <td>...</td>\n",
       "      <td>...</td>\n",
       "      <td>...</td>\n",
       "      <td>...</td>\n",
       "      <td>...</td>\n",
       "      <td>...</td>\n",
       "      <td>...</td>\n",
       "      <td>...</td>\n",
       "      <td>...</td>\n",
       "      <td>...</td>\n",
       "      <td>...</td>\n",
       "      <td>...</td>\n",
       "      <td>...</td>\n",
       "      <td>...</td>\n",
       "    </tr>\n",
       "    <tr>\n",
       "      <th>134</th>\n",
       "      <td>Liberia</td>\n",
       "      <td>LBR</td>\n",
       "      <td>SSA</td>\n",
       "      <td>28</td>\n",
       "      <td>137</td>\n",
       "      <td>28</td>\n",
       "      <td>137</td>\n",
       "      <td>37.0</td>\n",
       "      <td>90.0</td>\n",
       "      <td>74.393</td>\n",
       "      <td>74.167</td>\n",
       "      <td>1516.356</td>\n",
       "      <td>1427.819</td>\n",
       "      <td>0.478</td>\n",
       "      <td>0.480</td>\n",
       "      <td>10.680</td>\n",
       "      <td>11.650</td>\n",
       "      <td>-47.0</td>\n",
       "    </tr>\n",
       "    <tr>\n",
       "      <th>26</th>\n",
       "      <td>Seychelles</td>\n",
       "      <td>SYC</td>\n",
       "      <td>SSA</td>\n",
       "      <td>66</td>\n",
       "      <td>27</td>\n",
       "      <td>66</td>\n",
       "      <td>27</td>\n",
       "      <td>NaN</td>\n",
       "      <td>NaN</td>\n",
       "      <td>NaN</td>\n",
       "      <td>NaN</td>\n",
       "      <td>26421.941</td>\n",
       "      <td>29055.749</td>\n",
       "      <td>0.787</td>\n",
       "      <td>0.796</td>\n",
       "      <td>21.212</td>\n",
       "      <td>21.212</td>\n",
       "      <td>NaN</td>\n",
       "    </tr>\n",
       "    <tr>\n",
       "      <th>75</th>\n",
       "      <td>Vanuatu</td>\n",
       "      <td>VUT</td>\n",
       "      <td>AP</td>\n",
       "      <td>43</td>\n",
       "      <td>75</td>\n",
       "      <td>46</td>\n",
       "      <td>64</td>\n",
       "      <td>NaN</td>\n",
       "      <td>NaN</td>\n",
       "      <td>66.791</td>\n",
       "      <td>66.811</td>\n",
       "      <td>3066.322</td>\n",
       "      <td>3143.628</td>\n",
       "      <td>0.598</td>\n",
       "      <td>0.609</td>\n",
       "      <td>0.100</td>\n",
       "      <td>0.100</td>\n",
       "      <td>NaN</td>\n",
       "    </tr>\n",
       "    <tr>\n",
       "      <th>119</th>\n",
       "      <td>Eswatini</td>\n",
       "      <td>SWZ</td>\n",
       "      <td>SSA</td>\n",
       "      <td>33</td>\n",
       "      <td>117</td>\n",
       "      <td>34</td>\n",
       "      <td>113</td>\n",
       "      <td>NaN</td>\n",
       "      <td>NaN</td>\n",
       "      <td>39.917</td>\n",
       "      <td>40.910</td>\n",
       "      <td>8405.799</td>\n",
       "      <td>8688.101</td>\n",
       "      <td>0.588</td>\n",
       "      <td>0.611</td>\n",
       "      <td>14.737</td>\n",
       "      <td>12.121</td>\n",
       "      <td>NaN</td>\n",
       "    </tr>\n",
       "    <tr>\n",
       "      <th>172</th>\n",
       "      <td>Equatorial Guinea</td>\n",
       "      <td>GNQ</td>\n",
       "      <td>SSA</td>\n",
       "      <td>16</td>\n",
       "      <td>174</td>\n",
       "      <td>16</td>\n",
       "      <td>173</td>\n",
       "      <td>NaN</td>\n",
       "      <td>NaN</td>\n",
       "      <td>57.953</td>\n",
       "      <td>57.981</td>\n",
       "      <td>24827.073</td>\n",
       "      <td>18558.004</td>\n",
       "      <td>0.588</td>\n",
       "      <td>0.592</td>\n",
       "      <td>19.653</td>\n",
       "      <td>19.186</td>\n",
       "      <td>NaN</td>\n",
       "    </tr>\n",
       "  </tbody>\n",
       "</table>\n",
       "<p>176 rows × 18 columns</p>\n",
       "</div>"
      ],
      "text/plain": [
       "               Country ISO3 Region  CPI score 2020  Rank 2020  CPI score 2019  \\\n",
       "101             Gambia  GMB    SSA              37        102              37   \n",
       "60             Armenia  ARM    ECA              49         60              42   \n",
       "80           Argentina  ARG    AME              42         78              45   \n",
       "91             Ecuador  ECU    AME              39         92              38   \n",
       "83              Guyana  GUY    AME              41         83              40   \n",
       "..                 ...  ...    ...             ...        ...             ...   \n",
       "134            Liberia  LBR    SSA              28        137              28   \n",
       "26          Seychelles  SYC    SSA              66         27              66   \n",
       "75             Vanuatu  VUT     AP              43         75              46   \n",
       "119           Eswatini  SWZ    SSA              33        117              34   \n",
       "172  Equatorial Guinea  GNQ    SSA              16        174              16   \n",
       "\n",
       "     Rank 2019  CPI score 2016  Rank 2016  Employment_ratio-2016  \\\n",
       "101         96            26.0      145.0                 53.679   \n",
       "60          77            33.0      113.0                 46.097   \n",
       "80          66            36.0       95.0                 55.500   \n",
       "91          93            31.0      120.0                 65.264   \n",
       "83          85            34.0      108.0                 49.419   \n",
       "..         ...             ...        ...                    ...   \n",
       "134        137            37.0       90.0                 74.393   \n",
       "26          27             NaN        NaN                    NaN   \n",
       "75          64             NaN        NaN                 66.791   \n",
       "119        113             NaN        NaN                 39.917   \n",
       "172        173             NaN        NaN                 57.953   \n",
       "\n",
       "     Employment_ratio-2019  GDP_per_capita-2016  GDP_per_capita-2019  \\\n",
       "101                 54.021             2036.872             2206.913   \n",
       "60                  46.173            11303.072            13653.750   \n",
       "80                  55.301            23189.731            22033.945   \n",
       "91                  65.338            11551.617            11375.331   \n",
       "83                  49.524             8848.151             9702.579   \n",
       "..                     ...                  ...                  ...   \n",
       "134                 74.167             1516.356             1427.819   \n",
       "26                     NaN            26421.941            29055.749   \n",
       "75                  66.811             3066.322             3143.628   \n",
       "119                 40.910             8405.799             8688.101   \n",
       "172                 57.981            24827.073            18558.004   \n",
       "\n",
       "     HDI_index-2016  HDI_index-2019  Women_in_parliament_(%)-2016  \\\n",
       "101           0.475           0.496                         9.434   \n",
       "60            0.766           0.776                        10.687   \n",
       "80            0.839           0.845                        37.082   \n",
       "91            0.758           0.759                        41.606   \n",
       "83            0.676           0.682                        30.435   \n",
       "..              ...             ...                           ...   \n",
       "134           0.478           0.480                        10.680   \n",
       "26            0.787           0.796                        21.212   \n",
       "75            0.598           0.609                         0.100   \n",
       "119           0.588           0.611                        14.737   \n",
       "172           0.588           0.592                        19.653   \n",
       "\n",
       "     Women_in_parliament_(%)-2019  CPI_Rank_difference  \n",
       "101                        10.345                 49.0  \n",
       "60                         23.485                 36.0  \n",
       "80                         39.877                 29.0  \n",
       "91                         37.956                 27.0  \n",
       "83                         31.884                 23.0  \n",
       "..                            ...                  ...  \n",
       "134                        11.650                -47.0  \n",
       "26                         21.212                  NaN  \n",
       "75                          0.100                  NaN  \n",
       "119                        12.121                  NaN  \n",
       "172                        19.186                  NaN  \n",
       "\n",
       "[176 rows x 18 columns]"
      ]
     },
     "execution_count": 100,
     "metadata": {},
     "output_type": "execute_result"
    }
   ],
   "source": [
    "df1['CPI_Rank_difference'] = df1[\"Rank 2016\"]-df1[\"Rank 2019\"]\n",
    "df1.sort_values(by=['CPI_Rank_difference'], ascending = False)"
   ]
  },
  {
   "cell_type": "code",
   "execution_count": null,
   "metadata": {},
   "outputs": [],
   "source": [
    "# Top 5 countries or top 10\n",
    "# and their ranking movements on a horizontal bar chart\n",
    "\n",
    "\n"
   ]
  },
  {
   "cell_type": "code",
   "execution_count": null,
   "metadata": {},
   "outputs": [],
   "source": []
  },
  {
   "cell_type": "code",
   "execution_count": null,
   "metadata": {},
   "outputs": [],
   "source": []
  }
 ],
 "metadata": {
  "kernelspec": {
   "display_name": "Python 3",
   "language": "python",
   "name": "python3"
  },
  "language_info": {
   "codemirror_mode": {
    "name": "ipython",
    "version": 3
   },
   "file_extension": ".py",
   "mimetype": "text/x-python",
   "name": "python",
   "nbconvert_exporter": "python",
   "pygments_lexer": "ipython3",
   "version": "3.8.5"
  }
 },
 "nbformat": 4,
 "nbformat_minor": 4
}
